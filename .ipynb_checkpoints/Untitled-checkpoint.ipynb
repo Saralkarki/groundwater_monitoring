{
 "cells": [
  {
   "cell_type": "code",
   "execution_count": 1,
   "id": "intermediate-consideration",
   "metadata": {},
   "outputs": [],
   "source": [
    "import pandas as pd"
   ]
  },
  {
   "cell_type": "code",
   "execution_count": 2,
   "id": "cardiac-buffalo",
   "metadata": {},
   "outputs": [],
   "source": [
    "df = pd.read_excel('data/preloaded_data/updated_well_data.xlsx')"
   ]
  },
  {
   "cell_type": "code",
   "execution_count": 5,
   "id": "reasonable-transparency",
   "metadata": {},
   "outputs": [],
   "source": [
    "location = df['Location'].tolist()"
   ]
  },
  {
   "cell_type": "code",
   "execution_count": 6,
   "id": "hollywood-recipient",
   "metadata": {},
   "outputs": [],
   "source": [
    "well_no = df['well_no'].tolist()"
   ]
  },
  {
   "cell_type": "code",
   "execution_count": 9,
   "id": "refined-recorder",
   "metadata": {},
   "outputs": [],
   "source": [
    "df_banke_stw = df[df['district']== 'Banke']"
   ]
  },
  {
   "cell_type": "code",
   "execution_count": null,
   "id": "capital-controversy",
   "metadata": {},
   "outputs": [],
   "source": []
  },
  {
   "cell_type": "code",
   "execution_count": 8,
   "id": "seasonal-hypothesis",
   "metadata": {},
   "outputs": [
    {
     "data": {
      "text/plain": [
       "[{'label': 'Rohini Khola', 'value': 'bk-sw-01'},\n",
       " {'label': 'Jabdhawa', 'value': 'bk-sw-02'},\n",
       " {'label': 'Banktuwa', 'value': 'bk-sw-03'},\n",
       " {'label': 'Channawa', 'value': 'bk-sw-04'},\n",
       " {'label': 'Thapawa', 'value': 'bk-sw-05_1'},\n",
       " {'label': 'Piprahwa', 'value': 'bk-sw-06_1'},\n",
       " {'label': 'Bhujai', 'value': 'bk-sw-07_1'},\n",
       " {'label': 'Birta', 'value': 'bk-sw-08_1'},\n",
       " {'label': 'Sikhanpurwa', 'value': 'bk-sw-09_1'},\n",
       " {'label': 'Kharaicha', 'value': 'bk-sw-10_1'},\n",
       " {'label': 'Jaishpur', 'value': 'bk-sw-11_1'},\n",
       " {'label': 'D-gaon', 'value': 'bk-sw-17_1'},\n",
       " {'label': 'Kalhansgaon', 'value': 'bk-sw-18_1'},\n",
       " {'label': 'Gaughat', 'value': 'bk-sw-19_1'},\n",
       " {'label': 'Mahadevpuri', 'value': 'bk-sw-20_1'},\n",
       " {'label': 'Office compound', 'value': 'bk-sw-24_1'},\n",
       " {'label': 'Kajurakurda', 'value': 'bk-sw-25_1'},\n",
       " {'label': 'Banjaregaon', 'value': 'bk-sw-26'},\n",
       " {'label': 'Ramapurwa', 'value': 'bk-sw-27'},\n",
       " {'label': 'Jaogagaun', 'value': 'bk-sw-28'},\n",
       " {'label': 'Baldipurwa', 'value': 'bk-sw-29'},\n",
       " {'label': 'Harbaldoli', 'value': 'bk-sw-30'},\n",
       " {'label': 'Bertani', 'value': 'bd-sw-01'},\n",
       " {'label': 'Bakharikurd', 'value': 'bd-sw-02'},\n",
       " {'label': 'Mainapokhar', 'value': 'bd-sw-03'},\n",
       " {'label': 'Bangai', 'value': 'bd-sw-04'},\n",
       " {'label': 'Bhaisahi', 'value': 'bd-sw-05'},\n",
       " {'label': 'Rain Nagar', 'value': 'bd-sw-06'},\n",
       " {'label': 'Megara Gadhi', 'value': 'bd-sw-07'},\n",
       " {'label': 'Auri', 'value': 'bd-sw-08'},\n",
       " {'label': 'Khairapur', 'value': 'bd-sw-09'},\n",
       " {'label': 'Padnaha', 'value': 'bd-sw-10'},\n",
       " {'label': 'Baniyabhar', 'value': 'bd-sw-11'},\n",
       " {'label': 'Taratal', 'value': 'bd-sw-12'},\n",
       " {'label': 'Madhubhan', 'value': 'bd-sw-13'},\n",
       " {'label': 'Begnaha', 'value': 'bd-sw-14'},\n",
       " {'label': 'Bhurigaon', 'value': 'bd-sw-15'},\n",
       " {'label': 'Newlpur', 'value': 'bd-sw-16'},\n",
       " {'label': 'Thakurdwaar', 'value': 'bd-sw-17'},\n",
       " {'label': 'Shoharawa', 'value': 'bd-sw-18'},\n",
       " {'label': 'Bhawanipur', 'value': 'bd-sw-19'},\n",
       " {'label': 'Shoharawa', 'value': 'bd-sw-20'},\n",
       " {'label': 'Belwa', 'value': 'bd-sw-21'},\n",
       " {'label': 'Belwa', 'value': 'bd-sw-22'},\n",
       " {'label': 'Janaki Tool', 'value': 'bd-sw-23'}]"
      ]
     },
     "execution_count": 8,
     "metadata": {},
     "output_type": "execute_result"
    }
   ],
   "source": [
    "[{'label': i, 'value': j} for i,j in zip(location,well_no)]    "
   ]
  },
  {
   "cell_type": "code",
   "execution_count": null,
   "id": "ancient-habitat",
   "metadata": {},
   "outputs": [],
   "source": []
  }
 ],
 "metadata": {
  "kernelspec": {
   "display_name": "Python 3",
   "language": "python",
   "name": "python3"
  },
  "language_info": {
   "codemirror_mode": {
    "name": "ipython",
    "version": 3
   },
   "file_extension": ".py",
   "mimetype": "text/x-python",
   "name": "python",
   "nbconvert_exporter": "python",
   "pygments_lexer": "ipython3",
   "version": "3.8.5"
  }
 },
 "nbformat": 4,
 "nbformat_minor": 5
}
