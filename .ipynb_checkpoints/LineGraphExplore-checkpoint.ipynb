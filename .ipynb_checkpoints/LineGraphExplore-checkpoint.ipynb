{
 "cells": [
  {
   "cell_type": "code",
   "execution_count": null,
   "id": "49d4af9a",
   "metadata": {},
   "outputs": [],
   "source": []
  },
  {
   "cell_type": "code",
   "execution_count": 1,
   "id": "6b700829",
   "metadata": {},
   "outputs": [
    {
     "name": "stderr",
     "output_type": "stream",
     "text": [
      "/home/au/miniconda3/envs/analytics/lib/python3.8/site-packages/pandas/core/frame.py:1549: FutureWarning: Using short name for 'orient' is deprecated. Only the options: ('dict', list, 'series', 'split', 'records', 'index') will be used in a future version. Use one of the above to silence this warning.\n",
      "  warnings.warn(\n",
      "/home/au/work/groundwater_monitoring/figures.py:30: SettingWithCopyWarning: \n",
      "A value is trying to be set on a copy of a slice from a DataFrame.\n",
      "Try using .loc[row_indexer,col_indexer] = value instead\n",
      "\n",
      "See the caveats in the documentation: https://pandas.pydata.org/pandas-docs/stable/user_guide/indexing.html#returning-a-view-versus-a-copy\n",
      "  odk_latest['lat'] = lat.astype('float')\n",
      "/home/au/work/groundwater_monitoring/figures.py:31: SettingWithCopyWarning: \n",
      "A value is trying to be set on a copy of a slice from a DataFrame.\n",
      "Try using .loc[row_indexer,col_indexer] = value instead\n",
      "\n",
      "See the caveats in the documentation: https://pandas.pydata.org/pandas-docs/stable/user_guide/indexing.html#returning-a-view-versus-a-copy\n",
      "  odk_latest['lon'] = lon.astype('float')\n",
      "/home/au/work/groundwater_monitoring/figures.py:44: SettingWithCopyWarning: \n",
      "A value is trying to be set on a copy of a slice from a DataFrame.\n",
      "Try using .loc[row_indexer,col_indexer] = value instead\n",
      "\n",
      "See the caveats in the documentation: https://pandas.pydata.org/pandas-docs/stable/user_guide/indexing.html#returning-a-view-versus-a-copy\n",
      "  odk_latest['hover1'] = np.repeat(\"GW Level: \", len(odk_latest))\n",
      "/home/au/work/groundwater_monitoring/figures.py:45: SettingWithCopyWarning: \n",
      "A value is trying to be set on a copy of a slice from a DataFrame.\n",
      "Try using .loc[row_indexer,col_indexer] = value instead\n",
      "\n",
      "See the caveats in the documentation: https://pandas.pydata.org/pandas-docs/stable/user_guide/indexing.html#returning-a-view-versus-a-copy\n",
      "  odk_latest['hover2'] = odk_latest['gw_level'].astype(str)\n",
      "/home/au/work/groundwater_monitoring/figures.py:46: SettingWithCopyWarning: \n",
      "A value is trying to be set on a copy of a slice from a DataFrame.\n",
      "Try using .loc[row_indexer,col_indexer] = value instead\n",
      "\n",
      "See the caveats in the documentation: https://pandas.pydata.org/pandas-docs/stable/user_guide/indexing.html#returning-a-view-versus-a-copy\n",
      "  odk_latest['hover3'] = odk_latest['today'].astype(str)\n",
      "/home/au/work/groundwater_monitoring/figures.py:47: SettingWithCopyWarning: \n",
      "A value is trying to be set on a copy of a slice from a DataFrame.\n",
      "Try using .loc[row_indexer,col_indexer] = value instead\n",
      "\n",
      "See the caveats in the documentation: https://pandas.pydata.org/pandas-docs/stable/user_guide/indexing.html#returning-a-view-versus-a-copy\n",
      "  odk_latest['hover4'] = \"mbgl\"\n",
      "/home/au/work/groundwater_monitoring/figures.py:48: SettingWithCopyWarning: \n",
      "A value is trying to be set on a copy of a slice from a DataFrame.\n",
      "Try using .loc[row_indexer,col_indexer] = value instead\n",
      "\n",
      "See the caveats in the documentation: https://pandas.pydata.org/pandas-docs/stable/user_guide/indexing.html#returning-a-view-versus-a-copy\n",
      "  odk_latest['hovtext'] = odk_latest['hover1'].str.cat(odk_latest['hover2'], sep = \"<br>\").str.cat(odk_latest['hover4'],sep = \" \").str.cat(odk_latest['hover3'],sep = \"<br>\")\n"
     ]
    },
    {
     "name": "stdout",
     "output_type": "stream",
     "text": [
      "JOB DONE\n"
     ]
    }
   ],
   "source": [
    "import dash_core_components as dcc\n",
    "import dash_html_components as html\n",
    "from dash.dependencies import Input, Output, State\n",
    "from options import all_options\n",
    "\n",
    "import plotly.express as px\n",
    "import plotly.graph_objects as go\n",
    "\n",
    "from dash.exceptions import PreventUpdate\n",
    "\n",
    "from layouts import info, get_info, get_info_home, info_home\n",
    "\n",
    "from app import app\n",
    "\n",
    "import dash_leaflet as dl\n",
    "import dash_leaflet.express as dlx\n",
    "import calendar\n",
    "import pandas as pd\n",
    "\n",
    "from options import tubewell_options,df, df_dptw,df_both, st_location_options, dt_location_options,swt_geojson,dwt_geojson,both_geojson,swt_geojson_bk,dwt_geojson_bk,both_geojson_bk,\\\n",
    "    swt_geojson_ba,dwt_geojson_ba,both_geojson_ba,modify_df,df_data , both_options, years, stw_district_wells, dtw_district_wells, all_wells,all_wells_t\n",
    "\n",
    "# from data_import import download_data, map_data, save_file, parse_contents,\\\n",
    "#      offline_data_transform, offline_df,cols_rename\n",
    "from data_import import download_data, map_data, save_file, parse_contents\n",
    "\n",
    "import os\n"
   ]
  },
  {
   "cell_type": "code",
   "execution_count": 6,
   "id": "ec6bf1b1",
   "metadata": {},
   "outputs": [],
   "source": [
    "offline_rohini = pd.read_csv('rohini_khola_2021.csv')\n",
    "offline_bgau = pd.read_csv('banjare_gau_2021.csv')\n",
    "offline_channawa = pd.read_csv('channawa_2021.csv')\n",
    "offline_dgau = pd.read_csv('d_gau_2021.csv')\n",
    "offline_jaispur = pd.read_csv('jaispur_2021.csv')\n",
    "offline_kalhanshangau = pd.read_csv('kalhanshgau_2021.csv')\n",
    "offline_khadaicha = pd.read_csv('khadaicha_2021.csv')\n",
    "offline_piprahawa = pd.read_csv('piprahawa_2021.csv')\n",
    "offline_shikanpurwa = pd.read_csv('shikanpurwa_2021.csv')\n",
    "# print(f\"{offline_rohini.columns}-------------------->\")\n",
    "offline_df = [offline_rohini, offline_bgau, offline_channawa, offline_dgau, offline_jaispur, offline_kalhanshangau, offline_khadaicha, offline_piprahawa, offline_shikanpurwa]\n",
    "cols_rename = ['Index','SN','Date','Abs Pres (KPa)','Temp(°C)','Water Level(meters)']\n",
    "location_column_offline = ['Rohini Khola','Banjare Gau', 'Channawa','D-Gau','Jaispur','Kalhanshangau','Khadaicha','Piprahawa','Shikanpurwa']\n",
    "all_offline_data = {}"
   ]
  },
  {
   "cell_type": "code",
   "execution_count": 7,
   "id": "4dced817",
   "metadata": {},
   "outputs": [
    {
     "data": {
      "text/plain": [
       "{}"
      ]
     },
     "execution_count": 7,
     "metadata": {},
     "output_type": "execute_result"
    }
   ],
   "source": [
    "all_offline_data"
   ]
  },
  {
   "cell_type": "code",
   "execution_count": 8,
   "id": "930374e6",
   "metadata": {},
   "outputs": [],
   "source": [
    "for i in range(len(offline_df)):\n",
    "            offline_df[i] = offline_df[i].iloc[:,:6]\n",
    "            offline_df[i].columns = cols_rename\n",
    "            offline_df[i]['Water Level(meters)'] = abs(offline_df[i]['Water Level(meters)'])\n",
    "            offline_df[i]['Date'] = pd.to_datetime(offline_df[i]['Date'])\n",
    "            offline_df[i]['Month'] = offline_df[i]['Date'].dt.month\n",
    "            offline_df[i]['Month'] = offline_df[i]['Month'].apply(lambda x: calendar.month_abbr[x])\n",
    "            # print(offline_df[i])\n",
    "            offline_df[i]['Location'] = location_column_offline[i]\n",
    "            offline_df[i] = offline_df[i].groupby(['Location','Month'], as_index=False)['Water Level(meters)'].mean().reset_index()\n",
    "            all_offline_data[i] = offline_df[i]"
   ]
  },
  {
   "cell_type": "code",
   "execution_count": 9,
   "id": "57a76a97",
   "metadata": {},
   "outputs": [
    {
     "data": {
      "text/plain": [
       "[   index      Location Month  Water Level(meters)\n",
       " 0      0  Rohini Khola   Apr             2.300000\n",
       " 1      1  Rohini Khola   Aug                  NaN\n",
       " 2      2  Rohini Khola   Feb             3.390625\n",
       " 3      3  Rohini Khola   Jul             3.385000\n",
       " 4      4  Rohini Khola   Jun             2.300000\n",
       " 5      5  Rohini Khola   Mar             4.500000\n",
       " 6      6  Rohini Khola   May             3.220857\n",
       " 7      7  Rohini Khola   Oct                  NaN\n",
       " 8      8  Rohini Khola   Sep             3.385000,\n",
       "    index     Location Month  Water Level(meters)\n",
       " 0      0  Banjare Gau   Feb             2.570167,\n",
       "    index  Location Month  Water Level(meters)\n",
       " 0      0  Channawa   Feb             2.368429,\n",
       "    index Location Month  Water Level(meters)\n",
       " 0      0    D-Gau   Feb               2.9385,\n",
       "    index Location Month  Water Level(meters)\n",
       " 0      0  Jaispur   Feb                4.883,\n",
       "    index       Location Month  Water Level(meters)\n",
       " 0      0  Kalhanshangau   Feb               3.1455,\n",
       "    index   Location Month  Water Level(meters)\n",
       " 0      0  Khadaicha   Feb              3.66125,\n",
       "    index   Location Month  Water Level(meters)\n",
       " 0      0  Piprahawa   Feb             2.210714,\n",
       "    index     Location Month  Water Level(meters)\n",
       " 0      0  Shikanpurwa   Feb             2.847167]"
      ]
     },
     "execution_count": 9,
     "metadata": {},
     "output_type": "execute_result"
    }
   ],
   "source": [
    "offline_df"
   ]
  },
  {
   "cell_type": "code",
   "execution_count": 2,
   "id": "f7a0a6c6",
   "metadata": {},
   "outputs": [],
   "source": [
    "all_off_logger_df = pd.concat([all_offline_data[0],all_offline_data[1],all_offline_data[2],all_offline_data[3],\n",
    "                               all_offline_data[4],all_offline_data[5],all_offline_data[6],all_offline_data[7],all_offline_data[8]])"
   ]
  },
  {
   "cell_type": "code",
   "execution_count": 2,
   "id": "58484446",
   "metadata": {},
   "outputs": [],
   "source": [
    "df = pd.read_csv('updated_data.csv')\n",
    "df['well_no'] = (df['sw_bk_well_no'].combine_first(df['bk_dw_no']).combine_first(df['well_no_sw_bardiya']).combine_first(df['well_no_dw_bardiya']))\n",
    "df_location_stw = pd.read_excel('data/preloaded_data/updated_well_data.xlsx')\n",
    "df_location_dtw = pd.read_excel('data/preloaded_data/updated_well_data.xlsx', sheet_name= \"Deep tube wells\")\n",
    "df_location =  pd.concat([df_location_stw, df_location_dtw])\n",
    "df_new = pd.merge(df, df_location, on='well_no', how = 'inner')      \n",
    "df_new.to_csv('offline_logger_data.csv')\n",
    "        "
   ]
  },
  {
   "cell_type": "code",
   "execution_count": 2,
   "id": "5622a2a4",
   "metadata": {},
   "outputs": [],
   "source": [
    "df_odk_data = pd.read_csv('offline_logger_data.csv')\n",
    "df_offline_logger = all_off_logger_df\n",
    "        \n",
    "df_offline = df_offline_logger[df_offline_logger['Location'].isin(data_logger_value)]\n",
    "df_odk = df_odk_data[df_odk_data['Location'].isin(wells_dropdown_value)]\n",
    "df_odk['ODK'] = 'ODK'"
   ]
  },
  {
   "cell_type": "code",
   "execution_count": 2,
   "id": "ce9d5db0",
   "metadata": {},
   "outputs": [],
   "source": [
    "data = []  \n",
    "count = 0\n",
    "names = []\n",
    "for frame in [df_odk, df_offline]:\n",
    "    if 'Water Level(meters)' in frame:\n",
    "        frame.rename(columns = {'Water Level(meters)':'gw_level'}, inplace = True) \n",
    "            # data.append(frame['gw_level'])\n",
    "            # print(len(data))\n",
    "        #     df_odk = df_odk.sort_values(by=['today'])\n",
    "        #     df_of = df_of.sort_values(by=['Date'])\n",
    "        if 'ODK' in frame:\n",
    "            frame = frame.sort_values(by=['today'])\n",
    "            # print(frame)\n",
    "            groups_odk = frame.groupby(by='Location')\n",
    "            for group, df in groups_odk:\n",
    "                    df[\"Month\"] = pd.to_datetime(df.Month, format='%b', errors='coerce').dt.month\n",
    "                    df = df.sort_values(by=['Month'])\n",
    "                    df['Month'] = df['Month'].apply(lambda x: calendar.month_abbr[x])\n",
    "                    # print(df)\n",
    "                    trace = go.Scatter(x=df['Month'].tolist(), \n",
    "                                    y=df['gw_level'].tolist(),\n",
    "                                      name=f\"{group}_odk\")\n",
    "                    data.append(trace)\n",
    "        else:\n",
    "            frame = frame.sort_values(by=['Month'])\n",
    "            groups_offline = frame.groupby(by='Location')\n",
    "            for group, df in groups_offline:\n",
    "                    df[\"Month\"] = pd.to_datetime(df.Month, format='%b', errors='coerce').dt.month\n",
    "                    df = df.sort_values(by=['Month'])\n",
    "                    df['Month'] = df['Month'].apply(lambda x: calendar.month_abbr[x])\n",
    "\n",
    "                    # print(df)\n",
    "                    trace_1 = go.Scatter(x=df['Month'].tolist(), \n",
    "                       y=df['gw_level'].tolist(),\n",
    "                       name=group)\n",
    "                    data.append(trace_1)\n",
    "\n",
    "layout =  go.Layout(xaxis={'title': 'Months'},\n",
    "                    yaxis={'title': 'Groundwater in Meters(m)'},\n",
    "                    hovermode='closest')\n",
    "figure = go.Figure(data=data, layout=layout)  \n",
    "figure.update_yaxes(autorange=\"reversed\",range=(0, 10))"
   ]
  },
  {
   "cell_type": "code",
   "execution_count": null,
   "id": "f6cd7c90",
   "metadata": {},
   "outputs": [],
   "source": []
  },
  {
   "cell_type": "code",
   "execution_count": 4,
   "id": "8822e1d7",
   "metadata": {},
   "outputs": [],
   "source": []
  },
  {
   "cell_type": "code",
   "execution_count": null,
   "id": "64eb93e3",
   "metadata": {},
   "outputs": [],
   "source": []
  },
  {
   "cell_type": "code",
   "execution_count": null,
   "id": "94c398bb",
   "metadata": {},
   "outputs": [],
   "source": []
  }
 ],
 "metadata": {
  "kernelspec": {
   "display_name": "Python 3",
   "language": "python",
   "name": "python3"
  },
  "language_info": {
   "codemirror_mode": {
    "name": "ipython",
    "version": 3
   },
   "file_extension": ".py",
   "mimetype": "text/x-python",
   "name": "python",
   "nbconvert_exporter": "python",
   "pygments_lexer": "ipython3",
   "version": "3.8.2"
  }
 },
 "nbformat": 4,
 "nbformat_minor": 5
}
