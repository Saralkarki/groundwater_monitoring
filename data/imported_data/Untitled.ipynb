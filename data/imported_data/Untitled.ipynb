{
 "cells": [
  {
   "cell_type": "code",
   "execution_count": 28,
   "metadata": {},
   "outputs": [
    {
     "name": "stdout",
     "output_type": "stream",
     "text": [
      "Download\n",
      "[{\"_notes\":[],\"_tags\":[],\"_xform_id_string\":\"ahWTP3RnHcRszwAmTYy6mD\",\"meta/instanceID\":\"uuid:4052baa1-664d-4793-a61f-6cc7f2a94fae\",\"Main_group/location_details/municipality\":\"Nepalgunj\",\"Main_group/measurement/gw_level\":\"12\",\"_attachments\":[],\"_status\":\"submitted_via_web\",\"formhub/uuid\":\"d5bacc5d731e4561ae624609109264c2\",\"today\":\"2020-11-09\",\"Main_group/enumerator_group/name_enum\":\"Saral\",\"Main_group/location_details/geo_location\":\"27.716946 85.325224 0 0\",\"_validation_status\":{},\"start_time\":\"2020-11-09T11:00:12.208+05:45\",\"_uuid\":\"4052baa1-664d-4793-a61f-6cc7f2a94fae\",\"Main_group/location_details/well_type\":\"sw\",\"Main_group/location_details/village_name\":\"Bana\",\"device_id\":\"ee.humanitarianresponse.info:j9RhFkrcDfiqkQsj\",\"Main_group/location_details/ward\":\"1\",\"__version__\":\"vR45v7TZXUWZM5VNeXedYD\",\"_submission_time\":\"2020-11-09T05:15:42\",\"_geolocation\":[27.716946,85.325224],\"_submitted_by\":null,\"end_time\":\"2020-11-09T11:00:41.334+05:45\",\"Main_group/location_details/well_no_sw\":\"1-045/46(BK)21\",\"_id\":135940427},{\"_notes\":[],\"_tags\":[],\"_xform_id_string\":\"ahWTP3RnHcRszwAmTYy6mD\",\"Main_group/location_details/well_no_dt\":\"SP-1\",\"meta/instanceID\":\"uuid:95accc46-e75b-4aa8-9969-fda52c1047d1\",\"Main_group/measurement/gw_level\":\"6\",\"_geolocation\":[27.858504,82.912034],\"Main_group/location_details/municipality\":\"Nepalgunj\",\"_status\":\"submitted_via_web\",\"formhub/uuid\":\"d5bacc5d731e4561ae624609109264c2\",\"today\":\"2020-11-09\",\"Main_group/enumerator_group/name_enum\":\"test_saral\",\"Main_group/location_details/geo_location\":\"27.858504 82.912034 0 0\",\"_validation_status\":{},\"start_time\":\"2020-11-09T11:26:06.462+05:45\",\"_uuid\":\"95accc46-e75b-4aa8-9969-fda52c1047d1\",\"Main_group/location_details/well_type\":\"dt\",\"Main_group/location_details/village_name\":\"dude\",\"device_id\":\"ee.humanitarianresponse.info:j9RhFkrcDfiqkQsj\",\"Main_group/location_details/ward\":\"12\",\"__version__\":\"vR45v7TZXUWZM5VNeXedYD\",\"_submission_time\":\"2020-11-09T05:41:34\",\"_attachments\":[],\"_submitted_by\":null,\"end_time\":\"2020-11-09T11:26:33.797+05:45\",\"_id\":135943477}]\n"
     ]
    }
   ],
   "source": [
    "import requests\n",
    "from requests.auth import HTTPBasicAuth\n",
    "import pandas as pd\n",
    "\n",
    "url= \"https://kc.humanitarianresponse.info/api/v1/data/663511.json\"\n",
    "\n",
    "auth = HTTPBasicAuth('gw_monitoring', 'gwmonitor@2020')\n",
    "# files = {'filename': open('filename.txt','rb')}\n",
    "\n",
    "download = requests.get(url, auth=auth )\n",
    "print('Download')\n",
    "print(download.text)"
   ]
  },
  {
   "cell_type": "code",
   "execution_count": 29,
   "metadata": {},
   "outputs": [],
   "source": [
    "df = pd.read_json(download.text)"
   ]
  },
  {
   "cell_type": "code",
   "execution_count": 30,
   "metadata": {},
   "outputs": [
    {
     "data": {
      "text/plain": [
       "Index(['_notes', '_tags', '_xform_id_string', 'meta/instanceID',\n",
       "       'Main_group/location_details/municipality',\n",
       "       'Main_group/measurement/gw_level', '_attachments', '_status',\n",
       "       'formhub/uuid', 'today', 'Main_group/enumerator_group/name_enum',\n",
       "       'Main_group/location_details/geo_location', '_validation_status',\n",
       "       'start_time', '_uuid', 'Main_group/location_details/well_type',\n",
       "       'Main_group/location_details/village_name', 'device_id',\n",
       "       'Main_group/location_details/ward', '__version__', '_submission_time',\n",
       "       '_geolocation', '_submitted_by', 'end_time',\n",
       "       'Main_group/location_details/well_no_sw', '_id',\n",
       "       'Main_group/location_details/well_no_dt'],\n",
       "      dtype='object')"
      ]
     },
     "execution_count": 30,
     "metadata": {},
     "output_type": "execute_result"
    }
   ],
   "source": [
    "df.columns"
   ]
  },
  {
   "cell_type": "code",
   "execution_count": 31,
   "metadata": {},
   "outputs": [],
   "source": [
    "df.columns = [\n",
    "    '_notes', '_tags', '_xform_id_string', 'meta/instanceID',\n",
    "       'Municipality',\n",
    "       'gw_level', 'image_attachments', '_status',\n",
    "       'uuid', 'today', 'Enumerator Name',\n",
    "       'Geo_location', '_validation_status',\n",
    "       'start_time', '_uuid', 'well_type',\n",
    "       'village_name', 'device_id',\n",
    "       'ward', '__version__', '_submission_time',\n",
    "       '_geolocation', '_submitted_by', 'end_time',\n",
    "       'well_no_sw', '_id','well_no_dt'\n",
    "]"
   ]
  },
  {
   "cell_type": "code",
   "execution_count": 32,
   "metadata": {},
   "outputs": [],
   "source": [
    "df_1 = df[['Enumerator Name','Geo_location','Municipality','village_name','ward','well_type','well_no_sw','well_no_dt','gw_level']]"
   ]
  },
  {
   "cell_type": "code",
   "execution_count": 33,
   "metadata": {},
   "outputs": [
    {
     "data": {
      "text/plain": [
       "0    [27.716946, 85.325224]\n",
       "1    [27.858504, 82.912034]\n",
       "Name: _geolocation, dtype: object"
      ]
     },
     "execution_count": 33,
     "metadata": {},
     "output_type": "execute_result"
    }
   ],
   "source": [
    "df._geolocation"
   ]
  },
  {
   "cell_type": "code",
   "execution_count": 34,
   "metadata": {},
   "outputs": [
    {
     "data": {
      "text/html": [
       "<div>\n",
       "<style scoped>\n",
       "    .dataframe tbody tr th:only-of-type {\n",
       "        vertical-align: middle;\n",
       "    }\n",
       "\n",
       "    .dataframe tbody tr th {\n",
       "        vertical-align: top;\n",
       "    }\n",
       "\n",
       "    .dataframe thead th {\n",
       "        text-align: right;\n",
       "    }\n",
       "</style>\n",
       "<table border=\"1\" class=\"dataframe\">\n",
       "  <thead>\n",
       "    <tr style=\"text-align: right;\">\n",
       "      <th></th>\n",
       "      <th>Enumerator Name</th>\n",
       "      <th>Geo_location</th>\n",
       "      <th>Municipality</th>\n",
       "      <th>village_name</th>\n",
       "      <th>ward</th>\n",
       "      <th>well_type</th>\n",
       "      <th>well_no_sw</th>\n",
       "      <th>well_no_dt</th>\n",
       "      <th>gw_level</th>\n",
       "    </tr>\n",
       "  </thead>\n",
       "  <tbody>\n",
       "    <tr>\n",
       "      <th>0</th>\n",
       "      <td>Saral</td>\n",
       "      <td>27.716946 85.325224 0 0</td>\n",
       "      <td>Nepalgunj</td>\n",
       "      <td>Bana</td>\n",
       "      <td>1</td>\n",
       "      <td>sw</td>\n",
       "      <td>1-045/46(BK)21</td>\n",
       "      <td>NaN</td>\n",
       "      <td>12</td>\n",
       "    </tr>\n",
       "    <tr>\n",
       "      <th>1</th>\n",
       "      <td>test_saral</td>\n",
       "      <td>27.858504 82.912034 0 0</td>\n",
       "      <td>Nepalgunj</td>\n",
       "      <td>dude</td>\n",
       "      <td>12</td>\n",
       "      <td>dt</td>\n",
       "      <td>NaN</td>\n",
       "      <td>SP-1</td>\n",
       "      <td>6</td>\n",
       "    </tr>\n",
       "  </tbody>\n",
       "</table>\n",
       "</div>"
      ],
      "text/plain": [
       "  Enumerator Name             Geo_location Municipality village_name  ward  \\\n",
       "0           Saral  27.716946 85.325224 0 0    Nepalgunj         Bana     1   \n",
       "1      test_saral  27.858504 82.912034 0 0    Nepalgunj         dude    12   \n",
       "\n",
       "  well_type      well_no_sw well_no_dt  gw_level  \n",
       "0        sw  1-045/46(BK)21        NaN        12  \n",
       "1        dt             NaN       SP-1         6  "
      ]
     },
     "execution_count": 34,
     "metadata": {},
     "output_type": "execute_result"
    }
   ],
   "source": [
    "df_1"
   ]
  },
  {
   "cell_type": "code",
   "execution_count": 35,
   "metadata": {},
   "outputs": [
    {
     "data": {
      "text/html": [
       "<div>\n",
       "<style scoped>\n",
       "    .dataframe tbody tr th:only-of-type {\n",
       "        vertical-align: middle;\n",
       "    }\n",
       "\n",
       "    .dataframe tbody tr th {\n",
       "        vertical-align: top;\n",
       "    }\n",
       "\n",
       "    .dataframe thead th {\n",
       "        text-align: right;\n",
       "    }\n",
       "</style>\n",
       "<table border=\"1\" class=\"dataframe\">\n",
       "  <thead>\n",
       "    <tr style=\"text-align: right;\">\n",
       "      <th></th>\n",
       "      <th>Enumerator Name</th>\n",
       "      <th>Geo_location</th>\n",
       "      <th>Municipality</th>\n",
       "      <th>village_name</th>\n",
       "      <th>ward</th>\n",
       "      <th>well_type</th>\n",
       "      <th>well_no_sw</th>\n",
       "      <th>well_no_dt</th>\n",
       "      <th>gw_level</th>\n",
       "    </tr>\n",
       "  </thead>\n",
       "  <tbody>\n",
       "    <tr>\n",
       "      <th>0</th>\n",
       "      <td>Saral</td>\n",
       "      <td>27.716946 85.325224 0 0</td>\n",
       "      <td>Nepalgunj</td>\n",
       "      <td>Bana</td>\n",
       "      <td>1</td>\n",
       "      <td>sw</td>\n",
       "      <td>1-045/46(BK)21</td>\n",
       "      <td>NaN</td>\n",
       "      <td>12</td>\n",
       "    </tr>\n",
       "    <tr>\n",
       "      <th>1</th>\n",
       "      <td>test_saral</td>\n",
       "      <td>27.858504 82.912034 0 0</td>\n",
       "      <td>Nepalgunj</td>\n",
       "      <td>dude</td>\n",
       "      <td>12</td>\n",
       "      <td>dt</td>\n",
       "      <td>NaN</td>\n",
       "      <td>SP-1</td>\n",
       "      <td>6</td>\n",
       "    </tr>\n",
       "  </tbody>\n",
       "</table>\n",
       "</div>"
      ],
      "text/plain": [
       "  Enumerator Name             Geo_location Municipality village_name  ward  \\\n",
       "0           Saral  27.716946 85.325224 0 0    Nepalgunj         Bana     1   \n",
       "1      test_saral  27.858504 82.912034 0 0    Nepalgunj         dude    12   \n",
       "\n",
       "  well_type      well_no_sw well_no_dt  gw_level  \n",
       "0        sw  1-045/46(BK)21        NaN        12  \n",
       "1        dt             NaN       SP-1         6  "
      ]
     },
     "execution_count": 35,
     "metadata": {},
     "output_type": "execute_result"
    }
   ],
   "source": [
    "df_1"
   ]
  },
  {
   "cell_type": "code",
   "execution_count": null,
   "metadata": {},
   "outputs": [],
   "source": []
  }
 ],
 "metadata": {
  "kernelspec": {
   "display_name": "Python 3",
   "language": "python",
   "name": "python3"
  },
  "language_info": {
   "codemirror_mode": {
    "name": "ipython",
    "version": 3
   },
   "file_extension": ".py",
   "mimetype": "text/x-python",
   "name": "python",
   "nbconvert_exporter": "python",
   "pygments_lexer": "ipython3",
   "version": "3.8.3"
  }
 },
 "nbformat": 4,
 "nbformat_minor": 4
}
