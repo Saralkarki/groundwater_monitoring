{
 "cells": [
  {
   "cell_type": "code",
   "execution_count": 236,
   "metadata": {},
   "outputs": [],
   "source": [
    "import pandas as pd\n",
    "import os\n",
    "import xlsxwriter"
   ]
  },
  {
   "cell_type": "code",
   "execution_count": 51,
   "metadata": {},
   "outputs": [],
   "source": [
    "os.getcwd()\n",
    "os.chdir('/Users/saralkarki/OneDrive - CIMMYT/CIMMYT/CSISA_COVID_GW/')"
   ]
  },
  {
   "cell_type": "code",
   "execution_count": 52,
   "metadata": {},
   "outputs": [],
   "source": [
    "df = pd.read_excel('data/preloaded_data/groundwater_location_data.xlsx')\n"
   ]
  },
  {
   "cell_type": "code",
   "execution_count": 53,
   "metadata": {},
   "outputs": [],
   "source": [
    "dicts = df.to_dict('rows')\n"
   ]
  },
  {
   "cell_type": "code",
   "execution_count": 54,
   "metadata": {},
   "outputs": [],
   "source": [
    "df.to_json('data/preloaded_data/swt.json')"
   ]
  },
  {
   "cell_type": "code",
   "execution_count": 55,
   "metadata": {},
   "outputs": [],
   "source": [
    "### Cleaning the time-series dataset"
   ]
  },
  {
   "cell_type": "code",
   "execution_count": 88,
   "metadata": {},
   "outputs": [],
   "source": [
    "path_to_data_dir = 'data/preloaded_data/Water table data of Banke/Banke'"
   ]
  },
  {
   "cell_type": "code",
   "execution_count": 134,
   "metadata": {},
   "outputs": [],
   "source": [
    "mylist = os.listdir(path_to_data_dir)\n",
    "mylist = sorted(mylist)\n",
    "mylist.remove('.ipynb_checkpoints')\n",
    "mylist.remove('.DS_Store')\n",
    "mylist.remove('1.Gps locations.xls')"
   ]
  },
  {
   "cell_type": "code",
   "execution_count": 135,
   "metadata": {},
   "outputs": [
    {
     "data": {
      "text/plain": [
       "18"
      ]
     },
     "execution_count": 135,
     "metadata": {},
     "output_type": "execute_result"
    }
   ],
   "source": [
    "len(mylist)"
   ]
  },
  {
   "cell_type": "code",
   "execution_count": 62,
   "metadata": {},
   "outputs": [
    {
     "data": {
      "text/plain": [
       "'/Users/saralkarki/OneDrive - CIMMYT/CIMMYT/CSISA_COVID_GW'"
      ]
     },
     "execution_count": 62,
     "metadata": {},
     "output_type": "execute_result"
    }
   ],
   "source": [
    "os.getcwd()"
   ]
  },
  {
   "cell_type": "code",
   "execution_count": 68,
   "metadata": {},
   "outputs": [],
   "source": [
    "df_1996 = pd.read_excel(\"data/preloaded_data/Water table data of Banke/Banke/1996.xls\", header = 6)"
   ]
  },
  {
   "cell_type": "code",
   "execution_count": null,
   "metadata": {},
   "outputs": [],
   "source": []
  },
  {
   "cell_type": "code",
   "execution_count": 179,
   "metadata": {},
   "outputs": [],
   "source": [
    "# Using list comprehension to append\n",
    "yearly_df = [f\"df_{i}\"for i in range(1996,2016)]\n",
    "\n",
    "# x  = [yearly_df.append(f\"df_{i}\")for i in range(1996,2016)]\n",
    "# for i in range(1996,2016):\n",
    "#     yearly_df.append(f\"df_{i}\")\n",
    "yearly_df.remove('df_2012')\n",
    "yearly_df.remove('df_2013')"
   ]
  },
  {
   "cell_type": "code",
   "execution_count": 177,
   "metadata": {},
   "outputs": [
    {
     "data": {
      "text/plain": [
       "['df_1996',\n",
       " 'df_1997',\n",
       " 'df_1998',\n",
       " 'df_1999',\n",
       " 'df_2000',\n",
       " 'df_2001',\n",
       " 'df_2002',\n",
       " 'df_2003',\n",
       " 'df_2004',\n",
       " 'df_2005',\n",
       " 'df_2006',\n",
       " 'df_2007',\n",
       " 'df_2008',\n",
       " 'df_2009',\n",
       " 'df_2010',\n",
       " 'df_2011',\n",
       " 'df_2014',\n",
       " 'df_2015']"
      ]
     },
     "execution_count": 177,
     "metadata": {},
     "output_type": "execute_result"
    }
   ],
   "source": [
    "yearly_df"
   ]
  },
  {
   "cell_type": "code",
   "execution_count": 205,
   "metadata": {},
   "outputs": [],
   "source": [
    "d = {}\n",
    "i = 0 \n",
    "header_change = [6,6,6,6,6,5,5,4,4,5,6,3,5,3,3,3,6,6]\n",
    "\n",
    "\n",
    "for name in yearly_df:\n",
    "    d[f\"{name}\"] = pd.read_excel(f\"data/preloaded_data/Water table data of Banke/Banke/{mylist[i]}\", header = header_change[i])\n",
    "    i+=1"
   ]
  },
  {
   "cell_type": "code",
   "execution_count": 206,
   "metadata": {},
   "outputs": [
    {
     "data": {
      "text/plain": [
       "dict_keys(['df_1996', 'df_1997', 'df_1998', 'df_1999', 'df_2000', 'df_2001', 'df_2002', 'df_2003', 'df_2004', 'df_2005', 'df_2006', 'df_2007', 'df_2008', 'df_2009', 'df_2010', 'df_2011', 'df_2014', 'df_2015'])"
      ]
     },
     "execution_count": 206,
     "metadata": {},
     "output_type": "execute_result"
    }
   ],
   "source": [
    "d.keys()"
   ]
  },
  {
   "cell_type": "code",
   "execution_count": 240,
   "metadata": {},
   "outputs": [
    {
     "name": "stdout",
     "output_type": "stream",
     "text": [
      "(45, 16) df_1996\n",
      "(48, 16) df_1997\n",
      "(48, 16) df_1998\n",
      "(46, 17) df_1999\n",
      "(46, 17) df_2000\n",
      "(37, 17) df_2001\n",
      "(30, 18) df_2002\n",
      "(56, 17) df_2003\n",
      "(33, 18) df_2004\n",
      "(39, 18) df_2005\n",
      "(42, 18) df_2006\n",
      "(36, 18) df_2007\n",
      "(15, 7) df_2008\n",
      "(42, 22) df_2009\n",
      "(42, 22) df_2010\n",
      "(42, 22) df_2011\n",
      "(28, 18) df_2014\n",
      "(28, 18) df_2015\n"
     ]
    }
   ],
   "source": [
    "writer = pd.ExcelWriter('data/preloaded_data/Water table data of Banke/Banke/cleaned_data/cleaned_data.xlsx', engine='xlsxwriter')\n",
    "\n",
    "for i in d.keys():\n",
    "    d[i].to_excel(writer,sheet_name=f\"{i}\")\n",
    "\n",
    "    print(d[i].shape, i)\n",
    "writer.save()"
   ]
  },
  {
   "cell_type": "code",
   "execution_count": 175,
   "metadata": {},
   "outputs": [
    {
     "ename": "KeyError",
     "evalue": "''",
     "output_type": "error",
     "traceback": [
      "\u001b[0;31m---------------------------------------------------------------------------\u001b[0m",
      "\u001b[0;31mKeyError\u001b[0m                                  Traceback (most recent call last)",
      "\u001b[0;32m<ipython-input-175-17663a30a888>\u001b[0m in \u001b[0;36m<module>\u001b[0;34m\u001b[0m\n\u001b[0;32m----> 1\u001b[0;31m \u001b[0md\u001b[0m\u001b[0;34m[\u001b[0m\u001b[0;34m''\u001b[0m\u001b[0;34m]\u001b[0m\u001b[0;34m[\u001b[0m\u001b[0;34m\"df_1996\"\u001b[0m\u001b[0;34m]\u001b[0m\u001b[0;34m\u001b[0m\u001b[0;34m\u001b[0m\u001b[0m\n\u001b[0m",
      "\u001b[0;31mKeyError\u001b[0m: ''"
     ]
    }
   ],
   "source": [
    "d[''][\"df_1996\"]"
   ]
  },
  {
   "cell_type": "code",
   "execution_count": null,
   "metadata": {},
   "outputs": [],
   "source": []
  }
 ],
 "metadata": {
  "kernelspec": {
   "display_name": "Python 3",
   "language": "python",
   "name": "python3"
  },
  "language_info": {
   "codemirror_mode": {
    "name": "ipython",
    "version": 3
   },
   "file_extension": ".py",
   "mimetype": "text/x-python",
   "name": "python",
   "nbconvert_exporter": "python",
   "pygments_lexer": "ipython3",
   "version": "3.8.3"
  }
 },
 "nbformat": 4,
 "nbformat_minor": 4
}
