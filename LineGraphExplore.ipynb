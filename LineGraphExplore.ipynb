{
 "cells": [
  {
   "cell_type": "code",
   "execution_count": null,
   "id": "90827935",
   "metadata": {},
   "outputs": [],
   "source": []
  },
  {
   "cell_type": "code",
   "execution_count": 157,
   "id": "64eb99d3",
   "metadata": {},
   "outputs": [],
   "source": [
    "import dash_core_components as dcc\n",
    "import dash_html_components as html\n",
    "from dash.dependencies import Input, Output, State\n",
    "from options import all_options\n",
    "\n",
    "import plotly.express as px\n",
    "import plotly.graph_objects as go\n",
    "\n",
    "from dash.exceptions import PreventUpdate\n",
    "\n",
    "from layouts import info, get_info, get_info_home, info_home\n",
    "\n",
    "from app import app\n",
    "\n",
    "import dash_leaflet as dl\n",
    "import dash_leaflet.express as dlx\n",
    "import calendar\n",
    "import pandas as pd\n",
    "\n",
    "from options import tubewell_options,df, df_dptw,df_both, st_location_options, dt_location_options,swt_geojson,dwt_geojson,both_geojson,swt_geojson_bk,dwt_geojson_bk,both_geojson_bk,\\\n",
    "    swt_geojson_ba,dwt_geojson_ba,both_geojson_ba,modify_df,df_data , both_options, years, stw_district_wells, dtw_district_wells, all_wells,all_wells_t\n",
    "\n",
    "# from data_import import download_data, map_data, save_file, parse_contents,\\\n",
    "#      offline_data_transform, offline_df,cols_rename\n",
    "from data_import import download_data, map_data, save_file, parse_contents\n",
    "\n",
    "import os\n"
   ]
  },
  {
   "cell_type": "code",
   "execution_count": 158,
   "id": "df4131af",
   "metadata": {},
   "outputs": [],
   "source": [
    "offline_rohini = pd.read_csv('rohini_khola_2021.csv')\n",
    "offline_bgau = pd.read_csv('banjare_gau_2021.csv')\n",
    "offline_channawa = pd.read_csv('channawa_2021.csv')\n",
    "offline_dgau = pd.read_csv('d_gau_2021.csv')\n",
    "offline_jaispur = pd.read_csv('jaispur_2021.csv')\n",
    "offline_kalhanshangau = pd.read_csv('kalhanshgau_2021.csv')\n",
    "offline_khadaicha = pd.read_csv('khadaicha_2021.csv')\n",
    "offline_piprahawa = pd.read_csv('piprahawa_2021.csv')\n",
    "offline_shikanpurwa = pd.read_csv('shikanpurwa_2021.csv')\n",
    "# print(f\"{offline_rohini.columns}-------------------->\")\n",
    "offline_df = [offline_rohini, offline_bgau, offline_channawa, offline_dgau, offline_jaispur, offline_kalhanshangau, offline_khadaicha, offline_piprahawa, offline_shikanpurwa]\n",
    "cols_rename = ['Index','SN','Date','Abs Pres (KPa)','Temp(°C)','Water Level(meters)']\n",
    "location_column_offline = ['Rohini Khola','Banjare Gau', 'Channawa','D-Gau','Jaispur','Kalhanshangau','Khadaicha','Piprahawa','Shikanpurwa']\n",
    "all_offline_data = {}"
   ]
  },
  {
   "cell_type": "code",
   "execution_count": 159,
   "id": "e0cda8bc",
   "metadata": {},
   "outputs": [
    {
     "data": {
      "text/plain": [
       "{}"
      ]
     },
     "execution_count": 159,
     "metadata": {},
     "output_type": "execute_result"
    }
   ],
   "source": [
    "all_offline_data"
   ]
  },
  {
   "cell_type": "code",
   "execution_count": null,
   "id": "4db34e65",
   "metadata": {},
   "outputs": [],
   "source": []
  },
  {
   "cell_type": "code",
   "execution_count": 160,
   "id": "ed8224fa",
   "metadata": {},
   "outputs": [],
   "source": [
    "for i in range(len(offline_df)):\n",
    "            offline_df[i] = offline_df[i].iloc[:,:6]\n",
    "            offline_df[i].columns = cols_rename\n",
    "            offline_df[i]['Water Level(meters)'] = abs(offline_df[i]['Water Level(meters)'])\n",
    "            offline_df[i]['Date'] = pd.to_datetime(offline_df[i]['Date'])\n",
    "            offline_df[i]['Month'] = offline_df[i]['Date'].dt.month\n",
    "            offline_df[i]['Month'] = offline_df[i]['Month'].apply(lambda x: calendar.month_abbr[x])\n",
    "            # print(offline_df[i])\n",
    "            offline_df[i]['Location'] = location_column_offline[i]\n",
    "         #   offline_df[i] = offline_df[i].groupby(['Location','Month'], as_index=False)['Water Level(meters)'].mean().reset_index()\n",
    "            all_offline_data[i] = offline_df[i]"
   ]
  },
  {
   "cell_type": "code",
   "execution_count": 161,
   "id": "5a377b5a",
   "metadata": {},
   "outputs": [
    {
     "data": {
      "text/plain": [
       "[   Index  SN                Date  Abs Pres (KPa)  Temp(°C)  \\\n",
       " 0      0   1 2021-02-08 17:00:00         129.997    24.931   \n",
       " 1      1   2 2021-02-09 05:00:00         129.822    24.931   \n",
       " 2      2   3 2021-02-09 17:00:00         129.754    24.835   \n",
       " 3      3   4 2021-02-10 05:00:00         129.649    24.835   \n",
       " 4      4   5 2021-02-10 17:00:00         129.614    24.835   \n",
       " 5      5   6 2021-02-11 05:00:00         129.579    24.835   \n",
       " 6      6   7 2021-02-11 17:00:00         129.474    24.835   \n",
       " 7      7   8 2021-02-12 05:00:00         129.684    24.835   \n",
       " \n",
       "    Water Level(meters) Month      Location  \n",
       " 0                3.360   Feb  Rohini Khola  \n",
       " 1                3.378   Feb  Rohini Khola  \n",
       " 2                3.385   Feb  Rohini Khola  \n",
       " 3                3.395   Feb  Rohini Khola  \n",
       " 4                3.399   Feb  Rohini Khola  \n",
       " 5                3.403   Feb  Rohini Khola  \n",
       " 6                3.413   Feb  Rohini Khola  \n",
       " 7                3.392   Feb  Rohini Khola  ,\n",
       "    Index  SN                Date  Abs Pres (KPa)  Temp(°C)  \\\n",
       " 0      0   1 2021-02-09 17:00:00         139.970    25.222   \n",
       " 1      1   2 2021-02-10 05:00:00         140.005    25.222   \n",
       " 2      2   3 2021-02-10 17:00:00         139.969    25.125   \n",
       " 3      3   4 2021-02-11 05:00:00         140.005    25.125   \n",
       " 4      4   5 2021-02-11 17:00:00         139.366    25.125   \n",
       " 5      5   6 2021-02-12 05:00:00         139.898    25.125   \n",
       " 6      6   7 2021-02-12 14:33:58             NaN       NaN   \n",
       " 7      7   8 2021-02-12 14:34:10             NaN       NaN   \n",
       " \n",
       "    Water Level(meters) Month     Location  \n",
       " 0                2.560   Feb  Banjare Gau  \n",
       " 1                2.556   Feb  Banjare Gau  \n",
       " 2                2.560   Feb  Banjare Gau  \n",
       " 3                2.556   Feb  Banjare Gau  \n",
       " 4                2.622   Feb  Banjare Gau  \n",
       " 5                2.567   Feb  Banjare Gau  \n",
       " 6                  NaN   Feb  Banjare Gau  \n",
       " 7                  NaN   Feb  Banjare Gau  ,\n",
       "     Index  SN                Date  Abs Pres (KPa)  Temp(°C)  \\\n",
       " 0       0   1 2021-02-05 17:00:00         142.894    24.158   \n",
       " 1       1   2 2021-02-06 05:00:00         143.202    24.158   \n",
       " 2       2   3 2021-02-06 17:00:00         142.689    24.158   \n",
       " 3       3   4 2021-02-07 05:00:00         143.065    24.158   \n",
       " 4       4   5 2021-02-07 17:00:00         142.586    24.158   \n",
       " 5       5   6 2021-02-08 05:00:00         143.065    24.158   \n",
       " 6       6   7 2021-02-08 17:00:00         142.449    24.158   \n",
       " 7       7   8 2021-02-09 05:00:00         142.757    24.158   \n",
       " 8       8   9 2021-02-09 17:00:00         140.430    24.158   \n",
       " 9       9  10 2021-02-10 05:00:00         142.483    24.158   \n",
       " 10     10  11 2021-02-10 17:00:00         129.785    24.062   \n",
       " 11     11  12 2021-02-11 05:00:00         142.175    24.158   \n",
       " 12     12  13 2021-02-11 17:00:00         141.594    24.158   \n",
       " 13     13  14 2021-02-12 05:00:00         142.346    24.158   \n",
       " 14     14  15 2021-02-12 12:39:29             NaN       NaN   \n",
       " 15     15  16 2021-02-12 12:39:37             NaN       NaN   \n",
       " \n",
       "     Water Level(meters) Month  Location  \n",
       " 0                 2.230   Feb  Channawa  \n",
       " 1                 2.199   Feb  Channawa  \n",
       " 2                 2.251   Feb  Channawa  \n",
       " 3                 2.213   Feb  Channawa  \n",
       " 4                 2.261   Feb  Channawa  \n",
       " 5                 2.213   Feb  Channawa  \n",
       " 6                 2.275   Feb  Channawa  \n",
       " 7                 2.244   Feb  Channawa  \n",
       " 8                 2.481   Feb  Channawa  \n",
       " 9                 2.272   Feb  Channawa  \n",
       " 10                3.567   Feb  Channawa  \n",
       " 11                2.303   Feb  Channawa  \n",
       " 12                2.363   Feb  Channawa  \n",
       " 13                2.286   Feb  Channawa  \n",
       " 14                  NaN   Feb  Channawa  \n",
       " 15                  NaN   Feb  Channawa  ,\n",
       "     Index  SN                Date  Abs Pres (KPa)  Temp(°C)  \\\n",
       " 0       0   1 2021-02-02 17:00:00         130.613    25.319   \n",
       " 1       1   2 2021-02-03 05:00:00         130.541    25.319   \n",
       " 2       2   3 2021-02-03 17:00:00         130.505    25.319   \n",
       " 3       3   4 2021-02-04 05:00:00         130.502    25.222   \n",
       " 4       4   5 2021-02-04 17:00:00         129.930    25.222   \n",
       " 5       5   6 2021-02-05 05:00:00         130.252    25.222   \n",
       " 6       6   7 2021-02-05 17:00:00         130.181    25.222   \n",
       " 7       7   8 2021-02-06 05:00:00         130.109    25.222   \n",
       " 8       8   9 2021-02-06 17:00:00         129.251    25.222   \n",
       " 9       9  10 2021-02-07 05:00:00         129.501    25.222   \n",
       " 10     10  11 2021-02-07 17:00:00         128.822    25.222   \n",
       " 11     11  12 2021-02-08 05:00:00         129.144    25.222   \n",
       " 12     12  13 2021-02-08 17:00:00         128.465    25.222   \n",
       " 13     13  14 2021-02-09 05:00:00         128.608    25.222   \n",
       " 14     14  15 2021-02-09 14:20:36             NaN       NaN   \n",
       " 15     15  16 2021-02-09 14:22:01             NaN       NaN   \n",
       " \n",
       "     Water Level(meters) Month Location  \n",
       " 0                 2.850   Feb    D-Gau  \n",
       " 1                 2.857   Feb    D-Gau  \n",
       " 2                 2.861   Feb    D-Gau  \n",
       " 3                 2.861   Feb    D-Gau  \n",
       " 4                 2.920   Feb    D-Gau  \n",
       " 5                 2.887   Feb    D-Gau  \n",
       " 6                 2.894   Feb    D-Gau  \n",
       " 7                 2.901   Feb    D-Gau  \n",
       " 8                 2.989   Feb    D-Gau  \n",
       " 9                 2.963   Feb    D-Gau  \n",
       " 10                3.033   Feb    D-Gau  \n",
       " 11                3.000   Feb    D-Gau  \n",
       " 12                3.069   Feb    D-Gau  \n",
       " 13                3.054   Feb    D-Gau  \n",
       " 14                  NaN   Feb    D-Gau  \n",
       " 15                  NaN   Feb    D-Gau  ,\n",
       "     Index  SN                Date  Abs Pres (KPa)  Temp(°C)  \\\n",
       " 0       0   1 2021-02-07 17:00:00         140.019    25.902   \n",
       " 1       1   2 2021-02-08 05:00:00         145.203    25.902   \n",
       " 2       2   3 2021-02-08 17:00:00         139.254    25.902   \n",
       " 3       3   4 2021-02-09 05:00:00         144.506    25.902   \n",
       " 4       4   5 2021-02-09 17:00:00         138.822    25.902   \n",
       " 5       5   6 2021-02-10 05:00:00         143.874    25.902   \n",
       " 6       6   7 2021-02-10 17:00:00         135.564    25.902   \n",
       " 7       7   8 2021-02-11 05:00:00         144.007    25.902   \n",
       " 8       8   9 2021-02-11 17:00:00         140.418    25.902   \n",
       " 9       9  10 2021-02-12 05:00:00         144.771    25.902   \n",
       " 10     10  11 2021-02-12 17:00:00         142.146    25.902   \n",
       " 11     11  12 2021-02-13 05:00:00         144.805    25.902   \n",
       " 12     12  13 2021-02-13 10:03:39             NaN       NaN   \n",
       " 13     13  14 2021-02-13 10:04:08             NaN       NaN   \n",
       " \n",
       "     Water Level(meters) Month Location  \n",
       " 0                 5.080   Feb  Jaispur  \n",
       " 1                 4.551   Feb  Jaispur  \n",
       " 2                 5.158   Feb  Jaispur  \n",
       " 3                 4.622   Feb  Jaispur  \n",
       " 4                 5.202   Feb  Jaispur  \n",
       " 5                 4.687   Feb  Jaispur  \n",
       " 6                 5.534   Feb  Jaispur  \n",
       " 7                 4.673   Feb  Jaispur  \n",
       " 8                 5.039   Feb  Jaispur  \n",
       " 9                 4.595   Feb  Jaispur  \n",
       " 10                4.863   Feb  Jaispur  \n",
       " 11                4.592   Feb  Jaispur  \n",
       " 12                  NaN   Feb  Jaispur  \n",
       " 13                  NaN   Feb  Jaispur  ,\n",
       "     Index  SN                Date  Abs Pres (KPa)  Temp(°C)  \\\n",
       " 0       0   1 2021-02-08 17:00:00         121.928    24.641   \n",
       " 1       1   2 2021-02-09 05:00:00         121.606    24.641   \n",
       " 2       2   3 2021-02-09 17:00:00         121.427    24.641   \n",
       " 3       3   4 2021-02-10 05:00:00         121.212    24.641   \n",
       " 4       4   5 2021-02-10 17:00:00         121.141    24.641   \n",
       " 5       5   6 2021-02-11 05:00:00         121.069    24.641   \n",
       " 6       6   7 2021-02-11 17:00:00         120.881    24.545   \n",
       " 7       7   8 2021-02-12 05:00:00         121.025    24.545   \n",
       " 8       8   9 2021-02-12 13:35:53             NaN       NaN   \n",
       " 9       9  10 2021-02-12 13:36:17             NaN       NaN   \n",
       " 10     10  11 2021-02-12 13:36:27             NaN       NaN   \n",
       " \n",
       "     Water Level(meters) Month       Location  \n",
       " 0                 3.080   Feb  Kalhanshangau  \n",
       " 1                 3.113   Feb  Kalhanshangau  \n",
       " 2                 3.131   Feb  Kalhanshangau  \n",
       " 3                 3.153   Feb  Kalhanshangau  \n",
       " 4                 3.160   Feb  Kalhanshangau  \n",
       " 5                 3.168   Feb  Kalhanshangau  \n",
       " 6                 3.187   Feb  Kalhanshangau  \n",
       " 7                 3.172   Feb  Kalhanshangau  \n",
       " 8                   NaN   Feb  Kalhanshangau  \n",
       " 9                   NaN   Feb  Kalhanshangau  \n",
       " 10                  NaN   Feb  Kalhanshangau  ,\n",
       "     Index  SN                Date  Abs Pres (KPa)  Temp(°C)  \\\n",
       " 0       0   1 2021-02-07 17:00:00         134.074    24.835   \n",
       " 1       1   2 2021-02-08 05:00:00         134.257    24.835   \n",
       " 2       2   3 2021-02-08 17:00:00         133.527    24.835   \n",
       " 3       3   4 2021-02-09 05:00:00         133.679    24.835   \n",
       " 4       4   5 2021-02-09 17:00:00         132.919    24.835   \n",
       " 5       5   6 2021-02-10 05:00:00         133.496    24.835   \n",
       " 6       6   7 2021-02-10 17:00:00         133.284    24.835   \n",
       " 7       7   8 2021-02-11 05:00:00         133.527    24.835   \n",
       " 8       8   9 2021-02-11 17:00:00         133.223    24.835   \n",
       " 9       9  10 2021-02-12 05:00:00         133.649    24.835   \n",
       " 10     10  11 2021-02-12 17:00:00         132.462    24.835   \n",
       " 11     11  12 2021-02-13 05:00:00         133.588    24.835   \n",
       " 12     12  13 2021-02-13 11:20:11             NaN       NaN   \n",
       " 13     13  14 2021-02-13 11:20:24             NaN       NaN   \n",
       " \n",
       "     Water Level(meters) Month   Location  \n",
       " 0                 3.600   Feb  Khadaicha  \n",
       " 1                 3.581   Feb  Khadaicha  \n",
       " 2                 3.656   Feb  Khadaicha  \n",
       " 3                 3.640   Feb  Khadaicha  \n",
       " 4                 3.718   Feb  Khadaicha  \n",
       " 5                 3.659   Feb  Khadaicha  \n",
       " 6                 3.681   Feb  Khadaicha  \n",
       " 7                 3.656   Feb  Khadaicha  \n",
       " 8                 3.687   Feb  Khadaicha  \n",
       " 9                 3.643   Feb  Khadaicha  \n",
       " 10                3.764   Feb  Khadaicha  \n",
       " 11                3.650   Feb  Khadaicha  \n",
       " 12                  NaN   Feb  Khadaicha  \n",
       " 13                  NaN   Feb  Khadaicha  ,\n",
       "     Index  SN                Date  Abs Pres (KPa)  Temp(°C)  \\\n",
       " 0       0   1 2021-02-05 17:00:00         147.532    25.319   \n",
       " 1       1   2 2021-02-06 05:00:00         147.688    25.319   \n",
       " 2       2   3 2021-02-06 17:00:00         147.376    25.319   \n",
       " 3       3   4 2021-02-07 05:00:00         147.594    25.319   \n",
       " 4       4   5 2021-02-07 17:00:00         147.470    25.319   \n",
       " 5       5   6 2021-02-08 05:00:00         147.688    25.319   \n",
       " 6       6   7 2021-02-08 17:00:00         147.345    25.319   \n",
       " 7       7   8 2021-02-09 05:00:00         147.376    25.319   \n",
       " 8       8   9 2021-02-09 17:00:00         147.126    25.319   \n",
       " 9       9  10 2021-02-10 05:00:00         147.184    25.222   \n",
       " 10     10  11 2021-02-10 17:00:00         146.997    25.222   \n",
       " 11     11  12 2021-02-11 05:00:00         147.157    25.319   \n",
       " 12     12  13 2021-02-11 17:00:00         146.872    25.222   \n",
       " 13     13  14 2021-02-12 05:00:00         147.184    25.222   \n",
       " 14     14  15 2021-02-12 11:30:56             NaN       NaN   \n",
       " 15     15  16 2021-02-12 11:31:02             NaN       NaN   \n",
       " \n",
       "     Water Level(meters) Month   Location  \n",
       " 0                 2.190   Feb  Piprahawa  \n",
       " 1                 2.174   Feb  Piprahawa  \n",
       " 2                 2.206   Feb  Piprahawa  \n",
       " 3                 2.184   Feb  Piprahawa  \n",
       " 4                 2.196   Feb  Piprahawa  \n",
       " 5                 2.174   Feb  Piprahawa  \n",
       " 6                 2.209   Feb  Piprahawa  \n",
       " 7                 2.206   Feb  Piprahawa  \n",
       " 8                 2.231   Feb  Piprahawa  \n",
       " 9                 2.225   Feb  Piprahawa  \n",
       " 10                2.245   Feb  Piprahawa  \n",
       " 11                2.228   Feb  Piprahawa  \n",
       " 12                2.257   Feb  Piprahawa  \n",
       " 13                2.225   Feb  Piprahawa  \n",
       " 14                  NaN   Feb  Piprahawa  \n",
       " 15                  NaN   Feb  Piprahawa  ,\n",
       "     Index  SN                Date  Abs Pres (KPa)  Temp(°C)  \\\n",
       " 0       0   1 2021-02-07 17:00:00         141.548    24.835   \n",
       " 1       1   2 2021-02-08 05:00:00         141.928    24.835   \n",
       " 2       2   3 2021-02-08 17:00:00         141.720    24.835   \n",
       " 3       3   4 2021-02-09 05:00:00         141.651    24.835   \n",
       " 4       4   5 2021-02-09 17:00:00         141.582    24.835   \n",
       " 5       5   6 2021-02-10 05:00:00         141.582    24.835   \n",
       " 6       6   7 2021-02-10 17:00:00         141.479    24.835   \n",
       " 7       7   8 2021-02-11 05:00:00         141.548    24.835   \n",
       " 8       8   9 2021-02-11 17:00:00         141.410    24.835   \n",
       " 9       9  10 2021-02-12 05:00:00         141.582    24.835   \n",
       " 10     10  11 2021-02-12 17:00:00         141.437    24.738   \n",
       " 11     11  12 2021-02-13 05:00:00         141.444    24.835   \n",
       " 12     12  13 2021-02-13 10:35:01             NaN       NaN   \n",
       " 13     13  14 2021-02-13 10:35:08             NaN       NaN   \n",
       " \n",
       "     Water Level(meters) Month     Location  \n",
       " 0                 2.850   Feb  Shikanpurwa  \n",
       " 1                 2.811   Feb  Shikanpurwa  \n",
       " 2                 2.832   Feb  Shikanpurwa  \n",
       " 3                 2.839   Feb  Shikanpurwa  \n",
       " 4                 2.847   Feb  Shikanpurwa  \n",
       " 5                 2.847   Feb  Shikanpurwa  \n",
       " 6                 2.857   Feb  Shikanpurwa  \n",
       " 7                 2.850   Feb  Shikanpurwa  \n",
       " 8                 2.864   Feb  Shikanpurwa  \n",
       " 9                 2.847   Feb  Shikanpurwa  \n",
       " 10                2.861   Feb  Shikanpurwa  \n",
       " 11                2.861   Feb  Shikanpurwa  \n",
       " 12                  NaN   Feb  Shikanpurwa  \n",
       " 13                  NaN   Feb  Shikanpurwa  ]"
      ]
     },
     "execution_count": 161,
     "metadata": {},
     "output_type": "execute_result"
    }
   ],
   "source": [
    "offline_df"
   ]
  },
  {
   "cell_type": "code",
   "execution_count": 162,
   "id": "9fc36fef",
   "metadata": {},
   "outputs": [],
   "source": [
    "all_off_logger_df = pd.concat([all_offline_data[0],all_offline_data[1],all_offline_data[2],all_offline_data[3],\n",
    "                               all_offline_data[4],all_offline_data[5],all_offline_data[6],all_offline_data[7],all_offline_data[8]])"
   ]
  },
  {
   "cell_type": "code",
   "execution_count": 165,
   "id": "eb23e7a0",
   "metadata": {},
   "outputs": [
    {
     "data": {
      "text/plain": [
       "['Rohini Khola',\n",
       " 'Jabdhawa',\n",
       " 'Banktuwa',\n",
       " 'Channawa',\n",
       " 'Thapawa',\n",
       " 'Piprahwa',\n",
       " 'Bhujai',\n",
       " 'Birta',\n",
       " 'Sikhanpurwa',\n",
       " 'Kharaicha',\n",
       " 'Jaishpur',\n",
       " 'D-gaon',\n",
       " 'Kalhansgaon',\n",
       " 'Gaughat',\n",
       " 'Mahadevpuri',\n",
       " 'Office compound',\n",
       " 'Kajurakurda',\n",
       " 'Banjaregaon',\n",
       " 'Ramapurwa',\n",
       " 'Jaogagaun',\n",
       " 'Baldipurwa',\n",
       " 'Harbaldoli',\n",
       " 'Bertani',\n",
       " 'Bakharikurd',\n",
       " 'Mainapokhar',\n",
       " 'Bangai',\n",
       " 'Bhaisahi',\n",
       " 'Rain Nagar',\n",
       " 'Megara Gadhi',\n",
       " 'Auri',\n",
       " 'Khairapur',\n",
       " 'Padnaha',\n",
       " 'Baniyabhar',\n",
       " 'Taratal',\n",
       " 'Madhubhan',\n",
       " 'Begnaha',\n",
       " 'Bhurigaon',\n",
       " 'Newlpur',\n",
       " 'Thakurdwaar',\n",
       " 'Shoharawa',\n",
       " 'Bhawanipur',\n",
       " 'Shoharawa',\n",
       " 'Belwa',\n",
       " 'Belwa',\n",
       " 'Janaki Tool',\n",
       " 'K Gaon',\n",
       " 'L Gaon',\n",
       " 'Gaughat',\n",
       " 'Gaughat',\n",
       " 'Parspur',\n",
       " 'Shantipur',\n",
       " 'Tholodafe',\n",
       " 'Shantipur',\n",
       " 'Shantipur']"
      ]
     },
     "execution_count": 165,
     "metadata": {},
     "output_type": "execute_result"
    }
   ],
   "source": [
    "location = df_both['Location'].tolist()\n",
    "location"
   ]
  },
  {
   "cell_type": "code",
   "execution_count": 163,
   "id": "804f016c",
   "metadata": {},
   "outputs": [
    {
     "data": {
      "text/html": [
       "<div>\n",
       "<style scoped>\n",
       "    .dataframe tbody tr th:only-of-type {\n",
       "        vertical-align: middle;\n",
       "    }\n",
       "\n",
       "    .dataframe tbody tr th {\n",
       "        vertical-align: top;\n",
       "    }\n",
       "\n",
       "    .dataframe thead th {\n",
       "        text-align: right;\n",
       "    }\n",
       "</style>\n",
       "<table border=\"1\" class=\"dataframe\">\n",
       "  <thead>\n",
       "    <tr style=\"text-align: right;\">\n",
       "      <th></th>\n",
       "      <th>Index</th>\n",
       "      <th>SN</th>\n",
       "      <th>Date</th>\n",
       "      <th>Abs Pres (KPa)</th>\n",
       "      <th>Temp(°C)</th>\n",
       "      <th>Water Level(meters)</th>\n",
       "      <th>Month</th>\n",
       "      <th>Location</th>\n",
       "    </tr>\n",
       "  </thead>\n",
       "  <tbody>\n",
       "    <tr>\n",
       "      <th>0</th>\n",
       "      <td>0</td>\n",
       "      <td>1</td>\n",
       "      <td>2021-02-08 17:00:00</td>\n",
       "      <td>129.997</td>\n",
       "      <td>24.931</td>\n",
       "      <td>3.360</td>\n",
       "      <td>Feb</td>\n",
       "      <td>Rohini Khola</td>\n",
       "    </tr>\n",
       "    <tr>\n",
       "      <th>1</th>\n",
       "      <td>1</td>\n",
       "      <td>2</td>\n",
       "      <td>2021-02-09 05:00:00</td>\n",
       "      <td>129.822</td>\n",
       "      <td>24.931</td>\n",
       "      <td>3.378</td>\n",
       "      <td>Feb</td>\n",
       "      <td>Rohini Khola</td>\n",
       "    </tr>\n",
       "    <tr>\n",
       "      <th>2</th>\n",
       "      <td>2</td>\n",
       "      <td>3</td>\n",
       "      <td>2021-02-09 17:00:00</td>\n",
       "      <td>129.754</td>\n",
       "      <td>24.835</td>\n",
       "      <td>3.385</td>\n",
       "      <td>Feb</td>\n",
       "      <td>Rohini Khola</td>\n",
       "    </tr>\n",
       "    <tr>\n",
       "      <th>3</th>\n",
       "      <td>3</td>\n",
       "      <td>4</td>\n",
       "      <td>2021-02-10 05:00:00</td>\n",
       "      <td>129.649</td>\n",
       "      <td>24.835</td>\n",
       "      <td>3.395</td>\n",
       "      <td>Feb</td>\n",
       "      <td>Rohini Khola</td>\n",
       "    </tr>\n",
       "    <tr>\n",
       "      <th>4</th>\n",
       "      <td>4</td>\n",
       "      <td>5</td>\n",
       "      <td>2021-02-10 17:00:00</td>\n",
       "      <td>129.614</td>\n",
       "      <td>24.835</td>\n",
       "      <td>3.399</td>\n",
       "      <td>Feb</td>\n",
       "      <td>Rohini Khola</td>\n",
       "    </tr>\n",
       "    <tr>\n",
       "      <th>5</th>\n",
       "      <td>5</td>\n",
       "      <td>6</td>\n",
       "      <td>2021-02-11 05:00:00</td>\n",
       "      <td>129.579</td>\n",
       "      <td>24.835</td>\n",
       "      <td>3.403</td>\n",
       "      <td>Feb</td>\n",
       "      <td>Rohini Khola</td>\n",
       "    </tr>\n",
       "    <tr>\n",
       "      <th>6</th>\n",
       "      <td>6</td>\n",
       "      <td>7</td>\n",
       "      <td>2021-02-11 17:00:00</td>\n",
       "      <td>129.474</td>\n",
       "      <td>24.835</td>\n",
       "      <td>3.413</td>\n",
       "      <td>Feb</td>\n",
       "      <td>Rohini Khola</td>\n",
       "    </tr>\n",
       "    <tr>\n",
       "      <th>7</th>\n",
       "      <td>7</td>\n",
       "      <td>8</td>\n",
       "      <td>2021-02-12 05:00:00</td>\n",
       "      <td>129.684</td>\n",
       "      <td>24.835</td>\n",
       "      <td>3.392</td>\n",
       "      <td>Feb</td>\n",
       "      <td>Rohini Khola</td>\n",
       "    </tr>\n",
       "  </tbody>\n",
       "</table>\n",
       "</div>"
      ],
      "text/plain": [
       "   Index  SN                Date  Abs Pres (KPa)  Temp(°C)  \\\n",
       "0      0   1 2021-02-08 17:00:00         129.997    24.931   \n",
       "1      1   2 2021-02-09 05:00:00         129.822    24.931   \n",
       "2      2   3 2021-02-09 17:00:00         129.754    24.835   \n",
       "3      3   4 2021-02-10 05:00:00         129.649    24.835   \n",
       "4      4   5 2021-02-10 17:00:00         129.614    24.835   \n",
       "5      5   6 2021-02-11 05:00:00         129.579    24.835   \n",
       "6      6   7 2021-02-11 17:00:00         129.474    24.835   \n",
       "7      7   8 2021-02-12 05:00:00         129.684    24.835   \n",
       "\n",
       "   Water Level(meters) Month      Location  \n",
       "0                3.360   Feb  Rohini Khola  \n",
       "1                3.378   Feb  Rohini Khola  \n",
       "2                3.385   Feb  Rohini Khola  \n",
       "3                3.395   Feb  Rohini Khola  \n",
       "4                3.399   Feb  Rohini Khola  \n",
       "5                3.403   Feb  Rohini Khola  \n",
       "6                3.413   Feb  Rohini Khola  \n",
       "7                3.392   Feb  Rohini Khola  "
      ]
     },
     "execution_count": 163,
     "metadata": {},
     "output_type": "execute_result"
    }
   ],
   "source": [
    "all_off_logger_df[(all_off_logger_df.Location == \"Rohini Khola\")]"
   ]
  },
  {
   "cell_type": "code",
   "execution_count": 138,
   "id": "59cbdf29",
   "metadata": {},
   "outputs": [
    {
     "data": {
      "text/html": [
       "<div>\n",
       "<style scoped>\n",
       "    .dataframe tbody tr th:only-of-type {\n",
       "        vertical-align: middle;\n",
       "    }\n",
       "\n",
       "    .dataframe tbody tr th {\n",
       "        vertical-align: top;\n",
       "    }\n",
       "\n",
       "    .dataframe thead th {\n",
       "        text-align: right;\n",
       "    }\n",
       "</style>\n",
       "<table border=\"1\" class=\"dataframe\">\n",
       "  <thead>\n",
       "    <tr style=\"text-align: right;\">\n",
       "      <th></th>\n",
       "      <th>Unnamed: 0</th>\n",
       "      <th>Enumerator Name</th>\n",
       "      <th>Geo_location</th>\n",
       "      <th>District</th>\n",
       "      <th>well_type</th>\n",
       "      <th>sw_bk_well_no</th>\n",
       "      <th>bk_dw_no</th>\n",
       "      <th>well_no_sw_bardiya</th>\n",
       "      <th>well_no_dw_bardiya</th>\n",
       "      <th>measurement_point_cm</th>\n",
       "      <th>Measurement_of_tape_ent_point_MP_in_m</th>\n",
       "      <th>wet_point_measruement_on_tape</th>\n",
       "      <th>gw_level</th>\n",
       "      <th>Notes</th>\n",
       "      <th>today</th>\n",
       "      <th>Audio_Notes</th>\n",
       "      <th>well_no</th>\n",
       "      <th>Month</th>\n",
       "    </tr>\n",
       "  </thead>\n",
       "  <tbody>\n",
       "    <tr>\n",
       "      <th>13</th>\n",
       "      <td>13</td>\n",
       "      <td>Subash</td>\n",
       "      <td>28.0804943 81.6419293 114.0 13.349</td>\n",
       "      <td>Banke</td>\n",
       "      <td>sw</td>\n",
       "      <td>bk-sw-01</td>\n",
       "      <td>NaN</td>\n",
       "      <td>1611723819300..amr</td>\n",
       "      <td>NaN</td>\n",
       "      <td>20</td>\n",
       "      <td>3.6</td>\n",
       "      <td>1.20</td>\n",
       "      <td>2.20</td>\n",
       "      <td>NaN</td>\n",
       "      <td>2021-01-27</td>\n",
       "      <td>Test</td>\n",
       "      <td>bk-sw-01</td>\n",
       "      <td>Jan</td>\n",
       "    </tr>\n",
       "    <tr>\n",
       "      <th>31</th>\n",
       "      <td>31</td>\n",
       "      <td>yogendra</td>\n",
       "      <td>28.1960977 81.7117444 107.0 4.551</td>\n",
       "      <td>Banke</td>\n",
       "      <td>sw</td>\n",
       "      <td>bk-sw-01</td>\n",
       "      <td>NaN</td>\n",
       "      <td>NaN</td>\n",
       "      <td>NaN</td>\n",
       "      <td>20</td>\n",
       "      <td>5.0</td>\n",
       "      <td>1.85</td>\n",
       "      <td>2.95</td>\n",
       "      <td>NaN</td>\n",
       "      <td>2021-02-01</td>\n",
       "      <td>NaN</td>\n",
       "      <td>bk-sw-01</td>\n",
       "      <td>Feb</td>\n",
       "    </tr>\n",
       "    <tr>\n",
       "      <th>94</th>\n",
       "      <td>94</td>\n",
       "      <td>yogendra</td>\n",
       "      <td>28.1961034 81.711776 118.65058920259087 4.854</td>\n",
       "      <td>Banke</td>\n",
       "      <td>sw</td>\n",
       "      <td>bk-sw-01</td>\n",
       "      <td>NaN</td>\n",
       "      <td>NaN</td>\n",
       "      <td>NaN</td>\n",
       "      <td>20</td>\n",
       "      <td>5.0</td>\n",
       "      <td>1.50</td>\n",
       "      <td>3.30</td>\n",
       "      <td>NaN</td>\n",
       "      <td>2021-02-28</td>\n",
       "      <td>NaN</td>\n",
       "      <td>bk-sw-01</td>\n",
       "      <td>Feb</td>\n",
       "    </tr>\n",
       "    <tr>\n",
       "      <th>116</th>\n",
       "      <td>116</td>\n",
       "      <td>yogendra</td>\n",
       "      <td>28.1960804 81.7117424 127.62967228481328 4.854</td>\n",
       "      <td>Banke</td>\n",
       "      <td>sw</td>\n",
       "      <td>bk-sw-01</td>\n",
       "      <td>NaN</td>\n",
       "      <td>NaN</td>\n",
       "      <td>NaN</td>\n",
       "      <td>20</td>\n",
       "      <td>5.0</td>\n",
       "      <td>1.34</td>\n",
       "      <td>3.46</td>\n",
       "      <td>NaN</td>\n",
       "      <td>2021-04-02</td>\n",
       "      <td>NaN</td>\n",
       "      <td>bk-sw-01</td>\n",
       "      <td>Apr</td>\n",
       "    </tr>\n",
       "  </tbody>\n",
       "</table>\n",
       "</div>"
      ],
      "text/plain": [
       "     Unnamed: 0 Enumerator Name  \\\n",
       "13           13          Subash   \n",
       "31           31        yogendra   \n",
       "94           94        yogendra   \n",
       "116         116        yogendra   \n",
       "\n",
       "                                       Geo_location District well_type  \\\n",
       "13               28.0804943 81.6419293 114.0 13.349    Banke        sw   \n",
       "31                28.1960977 81.7117444 107.0 4.551    Banke        sw   \n",
       "94    28.1961034 81.711776 118.65058920259087 4.854    Banke        sw   \n",
       "116  28.1960804 81.7117424 127.62967228481328 4.854    Banke        sw   \n",
       "\n",
       "    sw_bk_well_no bk_dw_no  well_no_sw_bardiya well_no_dw_bardiya  \\\n",
       "13       bk-sw-01      NaN  1611723819300..amr                NaN   \n",
       "31       bk-sw-01      NaN                 NaN                NaN   \n",
       "94       bk-sw-01      NaN                 NaN                NaN   \n",
       "116      bk-sw-01      NaN                 NaN                NaN   \n",
       "\n",
       "     measurement_point_cm  Measurement_of_tape_ent_point_MP_in_m  \\\n",
       "13                     20                                    3.6   \n",
       "31                     20                                    5.0   \n",
       "94                     20                                    5.0   \n",
       "116                    20                                    5.0   \n",
       "\n",
       "     wet_point_measruement_on_tape  gw_level Notes       today Audio_Notes  \\\n",
       "13                            1.20      2.20   NaN  2021-01-27        Test   \n",
       "31                            1.85      2.95   NaN  2021-02-01         NaN   \n",
       "94                            1.50      3.30   NaN  2021-02-28         NaN   \n",
       "116                           1.34      3.46   NaN  2021-04-02         NaN   \n",
       "\n",
       "      well_no Month  \n",
       "13   bk-sw-01   Jan  \n",
       "31   bk-sw-01   Feb  \n",
       "94   bk-sw-01   Feb  \n",
       "116  bk-sw-01   Apr  "
      ]
     },
     "execution_count": 138,
     "metadata": {},
     "output_type": "execute_result"
    }
   ],
   "source": [
    "df = pd.read_csv('updated_data.csv')\n",
    "df[(df.well_no == \"bk-sw-01\")]\n"
   ]
  },
  {
   "cell_type": "code",
   "execution_count": 131,
   "id": "29a764f0",
   "metadata": {},
   "outputs": [
    {
     "data": {
      "text/plain": [
       "0      bk-sw-09_1\n",
       "1        bk-sw-29\n",
       "2      bk-sw-11_1\n",
       "3        bk-sw-26\n",
       "4      bk-sw-17_1\n",
       "          ...    \n",
       "147      bd-sw-12\n",
       "148      bd-sw-13\n",
       "149      bd-sw-15\n",
       "150      bd-sw-14\n",
       "151      bd-sw-16\n",
       "Name: sw_bk_well_no, Length: 152, dtype: object"
      ]
     },
     "execution_count": 131,
     "metadata": {},
     "output_type": "execute_result"
    }
   ],
   "source": []
  },
  {
   "cell_type": "code",
   "execution_count": 139,
   "id": "47f3380d",
   "metadata": {},
   "outputs": [
    {
     "data": {
      "text/html": [
       "<div>\n",
       "<style scoped>\n",
       "    .dataframe tbody tr th:only-of-type {\n",
       "        vertical-align: middle;\n",
       "    }\n",
       "\n",
       "    .dataframe tbody tr th {\n",
       "        vertical-align: top;\n",
       "    }\n",
       "\n",
       "    .dataframe thead th {\n",
       "        text-align: right;\n",
       "    }\n",
       "</style>\n",
       "<table border=\"1\" class=\"dataframe\">\n",
       "  <thead>\n",
       "    <tr style=\"text-align: right;\">\n",
       "      <th></th>\n",
       "      <th>Unnamed: 0</th>\n",
       "      <th>Enumerator Name</th>\n",
       "      <th>Geo_location</th>\n",
       "      <th>District</th>\n",
       "      <th>well_type</th>\n",
       "      <th>sw_bk_well_no</th>\n",
       "      <th>bk_dw_no</th>\n",
       "      <th>well_no_sw_bardiya</th>\n",
       "      <th>well_no_dw_bardiya</th>\n",
       "      <th>measurement_point_cm</th>\n",
       "      <th>Measurement_of_tape_ent_point_MP_in_m</th>\n",
       "      <th>wet_point_measruement_on_tape</th>\n",
       "      <th>gw_level</th>\n",
       "      <th>Notes</th>\n",
       "      <th>today</th>\n",
       "      <th>Audio_Notes</th>\n",
       "      <th>well_no</th>\n",
       "      <th>Month</th>\n",
       "    </tr>\n",
       "  </thead>\n",
       "  <tbody>\n",
       "    <tr>\n",
       "      <th>13</th>\n",
       "      <td>13</td>\n",
       "      <td>Subash</td>\n",
       "      <td>28.0804943 81.6419293 114.0 13.349</td>\n",
       "      <td>Banke</td>\n",
       "      <td>sw</td>\n",
       "      <td>bk-sw-01</td>\n",
       "      <td>NaN</td>\n",
       "      <td>1611723819300..amr</td>\n",
       "      <td>NaN</td>\n",
       "      <td>20</td>\n",
       "      <td>3.6</td>\n",
       "      <td>1.20</td>\n",
       "      <td>2.20</td>\n",
       "      <td>NaN</td>\n",
       "      <td>2021-01-27</td>\n",
       "      <td>Test</td>\n",
       "      <td>bk-sw-01</td>\n",
       "      <td>Jan</td>\n",
       "    </tr>\n",
       "    <tr>\n",
       "      <th>31</th>\n",
       "      <td>31</td>\n",
       "      <td>yogendra</td>\n",
       "      <td>28.1960977 81.7117444 107.0 4.551</td>\n",
       "      <td>Banke</td>\n",
       "      <td>sw</td>\n",
       "      <td>bk-sw-01</td>\n",
       "      <td>NaN</td>\n",
       "      <td>NaN</td>\n",
       "      <td>NaN</td>\n",
       "      <td>20</td>\n",
       "      <td>5.0</td>\n",
       "      <td>1.85</td>\n",
       "      <td>2.95</td>\n",
       "      <td>NaN</td>\n",
       "      <td>2021-02-01</td>\n",
       "      <td>NaN</td>\n",
       "      <td>bk-sw-01</td>\n",
       "      <td>Feb</td>\n",
       "    </tr>\n",
       "    <tr>\n",
       "      <th>94</th>\n",
       "      <td>94</td>\n",
       "      <td>yogendra</td>\n",
       "      <td>28.1961034 81.711776 118.65058920259087 4.854</td>\n",
       "      <td>Banke</td>\n",
       "      <td>sw</td>\n",
       "      <td>bk-sw-01</td>\n",
       "      <td>NaN</td>\n",
       "      <td>NaN</td>\n",
       "      <td>NaN</td>\n",
       "      <td>20</td>\n",
       "      <td>5.0</td>\n",
       "      <td>1.50</td>\n",
       "      <td>3.30</td>\n",
       "      <td>NaN</td>\n",
       "      <td>2021-02-28</td>\n",
       "      <td>NaN</td>\n",
       "      <td>bk-sw-01</td>\n",
       "      <td>Feb</td>\n",
       "    </tr>\n",
       "    <tr>\n",
       "      <th>116</th>\n",
       "      <td>116</td>\n",
       "      <td>yogendra</td>\n",
       "      <td>28.1960804 81.7117424 127.62967228481328 4.854</td>\n",
       "      <td>Banke</td>\n",
       "      <td>sw</td>\n",
       "      <td>bk-sw-01</td>\n",
       "      <td>NaN</td>\n",
       "      <td>NaN</td>\n",
       "      <td>NaN</td>\n",
       "      <td>20</td>\n",
       "      <td>5.0</td>\n",
       "      <td>1.34</td>\n",
       "      <td>3.46</td>\n",
       "      <td>NaN</td>\n",
       "      <td>2021-04-02</td>\n",
       "      <td>NaN</td>\n",
       "      <td>bk-sw-01</td>\n",
       "      <td>Apr</td>\n",
       "    </tr>\n",
       "  </tbody>\n",
       "</table>\n",
       "</div>"
      ],
      "text/plain": [
       "     Unnamed: 0 Enumerator Name  \\\n",
       "13           13          Subash   \n",
       "31           31        yogendra   \n",
       "94           94        yogendra   \n",
       "116         116        yogendra   \n",
       "\n",
       "                                       Geo_location District well_type  \\\n",
       "13               28.0804943 81.6419293 114.0 13.349    Banke        sw   \n",
       "31                28.1960977 81.7117444 107.0 4.551    Banke        sw   \n",
       "94    28.1961034 81.711776 118.65058920259087 4.854    Banke        sw   \n",
       "116  28.1960804 81.7117424 127.62967228481328 4.854    Banke        sw   \n",
       "\n",
       "    sw_bk_well_no bk_dw_no  well_no_sw_bardiya well_no_dw_bardiya  \\\n",
       "13       bk-sw-01      NaN  1611723819300..amr                NaN   \n",
       "31       bk-sw-01      NaN                 NaN                NaN   \n",
       "94       bk-sw-01      NaN                 NaN                NaN   \n",
       "116      bk-sw-01      NaN                 NaN                NaN   \n",
       "\n",
       "     measurement_point_cm  Measurement_of_tape_ent_point_MP_in_m  \\\n",
       "13                     20                                    3.6   \n",
       "31                     20                                    5.0   \n",
       "94                     20                                    5.0   \n",
       "116                    20                                    5.0   \n",
       "\n",
       "     wet_point_measruement_on_tape  gw_level Notes       today Audio_Notes  \\\n",
       "13                            1.20      2.20   NaN  2021-01-27        Test   \n",
       "31                            1.85      2.95   NaN  2021-02-01         NaN   \n",
       "94                            1.50      3.30   NaN  2021-02-28         NaN   \n",
       "116                           1.34      3.46   NaN  2021-04-02         NaN   \n",
       "\n",
       "      well_no Month  \n",
       "13   bk-sw-01   Jan  \n",
       "31   bk-sw-01   Feb  \n",
       "94   bk-sw-01   Feb  \n",
       "116  bk-sw-01   Apr  "
      ]
     },
     "execution_count": 139,
     "metadata": {},
     "output_type": "execute_result"
    }
   ],
   "source": [
    "df['well_no'] = (df['sw_bk_well_no'].combine_first(df['bk_dw_no']).combine_first(df['well_no_sw_bardiya']).combine_first(df['well_no_dw_bardiya']))\n",
    "df[(df.well_no == \"bk-sw-01\")]\n"
   ]
  },
  {
   "cell_type": "code",
   "execution_count": 140,
   "id": "38f7037c",
   "metadata": {},
   "outputs": [],
   "source": [
    "df_location_stw = pd.read_excel('data/preloaded_data/updated_well_data.xlsx')\n",
    "df_location_dtw = pd.read_excel('data/preloaded_data/updated_well_data.xlsx', sheet_name= \"Deep tube wells\")\n",
    "df_location =  pd.concat([df_location_stw, df_location_dtw])"
   ]
  },
  {
   "cell_type": "code",
   "execution_count": 141,
   "id": "033d33a4",
   "metadata": {},
   "outputs": [],
   "source": [
    "df_new = pd.merge(df, df_location, on='well_no', how = 'inner')      \n",
    "df_new.to_csv('offline_logger_data.csv')\n",
    "        "
   ]
  },
  {
   "cell_type": "code",
   "execution_count": 142,
   "id": "773cfba1",
   "metadata": {},
   "outputs": [
    {
     "data": {
      "text/html": [
       "<div>\n",
       "<style scoped>\n",
       "    .dataframe tbody tr th:only-of-type {\n",
       "        vertical-align: middle;\n",
       "    }\n",
       "\n",
       "    .dataframe tbody tr th {\n",
       "        vertical-align: top;\n",
       "    }\n",
       "\n",
       "    .dataframe thead th {\n",
       "        text-align: right;\n",
       "    }\n",
       "</style>\n",
       "<table border=\"1\" class=\"dataframe\">\n",
       "  <thead>\n",
       "    <tr style=\"text-align: right;\">\n",
       "      <th></th>\n",
       "      <th>Unnamed: 0</th>\n",
       "      <th>Enumerator Name</th>\n",
       "      <th>Geo_location</th>\n",
       "      <th>District</th>\n",
       "      <th>well_type</th>\n",
       "      <th>sw_bk_well_no</th>\n",
       "      <th>bk_dw_no</th>\n",
       "      <th>well_no_sw_bardiya</th>\n",
       "      <th>well_no_dw_bardiya</th>\n",
       "      <th>measurement_point_cm</th>\n",
       "      <th>...</th>\n",
       "      <th>today</th>\n",
       "      <th>Audio_Notes</th>\n",
       "      <th>well_no</th>\n",
       "      <th>Month</th>\n",
       "      <th>S.No.</th>\n",
       "      <th>Well No.</th>\n",
       "      <th>Location</th>\n",
       "      <th>Longitude</th>\n",
       "      <th>Latitude</th>\n",
       "      <th>district</th>\n",
       "    </tr>\n",
       "  </thead>\n",
       "  <tbody>\n",
       "    <tr>\n",
       "      <th>21</th>\n",
       "      <td>13</td>\n",
       "      <td>Subash</td>\n",
       "      <td>28.0804943 81.6419293 114.0 13.349</td>\n",
       "      <td>Banke</td>\n",
       "      <td>sw</td>\n",
       "      <td>bk-sw-01</td>\n",
       "      <td>NaN</td>\n",
       "      <td>1611723819300..amr</td>\n",
       "      <td>NaN</td>\n",
       "      <td>20</td>\n",
       "      <td>...</td>\n",
       "      <td>2021-01-27</td>\n",
       "      <td>Test</td>\n",
       "      <td>bk-sw-01</td>\n",
       "      <td>Jan</td>\n",
       "      <td>1</td>\n",
       "      <td>1-045/46(BK)1</td>\n",
       "      <td>Rohini Khola</td>\n",
       "      <td>81.641929</td>\n",
       "      <td>28.080494</td>\n",
       "      <td>Banke</td>\n",
       "    </tr>\n",
       "    <tr>\n",
       "      <th>22</th>\n",
       "      <td>31</td>\n",
       "      <td>yogendra</td>\n",
       "      <td>28.1960977 81.7117444 107.0 4.551</td>\n",
       "      <td>Banke</td>\n",
       "      <td>sw</td>\n",
       "      <td>bk-sw-01</td>\n",
       "      <td>NaN</td>\n",
       "      <td>NaN</td>\n",
       "      <td>NaN</td>\n",
       "      <td>20</td>\n",
       "      <td>...</td>\n",
       "      <td>2021-02-01</td>\n",
       "      <td>NaN</td>\n",
       "      <td>bk-sw-01</td>\n",
       "      <td>Feb</td>\n",
       "      <td>1</td>\n",
       "      <td>1-045/46(BK)1</td>\n",
       "      <td>Rohini Khola</td>\n",
       "      <td>81.641929</td>\n",
       "      <td>28.080494</td>\n",
       "      <td>Banke</td>\n",
       "    </tr>\n",
       "    <tr>\n",
       "      <th>23</th>\n",
       "      <td>94</td>\n",
       "      <td>yogendra</td>\n",
       "      <td>28.1961034 81.711776 118.65058920259087 4.854</td>\n",
       "      <td>Banke</td>\n",
       "      <td>sw</td>\n",
       "      <td>bk-sw-01</td>\n",
       "      <td>NaN</td>\n",
       "      <td>NaN</td>\n",
       "      <td>NaN</td>\n",
       "      <td>20</td>\n",
       "      <td>...</td>\n",
       "      <td>2021-02-28</td>\n",
       "      <td>NaN</td>\n",
       "      <td>bk-sw-01</td>\n",
       "      <td>Feb</td>\n",
       "      <td>1</td>\n",
       "      <td>1-045/46(BK)1</td>\n",
       "      <td>Rohini Khola</td>\n",
       "      <td>81.641929</td>\n",
       "      <td>28.080494</td>\n",
       "      <td>Banke</td>\n",
       "    </tr>\n",
       "    <tr>\n",
       "      <th>24</th>\n",
       "      <td>116</td>\n",
       "      <td>yogendra</td>\n",
       "      <td>28.1960804 81.7117424 127.62967228481328 4.854</td>\n",
       "      <td>Banke</td>\n",
       "      <td>sw</td>\n",
       "      <td>bk-sw-01</td>\n",
       "      <td>NaN</td>\n",
       "      <td>NaN</td>\n",
       "      <td>NaN</td>\n",
       "      <td>20</td>\n",
       "      <td>...</td>\n",
       "      <td>2021-04-02</td>\n",
       "      <td>NaN</td>\n",
       "      <td>bk-sw-01</td>\n",
       "      <td>Apr</td>\n",
       "      <td>1</td>\n",
       "      <td>1-045/46(BK)1</td>\n",
       "      <td>Rohini Khola</td>\n",
       "      <td>81.641929</td>\n",
       "      <td>28.080494</td>\n",
       "      <td>Banke</td>\n",
       "    </tr>\n",
       "  </tbody>\n",
       "</table>\n",
       "<p>4 rows × 24 columns</p>\n",
       "</div>"
      ],
      "text/plain": [
       "    Unnamed: 0 Enumerator Name  \\\n",
       "21          13          Subash   \n",
       "22          31        yogendra   \n",
       "23          94        yogendra   \n",
       "24         116        yogendra   \n",
       "\n",
       "                                      Geo_location District well_type  \\\n",
       "21              28.0804943 81.6419293 114.0 13.349    Banke        sw   \n",
       "22               28.1960977 81.7117444 107.0 4.551    Banke        sw   \n",
       "23   28.1961034 81.711776 118.65058920259087 4.854    Banke        sw   \n",
       "24  28.1960804 81.7117424 127.62967228481328 4.854    Banke        sw   \n",
       "\n",
       "   sw_bk_well_no bk_dw_no  well_no_sw_bardiya well_no_dw_bardiya  \\\n",
       "21      bk-sw-01      NaN  1611723819300..amr                NaN   \n",
       "22      bk-sw-01      NaN                 NaN                NaN   \n",
       "23      bk-sw-01      NaN                 NaN                NaN   \n",
       "24      bk-sw-01      NaN                 NaN                NaN   \n",
       "\n",
       "    measurement_point_cm  ...       today  Audio_Notes   well_no Month S.No.  \\\n",
       "21                    20  ...  2021-01-27         Test  bk-sw-01   Jan     1   \n",
       "22                    20  ...  2021-02-01          NaN  bk-sw-01   Feb     1   \n",
       "23                    20  ...  2021-02-28          NaN  bk-sw-01   Feb     1   \n",
       "24                    20  ...  2021-04-02          NaN  bk-sw-01   Apr     1   \n",
       "\n",
       "          Well No.      Location  Longitude   Latitude district  \n",
       "21  1-045/46(BK)1   Rohini Khola  81.641929  28.080494    Banke  \n",
       "22  1-045/46(BK)1   Rohini Khola  81.641929  28.080494    Banke  \n",
       "23  1-045/46(BK)1   Rohini Khola  81.641929  28.080494    Banke  \n",
       "24  1-045/46(BK)1   Rohini Khola  81.641929  28.080494    Banke  \n",
       "\n",
       "[4 rows x 24 columns]"
      ]
     },
     "execution_count": 142,
     "metadata": {},
     "output_type": "execute_result"
    }
   ],
   "source": [
    "df_new[(df_new.well_no == \"bk-sw-01\")]\n"
   ]
  },
  {
   "cell_type": "code",
   "execution_count": 127,
   "id": "39ffdd13",
   "metadata": {},
   "outputs": [],
   "source": [
    "df_odk_data = pd.read_csv('offline_logger_data.csv')\n",
    "df_offline_logger = all_off_logger_df"
   ]
  },
  {
   "cell_type": "code",
   "execution_count": 128,
   "id": "8149c86c",
   "metadata": {},
   "outputs": [
    {
     "data": {
      "text/html": [
       "<div>\n",
       "<style scoped>\n",
       "    .dataframe tbody tr th:only-of-type {\n",
       "        vertical-align: middle;\n",
       "    }\n",
       "\n",
       "    .dataframe tbody tr th {\n",
       "        vertical-align: top;\n",
       "    }\n",
       "\n",
       "    .dataframe thead th {\n",
       "        text-align: right;\n",
       "    }\n",
       "</style>\n",
       "<table border=\"1\" class=\"dataframe\">\n",
       "  <thead>\n",
       "    <tr style=\"text-align: right;\">\n",
       "      <th></th>\n",
       "      <th>Index</th>\n",
       "      <th>SN</th>\n",
       "      <th>Date</th>\n",
       "      <th>Abs Pres (KPa)</th>\n",
       "      <th>Temp(°C)</th>\n",
       "      <th>Water Level(meters)</th>\n",
       "      <th>Month</th>\n",
       "      <th>Location</th>\n",
       "    </tr>\n",
       "  </thead>\n",
       "  <tbody>\n",
       "    <tr>\n",
       "      <th>0</th>\n",
       "      <td>0</td>\n",
       "      <td>1</td>\n",
       "      <td>2021-02-08 17:00:00</td>\n",
       "      <td>129.997</td>\n",
       "      <td>24.931</td>\n",
       "      <td>3.360</td>\n",
       "      <td>Feb</td>\n",
       "      <td>Rohini Khola</td>\n",
       "    </tr>\n",
       "    <tr>\n",
       "      <th>1</th>\n",
       "      <td>1</td>\n",
       "      <td>2</td>\n",
       "      <td>2021-02-09 05:00:00</td>\n",
       "      <td>129.822</td>\n",
       "      <td>24.931</td>\n",
       "      <td>3.378</td>\n",
       "      <td>Feb</td>\n",
       "      <td>Rohini Khola</td>\n",
       "    </tr>\n",
       "    <tr>\n",
       "      <th>2</th>\n",
       "      <td>2</td>\n",
       "      <td>3</td>\n",
       "      <td>2021-02-09 17:00:00</td>\n",
       "      <td>129.754</td>\n",
       "      <td>24.835</td>\n",
       "      <td>3.385</td>\n",
       "      <td>Feb</td>\n",
       "      <td>Rohini Khola</td>\n",
       "    </tr>\n",
       "    <tr>\n",
       "      <th>3</th>\n",
       "      <td>3</td>\n",
       "      <td>4</td>\n",
       "      <td>2021-02-10 05:00:00</td>\n",
       "      <td>129.649</td>\n",
       "      <td>24.835</td>\n",
       "      <td>3.395</td>\n",
       "      <td>Feb</td>\n",
       "      <td>Rohini Khola</td>\n",
       "    </tr>\n",
       "    <tr>\n",
       "      <th>4</th>\n",
       "      <td>4</td>\n",
       "      <td>5</td>\n",
       "      <td>2021-02-10 17:00:00</td>\n",
       "      <td>129.614</td>\n",
       "      <td>24.835</td>\n",
       "      <td>3.399</td>\n",
       "      <td>Feb</td>\n",
       "      <td>Rohini Khola</td>\n",
       "    </tr>\n",
       "    <tr>\n",
       "      <th>5</th>\n",
       "      <td>5</td>\n",
       "      <td>6</td>\n",
       "      <td>2021-02-11 05:00:00</td>\n",
       "      <td>129.579</td>\n",
       "      <td>24.835</td>\n",
       "      <td>3.403</td>\n",
       "      <td>Feb</td>\n",
       "      <td>Rohini Khola</td>\n",
       "    </tr>\n",
       "    <tr>\n",
       "      <th>6</th>\n",
       "      <td>6</td>\n",
       "      <td>7</td>\n",
       "      <td>2021-02-11 17:00:00</td>\n",
       "      <td>129.474</td>\n",
       "      <td>24.835</td>\n",
       "      <td>3.413</td>\n",
       "      <td>Feb</td>\n",
       "      <td>Rohini Khola</td>\n",
       "    </tr>\n",
       "    <tr>\n",
       "      <th>7</th>\n",
       "      <td>7</td>\n",
       "      <td>8</td>\n",
       "      <td>2021-02-12 05:00:00</td>\n",
       "      <td>129.684</td>\n",
       "      <td>24.835</td>\n",
       "      <td>3.392</td>\n",
       "      <td>Feb</td>\n",
       "      <td>Rohini Khola</td>\n",
       "    </tr>\n",
       "    <tr>\n",
       "      <th>8</th>\n",
       "      <td>8</td>\n",
       "      <td>9</td>\n",
       "      <td>2021-02-12 12:06:00</td>\n",
       "      <td>NaN</td>\n",
       "      <td>NaN</td>\n",
       "      <td>NaN</td>\n",
       "      <td>Feb</td>\n",
       "      <td>Rohini Khola</td>\n",
       "    </tr>\n",
       "    <tr>\n",
       "      <th>9</th>\n",
       "      <td>9</td>\n",
       "      <td>10</td>\n",
       "      <td>2021-02-12 12:06:00</td>\n",
       "      <td>NaN</td>\n",
       "      <td>NaN</td>\n",
       "      <td>NaN</td>\n",
       "      <td>Feb</td>\n",
       "      <td>Rohini Khola</td>\n",
       "    </tr>\n",
       "    <tr>\n",
       "      <th>10</th>\n",
       "      <td>10</td>\n",
       "      <td>11</td>\n",
       "      <td>2021-03-12 12:06:00</td>\n",
       "      <td>NaN</td>\n",
       "      <td>NaN</td>\n",
       "      <td>4.500</td>\n",
       "      <td>Mar</td>\n",
       "      <td>Rohini Khola</td>\n",
       "    </tr>\n",
       "    <tr>\n",
       "      <th>11</th>\n",
       "      <td>11</td>\n",
       "      <td>12</td>\n",
       "      <td>2021-04-12 12:06:00</td>\n",
       "      <td>NaN</td>\n",
       "      <td>NaN</td>\n",
       "      <td>2.300</td>\n",
       "      <td>Apr</td>\n",
       "      <td>Rohini Khola</td>\n",
       "    </tr>\n",
       "    <tr>\n",
       "      <th>12</th>\n",
       "      <td>12</td>\n",
       "      <td>12</td>\n",
       "      <td>2021-05-12 12:06:00</td>\n",
       "      <td>NaN</td>\n",
       "      <td>NaN</td>\n",
       "      <td>2.300</td>\n",
       "      <td>May</td>\n",
       "      <td>Rohini Khola</td>\n",
       "    </tr>\n",
       "    <tr>\n",
       "      <th>13</th>\n",
       "      <td>13</td>\n",
       "      <td>12</td>\n",
       "      <td>2021-06-12 12:06:00</td>\n",
       "      <td>NaN</td>\n",
       "      <td>NaN</td>\n",
       "      <td>2.300</td>\n",
       "      <td>Jun</td>\n",
       "      <td>Rohini Khola</td>\n",
       "    </tr>\n",
       "    <tr>\n",
       "      <th>14</th>\n",
       "      <td>0</td>\n",
       "      <td>1</td>\n",
       "      <td>2021-05-08 17:00:00</td>\n",
       "      <td>129.997</td>\n",
       "      <td>24.931</td>\n",
       "      <td>3.360</td>\n",
       "      <td>May</td>\n",
       "      <td>Rohini Khola</td>\n",
       "    </tr>\n",
       "    <tr>\n",
       "      <th>15</th>\n",
       "      <td>1</td>\n",
       "      <td>2</td>\n",
       "      <td>2021-05-09 05:00:00</td>\n",
       "      <td>129.822</td>\n",
       "      <td>24.931</td>\n",
       "      <td>3.378</td>\n",
       "      <td>May</td>\n",
       "      <td>Rohini Khola</td>\n",
       "    </tr>\n",
       "    <tr>\n",
       "      <th>16</th>\n",
       "      <td>2</td>\n",
       "      <td>3</td>\n",
       "      <td>2021-05-09 17:00:00</td>\n",
       "      <td>129.754</td>\n",
       "      <td>24.835</td>\n",
       "      <td>3.385</td>\n",
       "      <td>May</td>\n",
       "      <td>Rohini Khola</td>\n",
       "    </tr>\n",
       "    <tr>\n",
       "      <th>17</th>\n",
       "      <td>3</td>\n",
       "      <td>10</td>\n",
       "      <td>2021-06-12 12:06:00</td>\n",
       "      <td>NaN</td>\n",
       "      <td>NaN</td>\n",
       "      <td>NaN</td>\n",
       "      <td>Jun</td>\n",
       "      <td>Rohini Khola</td>\n",
       "    </tr>\n",
       "    <tr>\n",
       "      <th>18</th>\n",
       "      <td>0</td>\n",
       "      <td>1</td>\n",
       "      <td>2021-05-08 17:00:00</td>\n",
       "      <td>129.997</td>\n",
       "      <td>24.931</td>\n",
       "      <td>3.360</td>\n",
       "      <td>May</td>\n",
       "      <td>Rohini Khola</td>\n",
       "    </tr>\n",
       "    <tr>\n",
       "      <th>19</th>\n",
       "      <td>1</td>\n",
       "      <td>2</td>\n",
       "      <td>2021-05-09 05:00:00</td>\n",
       "      <td>129.822</td>\n",
       "      <td>24.931</td>\n",
       "      <td>3.378</td>\n",
       "      <td>May</td>\n",
       "      <td>Rohini Khola</td>\n",
       "    </tr>\n",
       "    <tr>\n",
       "      <th>20</th>\n",
       "      <td>2</td>\n",
       "      <td>3</td>\n",
       "      <td>2021-05-09 17:00:00</td>\n",
       "      <td>129.754</td>\n",
       "      <td>24.835</td>\n",
       "      <td>3.385</td>\n",
       "      <td>May</td>\n",
       "      <td>Rohini Khola</td>\n",
       "    </tr>\n",
       "    <tr>\n",
       "      <th>21</th>\n",
       "      <td>3</td>\n",
       "      <td>10</td>\n",
       "      <td>2021-06-12 12:06:00</td>\n",
       "      <td>NaN</td>\n",
       "      <td>NaN</td>\n",
       "      <td>NaN</td>\n",
       "      <td>Jun</td>\n",
       "      <td>Rohini Khola</td>\n",
       "    </tr>\n",
       "    <tr>\n",
       "      <th>22</th>\n",
       "      <td>4</td>\n",
       "      <td>3</td>\n",
       "      <td>2021-07-09 17:00:00</td>\n",
       "      <td>129.754</td>\n",
       "      <td>24.835</td>\n",
       "      <td>3.385</td>\n",
       "      <td>Jul</td>\n",
       "      <td>Rohini Khola</td>\n",
       "    </tr>\n",
       "    <tr>\n",
       "      <th>23</th>\n",
       "      <td>5</td>\n",
       "      <td>10</td>\n",
       "      <td>2021-08-12 12:06:00</td>\n",
       "      <td>NaN</td>\n",
       "      <td>NaN</td>\n",
       "      <td>NaN</td>\n",
       "      <td>Aug</td>\n",
       "      <td>Rohini Khola</td>\n",
       "    </tr>\n",
       "    <tr>\n",
       "      <th>24</th>\n",
       "      <td>6</td>\n",
       "      <td>3</td>\n",
       "      <td>2021-09-09 17:00:00</td>\n",
       "      <td>129.754</td>\n",
       "      <td>24.835</td>\n",
       "      <td>3.385</td>\n",
       "      <td>Sep</td>\n",
       "      <td>Rohini Khola</td>\n",
       "    </tr>\n",
       "    <tr>\n",
       "      <th>25</th>\n",
       "      <td>7</td>\n",
       "      <td>10</td>\n",
       "      <td>2021-10-12 12:06:00</td>\n",
       "      <td>NaN</td>\n",
       "      <td>NaN</td>\n",
       "      <td>NaN</td>\n",
       "      <td>Oct</td>\n",
       "      <td>Rohini Khola</td>\n",
       "    </tr>\n",
       "  </tbody>\n",
       "</table>\n",
       "</div>"
      ],
      "text/plain": [
       "    Index  SN                Date  Abs Pres (KPa)  Temp(°C)  \\\n",
       "0       0   1 2021-02-08 17:00:00         129.997    24.931   \n",
       "1       1   2 2021-02-09 05:00:00         129.822    24.931   \n",
       "2       2   3 2021-02-09 17:00:00         129.754    24.835   \n",
       "3       3   4 2021-02-10 05:00:00         129.649    24.835   \n",
       "4       4   5 2021-02-10 17:00:00         129.614    24.835   \n",
       "5       5   6 2021-02-11 05:00:00         129.579    24.835   \n",
       "6       6   7 2021-02-11 17:00:00         129.474    24.835   \n",
       "7       7   8 2021-02-12 05:00:00         129.684    24.835   \n",
       "8       8   9 2021-02-12 12:06:00             NaN       NaN   \n",
       "9       9  10 2021-02-12 12:06:00             NaN       NaN   \n",
       "10     10  11 2021-03-12 12:06:00             NaN       NaN   \n",
       "11     11  12 2021-04-12 12:06:00             NaN       NaN   \n",
       "12     12  12 2021-05-12 12:06:00             NaN       NaN   \n",
       "13     13  12 2021-06-12 12:06:00             NaN       NaN   \n",
       "14      0   1 2021-05-08 17:00:00         129.997    24.931   \n",
       "15      1   2 2021-05-09 05:00:00         129.822    24.931   \n",
       "16      2   3 2021-05-09 17:00:00         129.754    24.835   \n",
       "17      3  10 2021-06-12 12:06:00             NaN       NaN   \n",
       "18      0   1 2021-05-08 17:00:00         129.997    24.931   \n",
       "19      1   2 2021-05-09 05:00:00         129.822    24.931   \n",
       "20      2   3 2021-05-09 17:00:00         129.754    24.835   \n",
       "21      3  10 2021-06-12 12:06:00             NaN       NaN   \n",
       "22      4   3 2021-07-09 17:00:00         129.754    24.835   \n",
       "23      5  10 2021-08-12 12:06:00             NaN       NaN   \n",
       "24      6   3 2021-09-09 17:00:00         129.754    24.835   \n",
       "25      7  10 2021-10-12 12:06:00             NaN       NaN   \n",
       "\n",
       "    Water Level(meters) Month      Location  \n",
       "0                 3.360   Feb  Rohini Khola  \n",
       "1                 3.378   Feb  Rohini Khola  \n",
       "2                 3.385   Feb  Rohini Khola  \n",
       "3                 3.395   Feb  Rohini Khola  \n",
       "4                 3.399   Feb  Rohini Khola  \n",
       "5                 3.403   Feb  Rohini Khola  \n",
       "6                 3.413   Feb  Rohini Khola  \n",
       "7                 3.392   Feb  Rohini Khola  \n",
       "8                   NaN   Feb  Rohini Khola  \n",
       "9                   NaN   Feb  Rohini Khola  \n",
       "10                4.500   Mar  Rohini Khola  \n",
       "11                2.300   Apr  Rohini Khola  \n",
       "12                2.300   May  Rohini Khola  \n",
       "13                2.300   Jun  Rohini Khola  \n",
       "14                3.360   May  Rohini Khola  \n",
       "15                3.378   May  Rohini Khola  \n",
       "16                3.385   May  Rohini Khola  \n",
       "17                  NaN   Jun  Rohini Khola  \n",
       "18                3.360   May  Rohini Khola  \n",
       "19                3.378   May  Rohini Khola  \n",
       "20                3.385   May  Rohini Khola  \n",
       "21                  NaN   Jun  Rohini Khola  \n",
       "22                3.385   Jul  Rohini Khola  \n",
       "23                  NaN   Aug  Rohini Khola  \n",
       "24                3.385   Sep  Rohini Khola  \n",
       "25                  NaN   Oct  Rohini Khola  "
      ]
     },
     "execution_count": 128,
     "metadata": {},
     "output_type": "execute_result"
    }
   ],
   "source": [
    "df_offline_logger[(df_offline_logger.Location == \"Rohini Khola\")]"
   ]
  },
  {
   "cell_type": "code",
   "execution_count": 124,
   "id": "184933c7",
   "metadata": {},
   "outputs": [
    {
     "data": {
      "text/html": [
       "<div>\n",
       "<style scoped>\n",
       "    .dataframe tbody tr th:only-of-type {\n",
       "        vertical-align: middle;\n",
       "    }\n",
       "\n",
       "    .dataframe tbody tr th {\n",
       "        vertical-align: top;\n",
       "    }\n",
       "\n",
       "    .dataframe thead th {\n",
       "        text-align: right;\n",
       "    }\n",
       "</style>\n",
       "<table border=\"1\" class=\"dataframe\">\n",
       "  <thead>\n",
       "    <tr style=\"text-align: right;\">\n",
       "      <th></th>\n",
       "      <th>Unnamed: 0</th>\n",
       "      <th>Unnamed: 0.1</th>\n",
       "      <th>Enumerator Name</th>\n",
       "      <th>Geo_location</th>\n",
       "      <th>District</th>\n",
       "      <th>well_type</th>\n",
       "      <th>sw_bk_well_no</th>\n",
       "      <th>bk_dw_no</th>\n",
       "      <th>well_no_sw_bardiya</th>\n",
       "      <th>well_no_dw_bardiya</th>\n",
       "      <th>...</th>\n",
       "      <th>today</th>\n",
       "      <th>Audio_Notes</th>\n",
       "      <th>well_no</th>\n",
       "      <th>Month</th>\n",
       "      <th>S.No.</th>\n",
       "      <th>Well No.</th>\n",
       "      <th>Location</th>\n",
       "      <th>Longitude</th>\n",
       "      <th>Latitude</th>\n",
       "      <th>district</th>\n",
       "    </tr>\n",
       "  </thead>\n",
       "  <tbody>\n",
       "    <tr>\n",
       "      <th>21</th>\n",
       "      <td>21</td>\n",
       "      <td>13</td>\n",
       "      <td>Subash</td>\n",
       "      <td>28.0804943 81.6419293 114.0 13.349</td>\n",
       "      <td>Banke</td>\n",
       "      <td>sw</td>\n",
       "      <td>bk-sw-01</td>\n",
       "      <td>NaN</td>\n",
       "      <td>1611723819300..amr</td>\n",
       "      <td>NaN</td>\n",
       "      <td>...</td>\n",
       "      <td>2021-01-27</td>\n",
       "      <td>Test</td>\n",
       "      <td>bk-sw-01</td>\n",
       "      <td>Jan</td>\n",
       "      <td>1</td>\n",
       "      <td>1-045/46(BK)1</td>\n",
       "      <td>Rohini Khola</td>\n",
       "      <td>81.641929</td>\n",
       "      <td>28.080494</td>\n",
       "      <td>Banke</td>\n",
       "    </tr>\n",
       "    <tr>\n",
       "      <th>22</th>\n",
       "      <td>22</td>\n",
       "      <td>31</td>\n",
       "      <td>yogendra</td>\n",
       "      <td>28.1960977 81.7117444 107.0 4.551</td>\n",
       "      <td>Banke</td>\n",
       "      <td>sw</td>\n",
       "      <td>bk-sw-01</td>\n",
       "      <td>NaN</td>\n",
       "      <td>NaN</td>\n",
       "      <td>NaN</td>\n",
       "      <td>...</td>\n",
       "      <td>2021-02-01</td>\n",
       "      <td>NaN</td>\n",
       "      <td>bk-sw-01</td>\n",
       "      <td>Feb</td>\n",
       "      <td>1</td>\n",
       "      <td>1-045/46(BK)1</td>\n",
       "      <td>Rohini Khola</td>\n",
       "      <td>81.641929</td>\n",
       "      <td>28.080494</td>\n",
       "      <td>Banke</td>\n",
       "    </tr>\n",
       "    <tr>\n",
       "      <th>23</th>\n",
       "      <td>23</td>\n",
       "      <td>94</td>\n",
       "      <td>yogendra</td>\n",
       "      <td>28.1961034 81.711776 118.65058920259087 4.854</td>\n",
       "      <td>Banke</td>\n",
       "      <td>sw</td>\n",
       "      <td>bk-sw-01</td>\n",
       "      <td>NaN</td>\n",
       "      <td>NaN</td>\n",
       "      <td>NaN</td>\n",
       "      <td>...</td>\n",
       "      <td>2021-02-28</td>\n",
       "      <td>NaN</td>\n",
       "      <td>bk-sw-01</td>\n",
       "      <td>Feb</td>\n",
       "      <td>1</td>\n",
       "      <td>1-045/46(BK)1</td>\n",
       "      <td>Rohini Khola</td>\n",
       "      <td>81.641929</td>\n",
       "      <td>28.080494</td>\n",
       "      <td>Banke</td>\n",
       "    </tr>\n",
       "    <tr>\n",
       "      <th>24</th>\n",
       "      <td>24</td>\n",
       "      <td>116</td>\n",
       "      <td>yogendra</td>\n",
       "      <td>28.1960804 81.7117424 127.62967228481328 4.854</td>\n",
       "      <td>Banke</td>\n",
       "      <td>sw</td>\n",
       "      <td>bk-sw-01</td>\n",
       "      <td>NaN</td>\n",
       "      <td>NaN</td>\n",
       "      <td>NaN</td>\n",
       "      <td>...</td>\n",
       "      <td>2021-04-02</td>\n",
       "      <td>NaN</td>\n",
       "      <td>bk-sw-01</td>\n",
       "      <td>Apr</td>\n",
       "      <td>1</td>\n",
       "      <td>1-045/46(BK)1</td>\n",
       "      <td>Rohini Khola</td>\n",
       "      <td>81.641929</td>\n",
       "      <td>28.080494</td>\n",
       "      <td>Banke</td>\n",
       "    </tr>\n",
       "  </tbody>\n",
       "</table>\n",
       "<p>4 rows × 25 columns</p>\n",
       "</div>"
      ],
      "text/plain": [
       "    Unnamed: 0  Unnamed: 0.1 Enumerator Name  \\\n",
       "21          21            13          Subash   \n",
       "22          22            31        yogendra   \n",
       "23          23            94        yogendra   \n",
       "24          24           116        yogendra   \n",
       "\n",
       "                                      Geo_location District well_type  \\\n",
       "21              28.0804943 81.6419293 114.0 13.349    Banke        sw   \n",
       "22               28.1960977 81.7117444 107.0 4.551    Banke        sw   \n",
       "23   28.1961034 81.711776 118.65058920259087 4.854    Banke        sw   \n",
       "24  28.1960804 81.7117424 127.62967228481328 4.854    Banke        sw   \n",
       "\n",
       "   sw_bk_well_no bk_dw_no  well_no_sw_bardiya well_no_dw_bardiya  ...  \\\n",
       "21      bk-sw-01      NaN  1611723819300..amr                NaN  ...   \n",
       "22      bk-sw-01      NaN                 NaN                NaN  ...   \n",
       "23      bk-sw-01      NaN                 NaN                NaN  ...   \n",
       "24      bk-sw-01      NaN                 NaN                NaN  ...   \n",
       "\n",
       "         today  Audio_Notes   well_no  Month  S.No.        Well No.  \\\n",
       "21  2021-01-27         Test  bk-sw-01    Jan      1  1-045/46(BK)1    \n",
       "22  2021-02-01          NaN  bk-sw-01    Feb      1  1-045/46(BK)1    \n",
       "23  2021-02-28          NaN  bk-sw-01    Feb      1  1-045/46(BK)1    \n",
       "24  2021-04-02          NaN  bk-sw-01    Apr      1  1-045/46(BK)1    \n",
       "\n",
       "        Location  Longitude   Latitude  district  \n",
       "21  Rohini Khola  81.641929  28.080494     Banke  \n",
       "22  Rohini Khola  81.641929  28.080494     Banke  \n",
       "23  Rohini Khola  81.641929  28.080494     Banke  \n",
       "24  Rohini Khola  81.641929  28.080494     Banke  \n",
       "\n",
       "[4 rows x 25 columns]"
      ]
     },
     "execution_count": 124,
     "metadata": {},
     "output_type": "execute_result"
    }
   ],
   "source": [
    "df_odk_data[(df_odk_data.Location == \"Rohini Khola\")]"
   ]
  },
  {
   "cell_type": "code",
   "execution_count": 76,
   "id": "82f6a3cd",
   "metadata": {},
   "outputs": [
    {
     "ename": "NameError",
     "evalue": "name 'data_logger_value' is not defined",
     "output_type": "error",
     "traceback": [
      "\u001b[0;31m---------------------------------------------------------------------------\u001b[0m",
      "\u001b[0;31mNameError\u001b[0m                                 Traceback (most recent call last)",
      "\u001b[0;32m<ipython-input-76-e64efe83c359>\u001b[0m in \u001b[0;36m<module>\u001b[0;34m\u001b[0m\n\u001b[0;32m----> 1\u001b[0;31m \u001b[0mdf_offline\u001b[0m \u001b[0;34m=\u001b[0m \u001b[0mdf_offline_logger\u001b[0m\u001b[0;34m[\u001b[0m\u001b[0mdf_offline_logger\u001b[0m\u001b[0;34m[\u001b[0m\u001b[0;34m'Location'\u001b[0m\u001b[0;34m]\u001b[0m\u001b[0;34m.\u001b[0m\u001b[0misin\u001b[0m\u001b[0;34m(\u001b[0m\u001b[0mdata_logger_value\u001b[0m\u001b[0;34m)\u001b[0m\u001b[0;34m]\u001b[0m\u001b[0;34m\u001b[0m\u001b[0;34m\u001b[0m\u001b[0m\n\u001b[0m\u001b[1;32m      2\u001b[0m \u001b[0mdf_odk\u001b[0m \u001b[0;34m=\u001b[0m \u001b[0mdf_odk_data\u001b[0m\u001b[0;34m[\u001b[0m\u001b[0mdf_odk_data\u001b[0m\u001b[0;34m[\u001b[0m\u001b[0;34m'Location'\u001b[0m\u001b[0;34m]\u001b[0m\u001b[0;34m.\u001b[0m\u001b[0misin\u001b[0m\u001b[0;34m(\u001b[0m\u001b[0mwells_dropdown_value\u001b[0m\u001b[0;34m)\u001b[0m\u001b[0;34m]\u001b[0m\u001b[0;34m\u001b[0m\u001b[0;34m\u001b[0m\u001b[0m\n\u001b[1;32m      3\u001b[0m \u001b[0mdf_odk\u001b[0m\u001b[0;34m[\u001b[0m\u001b[0;34m'ODK'\u001b[0m\u001b[0;34m]\u001b[0m \u001b[0;34m=\u001b[0m \u001b[0;34m'ODK'\u001b[0m\u001b[0;34m\u001b[0m\u001b[0;34m\u001b[0m\u001b[0m\n",
      "\u001b[0;31mNameError\u001b[0m: name 'data_logger_value' is not defined"
     ]
    }
   ],
   "source": [
    "df_offline = df_offline_logger[df_offline_logger['Location'].isin(data_logger_value)]\n",
    "df_odk = df_odk_data[df_odk_data['Location'].isin(wells_dropdown_value)]\n",
    "df_odk['ODK'] = 'ODK'"
   ]
  },
  {
   "cell_type": "code",
   "execution_count": 109,
   "id": "0d1cdb64",
   "metadata": {},
   "outputs": [
    {
     "name": "stderr",
     "output_type": "stream",
     "text": [
      "<ipython-input-109-ac0cf44d341d>:2: SettingWithCopyWarning:\n",
      "\n",
      "\n",
      "A value is trying to be set on a copy of a slice from a DataFrame.\n",
      "Try using .loc[row_indexer,col_indexer] = value instead\n",
      "\n",
      "See the caveats in the documentation: https://pandas.pydata.org/pandas-docs/stable/user_guide/indexing.html#returning-a-view-versus-a-copy\n",
      "\n"
     ]
    }
   ],
   "source": [
    "df_odk = df_odk_data[df_odk_data['Location'].isin([\"Rohini Khola\",\"D-gaon\"])]\n",
    "df_odk['ODK'] = 'ODK'"
   ]
  },
  {
   "cell_type": "code",
   "execution_count": 120,
   "id": "a55569eb",
   "metadata": {},
   "outputs": [
    {
     "data": {
      "text/html": [
       "<div>\n",
       "<style scoped>\n",
       "    .dataframe tbody tr th:only-of-type {\n",
       "        vertical-align: middle;\n",
       "    }\n",
       "\n",
       "    .dataframe tbody tr th {\n",
       "        vertical-align: top;\n",
       "    }\n",
       "\n",
       "    .dataframe thead th {\n",
       "        text-align: right;\n",
       "    }\n",
       "</style>\n",
       "<table border=\"1\" class=\"dataframe\">\n",
       "  <thead>\n",
       "    <tr style=\"text-align: right;\">\n",
       "      <th></th>\n",
       "      <th>Unnamed: 0</th>\n",
       "      <th>Unnamed: 0.1</th>\n",
       "      <th>Enumerator Name</th>\n",
       "      <th>Geo_location</th>\n",
       "      <th>District</th>\n",
       "      <th>well_type</th>\n",
       "      <th>sw_bk_well_no</th>\n",
       "      <th>bk_dw_no</th>\n",
       "      <th>well_no_sw_bardiya</th>\n",
       "      <th>well_no_dw_bardiya</th>\n",
       "      <th>...</th>\n",
       "      <th>Audio_Notes</th>\n",
       "      <th>well_no</th>\n",
       "      <th>Month</th>\n",
       "      <th>S.No.</th>\n",
       "      <th>Well No.</th>\n",
       "      <th>Location</th>\n",
       "      <th>Longitude</th>\n",
       "      <th>Latitude</th>\n",
       "      <th>district</th>\n",
       "      <th>ODK</th>\n",
       "    </tr>\n",
       "  </thead>\n",
       "  <tbody>\n",
       "    <tr>\n",
       "      <th>12</th>\n",
       "      <td>12</td>\n",
       "      <td>4</td>\n",
       "      <td>yogendral</td>\n",
       "      <td>28.1287297 81.5894124 88.46230121420037 4.854</td>\n",
       "      <td>Banke</td>\n",
       "      <td>sw</td>\n",
       "      <td>bk-sw-17_1</td>\n",
       "      <td>NaN</td>\n",
       "      <td>NaN</td>\n",
       "      <td>NaN</td>\n",
       "      <td>...</td>\n",
       "      <td>NaN</td>\n",
       "      <td>bk-sw-17_1</td>\n",
       "      <td>Feb</td>\n",
       "      <td>17</td>\n",
       "      <td>1-045/46(BK)17</td>\n",
       "      <td>D-gaon</td>\n",
       "      <td>81.589428</td>\n",
       "      <td>28.128715</td>\n",
       "      <td>Banke</td>\n",
       "      <td>ODK</td>\n",
       "    </tr>\n",
       "    <tr>\n",
       "      <th>13</th>\n",
       "      <td>13</td>\n",
       "      <td>16</td>\n",
       "      <td>yogendra</td>\n",
       "      <td>28.1287151 81.5894281 88.0 4.551</td>\n",
       "      <td>Banke</td>\n",
       "      <td>sw</td>\n",
       "      <td>bk-sw-17_1</td>\n",
       "      <td>NaN</td>\n",
       "      <td>NaN</td>\n",
       "      <td>NaN</td>\n",
       "      <td>...</td>\n",
       "      <td>NaN</td>\n",
       "      <td>bk-sw-17_1</td>\n",
       "      <td>Jan</td>\n",
       "      <td>17</td>\n",
       "      <td>1-045/46(BK)17</td>\n",
       "      <td>D-gaon</td>\n",
       "      <td>81.589428</td>\n",
       "      <td>28.128715</td>\n",
       "      <td>Banke</td>\n",
       "      <td>ODK</td>\n",
       "    </tr>\n",
       "    <tr>\n",
       "      <th>14</th>\n",
       "      <td>14</td>\n",
       "      <td>123</td>\n",
       "      <td>yogendra</td>\n",
       "      <td>28.1287337 81.5893729 87.98446775075215 4.551</td>\n",
       "      <td>Banke</td>\n",
       "      <td>sw</td>\n",
       "      <td>bk-sw-17_1</td>\n",
       "      <td>NaN</td>\n",
       "      <td>NaN</td>\n",
       "      <td>NaN</td>\n",
       "      <td>...</td>\n",
       "      <td>NaN</td>\n",
       "      <td>bk-sw-17_1</td>\n",
       "      <td>Apr</td>\n",
       "      <td>17</td>\n",
       "      <td>1-045/46(BK)17</td>\n",
       "      <td>D-gaon</td>\n",
       "      <td>81.589428</td>\n",
       "      <td>28.128715</td>\n",
       "      <td>Banke</td>\n",
       "      <td>ODK</td>\n",
       "    </tr>\n",
       "    <tr>\n",
       "      <th>21</th>\n",
       "      <td>21</td>\n",
       "      <td>13</td>\n",
       "      <td>Subash</td>\n",
       "      <td>28.0804943 81.6419293 114.0 13.349</td>\n",
       "      <td>Banke</td>\n",
       "      <td>sw</td>\n",
       "      <td>bk-sw-01</td>\n",
       "      <td>NaN</td>\n",
       "      <td>1611723819300..amr</td>\n",
       "      <td>NaN</td>\n",
       "      <td>...</td>\n",
       "      <td>Test</td>\n",
       "      <td>bk-sw-01</td>\n",
       "      <td>Jan</td>\n",
       "      <td>1</td>\n",
       "      <td>1-045/46(BK)1</td>\n",
       "      <td>Rohini Khola</td>\n",
       "      <td>81.641929</td>\n",
       "      <td>28.080494</td>\n",
       "      <td>Banke</td>\n",
       "      <td>ODK</td>\n",
       "    </tr>\n",
       "    <tr>\n",
       "      <th>22</th>\n",
       "      <td>22</td>\n",
       "      <td>31</td>\n",
       "      <td>yogendra</td>\n",
       "      <td>28.1960977 81.7117444 107.0 4.551</td>\n",
       "      <td>Banke</td>\n",
       "      <td>sw</td>\n",
       "      <td>bk-sw-01</td>\n",
       "      <td>NaN</td>\n",
       "      <td>NaN</td>\n",
       "      <td>NaN</td>\n",
       "      <td>...</td>\n",
       "      <td>NaN</td>\n",
       "      <td>bk-sw-01</td>\n",
       "      <td>Feb</td>\n",
       "      <td>1</td>\n",
       "      <td>1-045/46(BK)1</td>\n",
       "      <td>Rohini Khola</td>\n",
       "      <td>81.641929</td>\n",
       "      <td>28.080494</td>\n",
       "      <td>Banke</td>\n",
       "      <td>ODK</td>\n",
       "    </tr>\n",
       "    <tr>\n",
       "      <th>23</th>\n",
       "      <td>23</td>\n",
       "      <td>94</td>\n",
       "      <td>yogendra</td>\n",
       "      <td>28.1961034 81.711776 118.65058920259087 4.854</td>\n",
       "      <td>Banke</td>\n",
       "      <td>sw</td>\n",
       "      <td>bk-sw-01</td>\n",
       "      <td>NaN</td>\n",
       "      <td>NaN</td>\n",
       "      <td>NaN</td>\n",
       "      <td>...</td>\n",
       "      <td>NaN</td>\n",
       "      <td>bk-sw-01</td>\n",
       "      <td>Feb</td>\n",
       "      <td>1</td>\n",
       "      <td>1-045/46(BK)1</td>\n",
       "      <td>Rohini Khola</td>\n",
       "      <td>81.641929</td>\n",
       "      <td>28.080494</td>\n",
       "      <td>Banke</td>\n",
       "      <td>ODK</td>\n",
       "    </tr>\n",
       "    <tr>\n",
       "      <th>24</th>\n",
       "      <td>24</td>\n",
       "      <td>116</td>\n",
       "      <td>yogendra</td>\n",
       "      <td>28.1960804 81.7117424 127.62967228481328 4.854</td>\n",
       "      <td>Banke</td>\n",
       "      <td>sw</td>\n",
       "      <td>bk-sw-01</td>\n",
       "      <td>NaN</td>\n",
       "      <td>NaN</td>\n",
       "      <td>NaN</td>\n",
       "      <td>...</td>\n",
       "      <td>NaN</td>\n",
       "      <td>bk-sw-01</td>\n",
       "      <td>Apr</td>\n",
       "      <td>1</td>\n",
       "      <td>1-045/46(BK)1</td>\n",
       "      <td>Rohini Khola</td>\n",
       "      <td>81.641929</td>\n",
       "      <td>28.080494</td>\n",
       "      <td>Banke</td>\n",
       "      <td>ODK</td>\n",
       "    </tr>\n",
       "  </tbody>\n",
       "</table>\n",
       "<p>7 rows × 26 columns</p>\n",
       "</div>"
      ],
      "text/plain": [
       "    Unnamed: 0  Unnamed: 0.1 Enumerator Name  \\\n",
       "12          12             4       yogendral   \n",
       "13          13            16        yogendra   \n",
       "14          14           123        yogendra   \n",
       "21          21            13          Subash   \n",
       "22          22            31        yogendra   \n",
       "23          23            94        yogendra   \n",
       "24          24           116        yogendra   \n",
       "\n",
       "                                      Geo_location District well_type  \\\n",
       "12   28.1287297 81.5894124 88.46230121420037 4.854    Banke        sw   \n",
       "13                28.1287151 81.5894281 88.0 4.551    Banke        sw   \n",
       "14   28.1287337 81.5893729 87.98446775075215 4.551    Banke        sw   \n",
       "21              28.0804943 81.6419293 114.0 13.349    Banke        sw   \n",
       "22               28.1960977 81.7117444 107.0 4.551    Banke        sw   \n",
       "23   28.1961034 81.711776 118.65058920259087 4.854    Banke        sw   \n",
       "24  28.1960804 81.7117424 127.62967228481328 4.854    Banke        sw   \n",
       "\n",
       "   sw_bk_well_no bk_dw_no  well_no_sw_bardiya well_no_dw_bardiya  ...  \\\n",
       "12    bk-sw-17_1      NaN                 NaN                NaN  ...   \n",
       "13    bk-sw-17_1      NaN                 NaN                NaN  ...   \n",
       "14    bk-sw-17_1      NaN                 NaN                NaN  ...   \n",
       "21      bk-sw-01      NaN  1611723819300..amr                NaN  ...   \n",
       "22      bk-sw-01      NaN                 NaN                NaN  ...   \n",
       "23      bk-sw-01      NaN                 NaN                NaN  ...   \n",
       "24      bk-sw-01      NaN                 NaN                NaN  ...   \n",
       "\n",
       "    Audio_Notes     well_no  Month  S.No.         Well No.      Location  \\\n",
       "12          NaN  bk-sw-17_1    Feb     17  1-045/46(BK)17         D-gaon   \n",
       "13          NaN  bk-sw-17_1    Jan     17  1-045/46(BK)17         D-gaon   \n",
       "14          NaN  bk-sw-17_1    Apr     17  1-045/46(BK)17         D-gaon   \n",
       "21         Test    bk-sw-01    Jan      1   1-045/46(BK)1   Rohini Khola   \n",
       "22          NaN    bk-sw-01    Feb      1   1-045/46(BK)1   Rohini Khola   \n",
       "23          NaN    bk-sw-01    Feb      1   1-045/46(BK)1   Rohini Khola   \n",
       "24          NaN    bk-sw-01    Apr      1   1-045/46(BK)1   Rohini Khola   \n",
       "\n",
       "    Longitude   Latitude district  ODK  \n",
       "12  81.589428  28.128715    Banke  ODK  \n",
       "13  81.589428  28.128715    Banke  ODK  \n",
       "14  81.589428  28.128715    Banke  ODK  \n",
       "21  81.641929  28.080494    Banke  ODK  \n",
       "22  81.641929  28.080494    Banke  ODK  \n",
       "23  81.641929  28.080494    Banke  ODK  \n",
       "24  81.641929  28.080494    Banke  ODK  \n",
       "\n",
       "[7 rows x 26 columns]"
      ]
     },
     "execution_count": 120,
     "metadata": {},
     "output_type": "execute_result"
    }
   ],
   "source": [
    "df_odk"
   ]
  },
  {
   "cell_type": "code",
   "execution_count": 110,
   "id": "3828b9bf",
   "metadata": {},
   "outputs": [],
   "source": [
    "data = []  \n",
    "count = 0\n",
    "names = []\n",
    "frame = df_odk"
   ]
  },
  {
   "cell_type": "code",
   "execution_count": 111,
   "id": "61604c70",
   "metadata": {},
   "outputs": [
    {
     "data": {
      "text/html": [
       "<div>\n",
       "<style scoped>\n",
       "    .dataframe tbody tr th:only-of-type {\n",
       "        vertical-align: middle;\n",
       "    }\n",
       "\n",
       "    .dataframe tbody tr th {\n",
       "        vertical-align: top;\n",
       "    }\n",
       "\n",
       "    .dataframe thead th {\n",
       "        text-align: right;\n",
       "    }\n",
       "</style>\n",
       "<table border=\"1\" class=\"dataframe\">\n",
       "  <thead>\n",
       "    <tr style=\"text-align: right;\">\n",
       "      <th></th>\n",
       "      <th>Unnamed: 0</th>\n",
       "      <th>Unnamed: 0.1</th>\n",
       "      <th>Enumerator Name</th>\n",
       "      <th>Geo_location</th>\n",
       "      <th>District</th>\n",
       "      <th>well_type</th>\n",
       "      <th>sw_bk_well_no</th>\n",
       "      <th>bk_dw_no</th>\n",
       "      <th>well_no_sw_bardiya</th>\n",
       "      <th>well_no_dw_bardiya</th>\n",
       "      <th>...</th>\n",
       "      <th>Audio_Notes</th>\n",
       "      <th>well_no</th>\n",
       "      <th>Month</th>\n",
       "      <th>S.No.</th>\n",
       "      <th>Well No.</th>\n",
       "      <th>Location</th>\n",
       "      <th>Longitude</th>\n",
       "      <th>Latitude</th>\n",
       "      <th>district</th>\n",
       "      <th>ODK</th>\n",
       "    </tr>\n",
       "  </thead>\n",
       "  <tbody>\n",
       "    <tr>\n",
       "      <th>12</th>\n",
       "      <td>12</td>\n",
       "      <td>4</td>\n",
       "      <td>yogendral</td>\n",
       "      <td>28.1287297 81.5894124 88.46230121420037 4.854</td>\n",
       "      <td>Banke</td>\n",
       "      <td>sw</td>\n",
       "      <td>bk-sw-17_1</td>\n",
       "      <td>NaN</td>\n",
       "      <td>NaN</td>\n",
       "      <td>NaN</td>\n",
       "      <td>...</td>\n",
       "      <td>NaN</td>\n",
       "      <td>bk-sw-17_1</td>\n",
       "      <td>Feb</td>\n",
       "      <td>17</td>\n",
       "      <td>1-045/46(BK)17</td>\n",
       "      <td>D-gaon</td>\n",
       "      <td>81.589428</td>\n",
       "      <td>28.128715</td>\n",
       "      <td>Banke</td>\n",
       "      <td>ODK</td>\n",
       "    </tr>\n",
       "    <tr>\n",
       "      <th>13</th>\n",
       "      <td>13</td>\n",
       "      <td>16</td>\n",
       "      <td>yogendra</td>\n",
       "      <td>28.1287151 81.5894281 88.0 4.551</td>\n",
       "      <td>Banke</td>\n",
       "      <td>sw</td>\n",
       "      <td>bk-sw-17_1</td>\n",
       "      <td>NaN</td>\n",
       "      <td>NaN</td>\n",
       "      <td>NaN</td>\n",
       "      <td>...</td>\n",
       "      <td>NaN</td>\n",
       "      <td>bk-sw-17_1</td>\n",
       "      <td>Jan</td>\n",
       "      <td>17</td>\n",
       "      <td>1-045/46(BK)17</td>\n",
       "      <td>D-gaon</td>\n",
       "      <td>81.589428</td>\n",
       "      <td>28.128715</td>\n",
       "      <td>Banke</td>\n",
       "      <td>ODK</td>\n",
       "    </tr>\n",
       "    <tr>\n",
       "      <th>14</th>\n",
       "      <td>14</td>\n",
       "      <td>123</td>\n",
       "      <td>yogendra</td>\n",
       "      <td>28.1287337 81.5893729 87.98446775075215 4.551</td>\n",
       "      <td>Banke</td>\n",
       "      <td>sw</td>\n",
       "      <td>bk-sw-17_1</td>\n",
       "      <td>NaN</td>\n",
       "      <td>NaN</td>\n",
       "      <td>NaN</td>\n",
       "      <td>...</td>\n",
       "      <td>NaN</td>\n",
       "      <td>bk-sw-17_1</td>\n",
       "      <td>Apr</td>\n",
       "      <td>17</td>\n",
       "      <td>1-045/46(BK)17</td>\n",
       "      <td>D-gaon</td>\n",
       "      <td>81.589428</td>\n",
       "      <td>28.128715</td>\n",
       "      <td>Banke</td>\n",
       "      <td>ODK</td>\n",
       "    </tr>\n",
       "    <tr>\n",
       "      <th>21</th>\n",
       "      <td>21</td>\n",
       "      <td>13</td>\n",
       "      <td>Subash</td>\n",
       "      <td>28.0804943 81.6419293 114.0 13.349</td>\n",
       "      <td>Banke</td>\n",
       "      <td>sw</td>\n",
       "      <td>bk-sw-01</td>\n",
       "      <td>NaN</td>\n",
       "      <td>1611723819300..amr</td>\n",
       "      <td>NaN</td>\n",
       "      <td>...</td>\n",
       "      <td>Test</td>\n",
       "      <td>bk-sw-01</td>\n",
       "      <td>Jan</td>\n",
       "      <td>1</td>\n",
       "      <td>1-045/46(BK)1</td>\n",
       "      <td>Rohini Khola</td>\n",
       "      <td>81.641929</td>\n",
       "      <td>28.080494</td>\n",
       "      <td>Banke</td>\n",
       "      <td>ODK</td>\n",
       "    </tr>\n",
       "    <tr>\n",
       "      <th>22</th>\n",
       "      <td>22</td>\n",
       "      <td>31</td>\n",
       "      <td>yogendra</td>\n",
       "      <td>28.1960977 81.7117444 107.0 4.551</td>\n",
       "      <td>Banke</td>\n",
       "      <td>sw</td>\n",
       "      <td>bk-sw-01</td>\n",
       "      <td>NaN</td>\n",
       "      <td>NaN</td>\n",
       "      <td>NaN</td>\n",
       "      <td>...</td>\n",
       "      <td>NaN</td>\n",
       "      <td>bk-sw-01</td>\n",
       "      <td>Feb</td>\n",
       "      <td>1</td>\n",
       "      <td>1-045/46(BK)1</td>\n",
       "      <td>Rohini Khola</td>\n",
       "      <td>81.641929</td>\n",
       "      <td>28.080494</td>\n",
       "      <td>Banke</td>\n",
       "      <td>ODK</td>\n",
       "    </tr>\n",
       "    <tr>\n",
       "      <th>23</th>\n",
       "      <td>23</td>\n",
       "      <td>94</td>\n",
       "      <td>yogendra</td>\n",
       "      <td>28.1961034 81.711776 118.65058920259087 4.854</td>\n",
       "      <td>Banke</td>\n",
       "      <td>sw</td>\n",
       "      <td>bk-sw-01</td>\n",
       "      <td>NaN</td>\n",
       "      <td>NaN</td>\n",
       "      <td>NaN</td>\n",
       "      <td>...</td>\n",
       "      <td>NaN</td>\n",
       "      <td>bk-sw-01</td>\n",
       "      <td>Feb</td>\n",
       "      <td>1</td>\n",
       "      <td>1-045/46(BK)1</td>\n",
       "      <td>Rohini Khola</td>\n",
       "      <td>81.641929</td>\n",
       "      <td>28.080494</td>\n",
       "      <td>Banke</td>\n",
       "      <td>ODK</td>\n",
       "    </tr>\n",
       "    <tr>\n",
       "      <th>24</th>\n",
       "      <td>24</td>\n",
       "      <td>116</td>\n",
       "      <td>yogendra</td>\n",
       "      <td>28.1960804 81.7117424 127.62967228481328 4.854</td>\n",
       "      <td>Banke</td>\n",
       "      <td>sw</td>\n",
       "      <td>bk-sw-01</td>\n",
       "      <td>NaN</td>\n",
       "      <td>NaN</td>\n",
       "      <td>NaN</td>\n",
       "      <td>...</td>\n",
       "      <td>NaN</td>\n",
       "      <td>bk-sw-01</td>\n",
       "      <td>Apr</td>\n",
       "      <td>1</td>\n",
       "      <td>1-045/46(BK)1</td>\n",
       "      <td>Rohini Khola</td>\n",
       "      <td>81.641929</td>\n",
       "      <td>28.080494</td>\n",
       "      <td>Banke</td>\n",
       "      <td>ODK</td>\n",
       "    </tr>\n",
       "  </tbody>\n",
       "</table>\n",
       "<p>7 rows × 26 columns</p>\n",
       "</div>"
      ],
      "text/plain": [
       "    Unnamed: 0  Unnamed: 0.1 Enumerator Name  \\\n",
       "12          12             4       yogendral   \n",
       "13          13            16        yogendra   \n",
       "14          14           123        yogendra   \n",
       "21          21            13          Subash   \n",
       "22          22            31        yogendra   \n",
       "23          23            94        yogendra   \n",
       "24          24           116        yogendra   \n",
       "\n",
       "                                      Geo_location District well_type  \\\n",
       "12   28.1287297 81.5894124 88.46230121420037 4.854    Banke        sw   \n",
       "13                28.1287151 81.5894281 88.0 4.551    Banke        sw   \n",
       "14   28.1287337 81.5893729 87.98446775075215 4.551    Banke        sw   \n",
       "21              28.0804943 81.6419293 114.0 13.349    Banke        sw   \n",
       "22               28.1960977 81.7117444 107.0 4.551    Banke        sw   \n",
       "23   28.1961034 81.711776 118.65058920259087 4.854    Banke        sw   \n",
       "24  28.1960804 81.7117424 127.62967228481328 4.854    Banke        sw   \n",
       "\n",
       "   sw_bk_well_no bk_dw_no  well_no_sw_bardiya well_no_dw_bardiya  ...  \\\n",
       "12    bk-sw-17_1      NaN                 NaN                NaN  ...   \n",
       "13    bk-sw-17_1      NaN                 NaN                NaN  ...   \n",
       "14    bk-sw-17_1      NaN                 NaN                NaN  ...   \n",
       "21      bk-sw-01      NaN  1611723819300..amr                NaN  ...   \n",
       "22      bk-sw-01      NaN                 NaN                NaN  ...   \n",
       "23      bk-sw-01      NaN                 NaN                NaN  ...   \n",
       "24      bk-sw-01      NaN                 NaN                NaN  ...   \n",
       "\n",
       "    Audio_Notes     well_no  Month  S.No.         Well No.      Location  \\\n",
       "12          NaN  bk-sw-17_1    Feb     17  1-045/46(BK)17         D-gaon   \n",
       "13          NaN  bk-sw-17_1    Jan     17  1-045/46(BK)17         D-gaon   \n",
       "14          NaN  bk-sw-17_1    Apr     17  1-045/46(BK)17         D-gaon   \n",
       "21         Test    bk-sw-01    Jan      1   1-045/46(BK)1   Rohini Khola   \n",
       "22          NaN    bk-sw-01    Feb      1   1-045/46(BK)1   Rohini Khola   \n",
       "23          NaN    bk-sw-01    Feb      1   1-045/46(BK)1   Rohini Khola   \n",
       "24          NaN    bk-sw-01    Apr      1   1-045/46(BK)1   Rohini Khola   \n",
       "\n",
       "    Longitude   Latitude district  ODK  \n",
       "12  81.589428  28.128715    Banke  ODK  \n",
       "13  81.589428  28.128715    Banke  ODK  \n",
       "14  81.589428  28.128715    Banke  ODK  \n",
       "21  81.641929  28.080494    Banke  ODK  \n",
       "22  81.641929  28.080494    Banke  ODK  \n",
       "23  81.641929  28.080494    Banke  ODK  \n",
       "24  81.641929  28.080494    Banke  ODK  \n",
       "\n",
       "[7 rows x 26 columns]"
      ]
     },
     "execution_count": 111,
     "metadata": {},
     "output_type": "execute_result"
    }
   ],
   "source": [
    "frame"
   ]
  },
  {
   "cell_type": "code",
   "execution_count": 112,
   "id": "9aac68a4",
   "metadata": {},
   "outputs": [
    {
     "name": "stderr",
     "output_type": "stream",
     "text": [
      "/home/au/miniconda3/envs/analytics/lib/python3.8/site-packages/pandas/core/frame.py:4438: SettingWithCopyWarning:\n",
      "\n",
      "\n",
      "A value is trying to be set on a copy of a slice from a DataFrame\n",
      "\n",
      "See the caveats in the documentation: https://pandas.pydata.org/pandas-docs/stable/user_guide/indexing.html#returning-a-view-versus-a-copy\n",
      "\n"
     ]
    }
   ],
   "source": [
    "frame.rename(columns = {'Water Level(meters)':'gw_level'}, inplace = True)     "
   ]
  },
  {
   "cell_type": "code",
   "execution_count": 113,
   "id": "22d7e3f7",
   "metadata": {},
   "outputs": [],
   "source": [
    "        # data.append(frame['gw_level'])\n",
    "            # print(len(data))\n",
    "        #     df_odk = df_odk.sort_values(by=['today'])\n",
    "        #     df_of = df_of.sort_values(by=['Date'])\n",
    "frame = frame.sort_values(by=['today'])"
   ]
  },
  {
   "cell_type": "code",
   "execution_count": 118,
   "id": "ddbe55f9",
   "metadata": {},
   "outputs": [
    {
     "data": {
      "text/plain": [
       "<pandas.core.groupby.generic.DataFrameGroupBy object at 0x7f3855071400>"
      ]
     },
     "execution_count": 118,
     "metadata": {},
     "output_type": "execute_result"
    }
   ],
   "source": [
    "# print(frame)\n",
    "groups_odk = frame.groupby(by='Location')\n",
    "groups_odk\n",
    "frame.groupby(by='Location')"
   ]
  },
  {
   "cell_type": "code",
   "execution_count": 116,
   "id": "53932d43",
   "metadata": {},
   "outputs": [],
   "source": [
    "df[\"Month\"] = pd.to_datetime(df.Month, format='%b', errors='coerce').dt.month\n",
    "df = df.sort_values(by=['Month'])\n",
    "df['Month'] = df['Month'].apply(lambda x: calendar.month_abbr[x])"
   ]
  },
  {
   "cell_type": "code",
   "execution_count": 121,
   "id": "d7988f18",
   "metadata": {},
   "outputs": [
    {
     "data": {
      "text/html": [
       "<div>\n",
       "<style scoped>\n",
       "    .dataframe tbody tr th:only-of-type {\n",
       "        vertical-align: middle;\n",
       "    }\n",
       "\n",
       "    .dataframe tbody tr th {\n",
       "        vertical-align: top;\n",
       "    }\n",
       "\n",
       "    .dataframe thead th {\n",
       "        text-align: right;\n",
       "    }\n",
       "</style>\n",
       "<table border=\"1\" class=\"dataframe\">\n",
       "  <thead>\n",
       "    <tr style=\"text-align: right;\">\n",
       "      <th></th>\n",
       "      <th>Unnamed: 0</th>\n",
       "      <th>Enumerator Name</th>\n",
       "      <th>Geo_location</th>\n",
       "      <th>District</th>\n",
       "      <th>well_type</th>\n",
       "      <th>sw_bk_well_no</th>\n",
       "      <th>bk_dw_no</th>\n",
       "      <th>well_no_sw_bardiya</th>\n",
       "      <th>well_no_dw_bardiya</th>\n",
       "      <th>measurement_point_cm</th>\n",
       "      <th>Measurement_of_tape_ent_point_MP_in_m</th>\n",
       "      <th>wet_point_measruement_on_tape</th>\n",
       "      <th>gw_level</th>\n",
       "      <th>Notes</th>\n",
       "      <th>today</th>\n",
       "      <th>Audio_Notes</th>\n",
       "      <th>well_no</th>\n",
       "      <th>Month</th>\n",
       "    </tr>\n",
       "  </thead>\n",
       "  <tbody>\n",
       "    <tr>\n",
       "      <th>42</th>\n",
       "      <td>42</td>\n",
       "      <td>A</td>\n",
       "      <td>28.1055899 81.4825913 79.0 4.551</td>\n",
       "      <td>Bardiya</td>\n",
       "      <td>dt</td>\n",
       "      <td>NaN</td>\n",
       "      <td>NaN</td>\n",
       "      <td>NaN</td>\n",
       "      <td>bd-dw-02</td>\n",
       "      <td>10</td>\n",
       "      <td>15.00</td>\n",
       "      <td>4.50</td>\n",
       "      <td>10.40</td>\n",
       "      <td>NaN</td>\n",
       "      <td>2021-01-28</td>\n",
       "      <td>NaN</td>\n",
       "      <td>bd-dw-02</td>\n",
       "      <td>Jan</td>\n",
       "    </tr>\n",
       "    <tr>\n",
       "      <th>43</th>\n",
       "      <td>43</td>\n",
       "      <td>A</td>\n",
       "      <td>28.0828531 81.5111708 89.0 4.551</td>\n",
       "      <td>Bardiya</td>\n",
       "      <td>dt</td>\n",
       "      <td>NaN</td>\n",
       "      <td>NaN</td>\n",
       "      <td>NaN</td>\n",
       "      <td>bd-dw-04</td>\n",
       "      <td>24</td>\n",
       "      <td>13.00</td>\n",
       "      <td>3.20</td>\n",
       "      <td>9.56</td>\n",
       "      <td>NaN</td>\n",
       "      <td>2021-01-28</td>\n",
       "      <td>NaN</td>\n",
       "      <td>bd-dw-04</td>\n",
       "      <td>Jan</td>\n",
       "    </tr>\n",
       "    <tr>\n",
       "      <th>41</th>\n",
       "      <td>41</td>\n",
       "      <td>A</td>\n",
       "      <td>28.0883406 81.502631 89.0 4.854</td>\n",
       "      <td>Bardiya</td>\n",
       "      <td>dt</td>\n",
       "      <td>NaN</td>\n",
       "      <td>NaN</td>\n",
       "      <td>NaN</td>\n",
       "      <td>bd-dw-03</td>\n",
       "      <td>20</td>\n",
       "      <td>13.00</td>\n",
       "      <td>1.20</td>\n",
       "      <td>11.60</td>\n",
       "      <td>NaN</td>\n",
       "      <td>2021-01-28</td>\n",
       "      <td>NaN</td>\n",
       "      <td>bd-dw-03</td>\n",
       "      <td>Jan</td>\n",
       "    </tr>\n",
       "    <tr>\n",
       "      <th>40</th>\n",
       "      <td>40</td>\n",
       "      <td>Anita</td>\n",
       "      <td>28.085181 81.5163616 83.0 4.803</td>\n",
       "      <td>Bardiya</td>\n",
       "      <td>dt</td>\n",
       "      <td>NaN</td>\n",
       "      <td>NaN</td>\n",
       "      <td>1611818785404.amr</td>\n",
       "      <td>bd-dw-01</td>\n",
       "      <td>25</td>\n",
       "      <td>13.00</td>\n",
       "      <td>1.00</td>\n",
       "      <td>11.75</td>\n",
       "      <td>NaN</td>\n",
       "      <td>2021-01-28</td>\n",
       "      <td>NaN</td>\n",
       "      <td>1611818785404.amr</td>\n",
       "      <td>Jan</td>\n",
       "    </tr>\n",
       "    <tr>\n",
       "      <th>29</th>\n",
       "      <td>29</td>\n",
       "      <td>yogendra</td>\n",
       "      <td>28.0020439 81.6523786 69.0 4.551</td>\n",
       "      <td>Banke</td>\n",
       "      <td>sw</td>\n",
       "      <td>bk-sw-29</td>\n",
       "      <td>NaN</td>\n",
       "      <td>NaN</td>\n",
       "      <td>NaN</td>\n",
       "      <td>40</td>\n",
       "      <td>6.00</td>\n",
       "      <td>1.70</td>\n",
       "      <td>3.90</td>\n",
       "      <td>NaN</td>\n",
       "      <td>2021-01-31</td>\n",
       "      <td>NaN</td>\n",
       "      <td>bk-sw-29</td>\n",
       "      <td>Jan</td>\n",
       "    </tr>\n",
       "    <tr>\n",
       "      <th>...</th>\n",
       "      <td>...</td>\n",
       "      <td>...</td>\n",
       "      <td>...</td>\n",
       "      <td>...</td>\n",
       "      <td>...</td>\n",
       "      <td>...</td>\n",
       "      <td>...</td>\n",
       "      <td>...</td>\n",
       "      <td>...</td>\n",
       "      <td>...</td>\n",
       "      <td>...</td>\n",
       "      <td>...</td>\n",
       "      <td>...</td>\n",
       "      <td>...</td>\n",
       "      <td>...</td>\n",
       "      <td>...</td>\n",
       "      <td>...</td>\n",
       "      <td>...</td>\n",
       "    </tr>\n",
       "    <tr>\n",
       "      <th>124</th>\n",
       "      <td>124</td>\n",
       "      <td>yogendra</td>\n",
       "      <td>28.1465581 81.5519536 103.6786630334175 4.551</td>\n",
       "      <td>Banke</td>\n",
       "      <td>sw</td>\n",
       "      <td>bk-sw-18_1</td>\n",
       "      <td>NaN</td>\n",
       "      <td>NaN</td>\n",
       "      <td>NaN</td>\n",
       "      <td>27</td>\n",
       "      <td>5.00</td>\n",
       "      <td>1.08</td>\n",
       "      <td>3.65</td>\n",
       "      <td>NaN</td>\n",
       "      <td>2021-04-03</td>\n",
       "      <td>NaN</td>\n",
       "      <td>bk-sw-18_1</td>\n",
       "      <td>Apr</td>\n",
       "    </tr>\n",
       "    <tr>\n",
       "      <th>125</th>\n",
       "      <td>125</td>\n",
       "      <td>yogendra</td>\n",
       "      <td>28.1317973 81.6588377 98.44866010861558 4.803</td>\n",
       "      <td>Banke</td>\n",
       "      <td>sw</td>\n",
       "      <td>bk-sw-06_1</td>\n",
       "      <td>NaN</td>\n",
       "      <td>NaN</td>\n",
       "      <td>NaN</td>\n",
       "      <td>45</td>\n",
       "      <td>5.00</td>\n",
       "      <td>2.26</td>\n",
       "      <td>2.29</td>\n",
       "      <td>NaN</td>\n",
       "      <td>2021-04-04</td>\n",
       "      <td>NaN</td>\n",
       "      <td>bk-sw-06_1</td>\n",
       "      <td>Apr</td>\n",
       "    </tr>\n",
       "    <tr>\n",
       "      <th>126</th>\n",
       "      <td>126</td>\n",
       "      <td>yogendra</td>\n",
       "      <td>28.0928489 81.6478628 94.33627246343464 4.854</td>\n",
       "      <td>Banke</td>\n",
       "      <td>sw</td>\n",
       "      <td>bk-sw-07_1</td>\n",
       "      <td>NaN</td>\n",
       "      <td>NaN</td>\n",
       "      <td>NaN</td>\n",
       "      <td>15</td>\n",
       "      <td>4.95</td>\n",
       "      <td>0.50</td>\n",
       "      <td>4.30</td>\n",
       "      <td>NaN</td>\n",
       "      <td>2021-04-04</td>\n",
       "      <td>NaN</td>\n",
       "      <td>bk-sw-07_1</td>\n",
       "      <td>Apr</td>\n",
       "    </tr>\n",
       "    <tr>\n",
       "      <th>116</th>\n",
       "      <td>116</td>\n",
       "      <td>yogendra</td>\n",
       "      <td>28.1960804 81.7117424 127.62967228481328 4.854</td>\n",
       "      <td>Banke</td>\n",
       "      <td>sw</td>\n",
       "      <td>bk-sw-01</td>\n",
       "      <td>NaN</td>\n",
       "      <td>NaN</td>\n",
       "      <td>NaN</td>\n",
       "      <td>20</td>\n",
       "      <td>5.00</td>\n",
       "      <td>1.34</td>\n",
       "      <td>3.46</td>\n",
       "      <td>NaN</td>\n",
       "      <td>2021-04-02</td>\n",
       "      <td>NaN</td>\n",
       "      <td>bk-sw-01</td>\n",
       "      <td>Apr</td>\n",
       "    </tr>\n",
       "    <tr>\n",
       "      <th>151</th>\n",
       "      <td>151</td>\n",
       "      <td>Anita</td>\n",
       "      <td>28.071498 81.5555033 83.979209134853 4.854</td>\n",
       "      <td>Bardiya</td>\n",
       "      <td>sw</td>\n",
       "      <td>NaN</td>\n",
       "      <td>bd-sw-16</td>\n",
       "      <td>NaN</td>\n",
       "      <td>NaN</td>\n",
       "      <td>60</td>\n",
       "      <td>5.00</td>\n",
       "      <td>1.00</td>\n",
       "      <td>3.40</td>\n",
       "      <td>NaN</td>\n",
       "      <td>2021-04-07</td>\n",
       "      <td>NaN</td>\n",
       "      <td>bd-sw-16</td>\n",
       "      <td>Apr</td>\n",
       "    </tr>\n",
       "  </tbody>\n",
       "</table>\n",
       "<p>152 rows × 18 columns</p>\n",
       "</div>"
      ],
      "text/plain": [
       "     Unnamed: 0 Enumerator Name  \\\n",
       "42           42               A   \n",
       "43           43               A   \n",
       "41           41               A   \n",
       "40           40           Anita   \n",
       "29           29        yogendra   \n",
       "..          ...             ...   \n",
       "124         124        yogendra   \n",
       "125         125        yogendra   \n",
       "126         126        yogendra   \n",
       "116         116        yogendra   \n",
       "151         151           Anita   \n",
       "\n",
       "                                       Geo_location District well_type  \\\n",
       "42                 28.1055899 81.4825913 79.0 4.551  Bardiya        dt   \n",
       "43                 28.0828531 81.5111708 89.0 4.551  Bardiya        dt   \n",
       "41                  28.0883406 81.502631 89.0 4.854  Bardiya        dt   \n",
       "40                  28.085181 81.5163616 83.0 4.803  Bardiya        dt   \n",
       "29                 28.0020439 81.6523786 69.0 4.551    Banke        sw   \n",
       "..                                              ...      ...       ...   \n",
       "124   28.1465581 81.5519536 103.6786630334175 4.551    Banke        sw   \n",
       "125   28.1317973 81.6588377 98.44866010861558 4.803    Banke        sw   \n",
       "126   28.0928489 81.6478628 94.33627246343464 4.854    Banke        sw   \n",
       "116  28.1960804 81.7117424 127.62967228481328 4.854    Banke        sw   \n",
       "151      28.071498 81.5555033 83.979209134853 4.854  Bardiya        sw   \n",
       "\n",
       "    sw_bk_well_no  bk_dw_no well_no_sw_bardiya well_no_dw_bardiya  \\\n",
       "42            NaN       NaN                NaN           bd-dw-02   \n",
       "43            NaN       NaN                NaN           bd-dw-04   \n",
       "41            NaN       NaN                NaN           bd-dw-03   \n",
       "40            NaN       NaN  1611818785404.amr           bd-dw-01   \n",
       "29       bk-sw-29       NaN                NaN                NaN   \n",
       "..            ...       ...                ...                ...   \n",
       "124    bk-sw-18_1       NaN                NaN                NaN   \n",
       "125    bk-sw-06_1       NaN                NaN                NaN   \n",
       "126    bk-sw-07_1       NaN                NaN                NaN   \n",
       "116      bk-sw-01       NaN                NaN                NaN   \n",
       "151           NaN  bd-sw-16                NaN                NaN   \n",
       "\n",
       "     measurement_point_cm  Measurement_of_tape_ent_point_MP_in_m  \\\n",
       "42                     10                                  15.00   \n",
       "43                     24                                  13.00   \n",
       "41                     20                                  13.00   \n",
       "40                     25                                  13.00   \n",
       "29                     40                                   6.00   \n",
       "..                    ...                                    ...   \n",
       "124                    27                                   5.00   \n",
       "125                    45                                   5.00   \n",
       "126                    15                                   4.95   \n",
       "116                    20                                   5.00   \n",
       "151                    60                                   5.00   \n",
       "\n",
       "     wet_point_measruement_on_tape  gw_level Notes       today Audio_Notes  \\\n",
       "42                            4.50     10.40   NaN  2021-01-28         NaN   \n",
       "43                            3.20      9.56   NaN  2021-01-28         NaN   \n",
       "41                            1.20     11.60   NaN  2021-01-28         NaN   \n",
       "40                            1.00     11.75   NaN  2021-01-28         NaN   \n",
       "29                            1.70      3.90   NaN  2021-01-31         NaN   \n",
       "..                             ...       ...   ...         ...         ...   \n",
       "124                           1.08      3.65   NaN  2021-04-03         NaN   \n",
       "125                           2.26      2.29   NaN  2021-04-04         NaN   \n",
       "126                           0.50      4.30   NaN  2021-04-04         NaN   \n",
       "116                           1.34      3.46   NaN  2021-04-02         NaN   \n",
       "151                           1.00      3.40   NaN  2021-04-07         NaN   \n",
       "\n",
       "               well_no Month  \n",
       "42            bd-dw-02   Jan  \n",
       "43            bd-dw-04   Jan  \n",
       "41            bd-dw-03   Jan  \n",
       "40   1611818785404.amr   Jan  \n",
       "29            bk-sw-29   Jan  \n",
       "..                 ...   ...  \n",
       "124         bk-sw-18_1   Apr  \n",
       "125         bk-sw-06_1   Apr  \n",
       "126         bk-sw-07_1   Apr  \n",
       "116           bk-sw-01   Apr  \n",
       "151           bd-sw-16   Apr  \n",
       "\n",
       "[152 rows x 18 columns]"
      ]
     },
     "execution_count": 121,
     "metadata": {},
     "output_type": "execute_result"
    }
   ],
   "source": [
    "df"
   ]
  },
  {
   "cell_type": "code",
   "execution_count": 119,
   "id": "acb14549",
   "metadata": {},
   "outputs": [
    {
     "data": {
      "text/plain": [
       "Scatter({\n",
       "    'name': 'Rohini Khola_odk',\n",
       "    'x': [Jan, Jan, Jan, Jan, Jan, Jan, Jan, Jan, Jan, Jan, Jan, Jan, Jan, Jan,\n",
       "          Jan, Jan, Jan, Jan, Jan, Jan, Jan, Jan, Feb, Feb, Feb, Feb, Feb, Feb,\n",
       "          Feb, Feb, Feb, Feb, Feb, Feb, Feb, Feb, Feb, Feb, Feb, Feb, Feb, Feb,\n",
       "          Feb, Feb, Feb, Feb, Feb, Feb, Feb, Feb, Feb, Feb, Feb, Feb, Feb, Feb,\n",
       "          Feb, Feb, Feb, Feb, Feb, Feb, Feb, Feb, Feb, Feb, Feb, Feb, Feb, Feb,\n",
       "          Mar, Mar, Mar, Mar, Mar, Mar, Mar, Mar, Mar, Mar, Mar, Mar, Mar, Mar,\n",
       "          Mar, Mar, Mar, Mar, Mar, Mar, Mar, Mar, Mar, Mar, Mar, Mar, Mar, Mar,\n",
       "          Mar, Mar, Mar, Mar, Mar, Mar, Mar, Mar, Mar, Apr, Apr, Apr, Apr, Apr,\n",
       "          Apr, Apr, Apr, Apr, Apr, Apr, Apr, Apr, Apr, Apr, Apr, Apr, Apr, Apr,\n",
       "          Apr, Apr, Apr, Apr, Apr, Apr, Apr, Apr, Apr, Apr, Apr, Apr, Apr, Apr,\n",
       "          Apr, Apr, Apr, Apr, Apr, Apr, Apr, Apr, Apr, Apr, Apr, Apr],\n",
       "    'y': [10.4, 9.56, 11.6, 11.75, 3.9, 2.15, 4.15, 4.3, 2.75, 3.9, 2.0, 6.1,\n",
       "          -0.15, 2.96, 4.72, 2.68, 5.49, 2.9, 3.7, 2.2, 2.2, 2.7, 2.6, 2.68, 5.6,\n",
       "          4.9, 2.0, 11.95, 3.6, 9.76, 10.6, 2.9, 4.6, 2.4, 2.65, 1.9, 1.55, 1.9,\n",
       "          3.7, 3.51, 3.3, 6.3, 3.01, 4.5, 1.83, 2.7, 3.55, 9.2, 2.38, 3.7, 4.1,\n",
       "          4.68, 2.44, 3.07, 5.6, 1.7, 2.95, 3.01, 3.5, 10.9, 10.95, 3.68, 10.81,\n",
       "          10.83, 4.1, 4.7, 3.4, 10.98, 11.8, 1.75, 13.75, 4.55, 2.6, 3.13, 4.9,\n",
       "          3.9, 4.15, 3.05, 3.93, 5.27, 10.91, 11.1, 10.98, 5.99, 2.97, 11.03, 2.8,\n",
       "          5.7, 3.8, 2.1, 2.9, 1.65, 2.9, 10.8, 9.8, 2.85, 3.65, 4.7, 4.0, 2.78,\n",
       "          5.8, 5.1, 2.1, 5.6, 4.7, 2.6, 4.2, 3.2, 3.6, 2.98, 11.9, 5.9, 5.9, 3.85,\n",
       "          2.3, 3.25, 3.1, 5.9, 5.1, 4.4, 4.7, 6.1, 5.0, 11.6, 12.0, 2.45, 4.6,\n",
       "          9.96, 2.28, 3.91, 2.4, 11.2, 11.08, 11.13, 4.95, 4.33, 5.62, 4.3, 3.07,\n",
       "          11.06, 6.14, 6.85, 3.11, 2.83, 4.0, 3.25, 3.8, 3.65, 2.29, 4.3, 3.46,\n",
       "          3.4]\n",
       "})"
      ]
     },
     "execution_count": 119,
     "metadata": {},
     "output_type": "execute_result"
    }
   ],
   "source": [
    "go.Scatter(x=df['Month'].tolist(), \n",
    "    y=df['gw_level'].tolist(),\n",
    "    name=\"Rohini Khola_odk\")\n",
    "    "
   ]
  },
  {
   "cell_type": "code",
   "execution_count": 101,
   "id": "d6fa84ce",
   "metadata": {},
   "outputs": [],
   "source": [
    "                data.append(trace)\n",
    "\n",
    "     "
   ]
  },
  {
   "cell_type": "code",
   "execution_count": 102,
   "id": "a1a965a5",
   "metadata": {},
   "outputs": [
    {
     "ename": "NameError",
     "evalue": "name 'trace' is not defined",
     "output_type": "error",
     "traceback": [
      "\u001b[0;31m---------------------------------------------------------------------------\u001b[0m",
      "\u001b[0;31mNameError\u001b[0m                                 Traceback (most recent call last)",
      "\u001b[0;32m<ipython-input-102-37ccb20ee0e1>\u001b[0m in \u001b[0;36m<module>\u001b[0;34m\u001b[0m\n\u001b[0;32m----> 1\u001b[0;31m \u001b[0mtrace\u001b[0m\u001b[0;34m\u001b[0m\u001b[0;34m\u001b[0m\u001b[0m\n\u001b[0m",
      "\u001b[0;31mNameError\u001b[0m: name 'trace' is not defined"
     ]
    }
   ],
   "source": []
  },
  {
   "cell_type": "code",
   "execution_count": 79,
   "id": "10a32fdb",
   "metadata": {},
   "outputs": [],
   "source": [
    "               \n",
    "frame = df_offline\n",
    "\n",
    "            frame = frame.sort_values(by=['Month'])\n",
    "            groups_offline = frame.groupby(by='Location')\n",
    "            for group, df in groups_offline:\n",
    "                    df[\"Month\"] = pd.to_datetime(df.Month, format='%b', errors='coerce').dt.month\n",
    "                    df = df.sort_values(by=['Month'])\n",
    "                    df['Month'] = df['Month'].apply(lambda x: calendar.month_abbr[x])\n",
    "\n",
    "                    # print(df)\n",
    "                    trace_1 = go.Scatter(x=df['Month'].tolist(), \n",
    "                       y=df['gw_level'].tolist(),\n",
    "                       name=group)\n",
    "                    data.append(trace_1)"
   ]
  },
  {
   "cell_type": "code",
   "execution_count": 82,
   "id": "469b0bd0",
   "metadata": {},
   "outputs": [
    {
     "data": {
      "text/html": [
       "<div>\n",
       "<style scoped>\n",
       "    .dataframe tbody tr th:only-of-type {\n",
       "        vertical-align: middle;\n",
       "    }\n",
       "\n",
       "    .dataframe tbody tr th {\n",
       "        vertical-align: top;\n",
       "    }\n",
       "\n",
       "    .dataframe thead th {\n",
       "        text-align: right;\n",
       "    }\n",
       "</style>\n",
       "<table border=\"1\" class=\"dataframe\">\n",
       "  <thead>\n",
       "    <tr style=\"text-align: right;\">\n",
       "      <th></th>\n",
       "      <th>index</th>\n",
       "      <th>Location</th>\n",
       "      <th>Month</th>\n",
       "      <th>gw_level</th>\n",
       "    </tr>\n",
       "  </thead>\n",
       "  <tbody>\n",
       "  </tbody>\n",
       "</table>\n",
       "</div>"
      ],
      "text/plain": [
       "Empty DataFrame\n",
       "Columns: [index, Location, Month, gw_level]\n",
       "Index: []"
      ]
     },
     "execution_count": 82,
     "metadata": {},
     "output_type": "execute_result"
    }
   ],
   "source": [
    "df_offline"
   ]
  },
  {
   "cell_type": "code",
   "execution_count": 47,
   "id": "1a47034b",
   "metadata": {},
   "outputs": [
    {
     "data": {
      "application/vnd.plotly.v1+json": {
       "config": {
        "plotlyServerURL": "https://plot.ly"
       },
       "data": [],
       "layout": {
        "autosize": true,
        "hovermode": "closest",
        "template": {
         "data": {
          "bar": [
           {
            "error_x": {
             "color": "#2a3f5f"
            },
            "error_y": {
             "color": "#2a3f5f"
            },
            "marker": {
             "line": {
              "color": "#E5ECF6",
              "width": 0.5
             }
            },
            "type": "bar"
           }
          ],
          "barpolar": [
           {
            "marker": {
             "line": {
              "color": "#E5ECF6",
              "width": 0.5
             }
            },
            "type": "barpolar"
           }
          ],
          "carpet": [
           {
            "aaxis": {
             "endlinecolor": "#2a3f5f",
             "gridcolor": "white",
             "linecolor": "white",
             "minorgridcolor": "white",
             "startlinecolor": "#2a3f5f"
            },
            "baxis": {
             "endlinecolor": "#2a3f5f",
             "gridcolor": "white",
             "linecolor": "white",
             "minorgridcolor": "white",
             "startlinecolor": "#2a3f5f"
            },
            "type": "carpet"
           }
          ],
          "choropleth": [
           {
            "colorbar": {
             "outlinewidth": 0,
             "ticks": ""
            },
            "type": "choropleth"
           }
          ],
          "contour": [
           {
            "colorbar": {
             "outlinewidth": 0,
             "ticks": ""
            },
            "colorscale": [
             [
              0,
              "#0d0887"
             ],
             [
              0.1111111111111111,
              "#46039f"
             ],
             [
              0.2222222222222222,
              "#7201a8"
             ],
             [
              0.3333333333333333,
              "#9c179e"
             ],
             [
              0.4444444444444444,
              "#bd3786"
             ],
             [
              0.5555555555555556,
              "#d8576b"
             ],
             [
              0.6666666666666666,
              "#ed7953"
             ],
             [
              0.7777777777777778,
              "#fb9f3a"
             ],
             [
              0.8888888888888888,
              "#fdca26"
             ],
             [
              1,
              "#f0f921"
             ]
            ],
            "type": "contour"
           }
          ],
          "contourcarpet": [
           {
            "colorbar": {
             "outlinewidth": 0,
             "ticks": ""
            },
            "type": "contourcarpet"
           }
          ],
          "heatmap": [
           {
            "colorbar": {
             "outlinewidth": 0,
             "ticks": ""
            },
            "colorscale": [
             [
              0,
              "#0d0887"
             ],
             [
              0.1111111111111111,
              "#46039f"
             ],
             [
              0.2222222222222222,
              "#7201a8"
             ],
             [
              0.3333333333333333,
              "#9c179e"
             ],
             [
              0.4444444444444444,
              "#bd3786"
             ],
             [
              0.5555555555555556,
              "#d8576b"
             ],
             [
              0.6666666666666666,
              "#ed7953"
             ],
             [
              0.7777777777777778,
              "#fb9f3a"
             ],
             [
              0.8888888888888888,
              "#fdca26"
             ],
             [
              1,
              "#f0f921"
             ]
            ],
            "type": "heatmap"
           }
          ],
          "heatmapgl": [
           {
            "colorbar": {
             "outlinewidth": 0,
             "ticks": ""
            },
            "colorscale": [
             [
              0,
              "#0d0887"
             ],
             [
              0.1111111111111111,
              "#46039f"
             ],
             [
              0.2222222222222222,
              "#7201a8"
             ],
             [
              0.3333333333333333,
              "#9c179e"
             ],
             [
              0.4444444444444444,
              "#bd3786"
             ],
             [
              0.5555555555555556,
              "#d8576b"
             ],
             [
              0.6666666666666666,
              "#ed7953"
             ],
             [
              0.7777777777777778,
              "#fb9f3a"
             ],
             [
              0.8888888888888888,
              "#fdca26"
             ],
             [
              1,
              "#f0f921"
             ]
            ],
            "type": "heatmapgl"
           }
          ],
          "histogram": [
           {
            "marker": {
             "colorbar": {
              "outlinewidth": 0,
              "ticks": ""
             }
            },
            "type": "histogram"
           }
          ],
          "histogram2d": [
           {
            "colorbar": {
             "outlinewidth": 0,
             "ticks": ""
            },
            "colorscale": [
             [
              0,
              "#0d0887"
             ],
             [
              0.1111111111111111,
              "#46039f"
             ],
             [
              0.2222222222222222,
              "#7201a8"
             ],
             [
              0.3333333333333333,
              "#9c179e"
             ],
             [
              0.4444444444444444,
              "#bd3786"
             ],
             [
              0.5555555555555556,
              "#d8576b"
             ],
             [
              0.6666666666666666,
              "#ed7953"
             ],
             [
              0.7777777777777778,
              "#fb9f3a"
             ],
             [
              0.8888888888888888,
              "#fdca26"
             ],
             [
              1,
              "#f0f921"
             ]
            ],
            "type": "histogram2d"
           }
          ],
          "histogram2dcontour": [
           {
            "colorbar": {
             "outlinewidth": 0,
             "ticks": ""
            },
            "colorscale": [
             [
              0,
              "#0d0887"
             ],
             [
              0.1111111111111111,
              "#46039f"
             ],
             [
              0.2222222222222222,
              "#7201a8"
             ],
             [
              0.3333333333333333,
              "#9c179e"
             ],
             [
              0.4444444444444444,
              "#bd3786"
             ],
             [
              0.5555555555555556,
              "#d8576b"
             ],
             [
              0.6666666666666666,
              "#ed7953"
             ],
             [
              0.7777777777777778,
              "#fb9f3a"
             ],
             [
              0.8888888888888888,
              "#fdca26"
             ],
             [
              1,
              "#f0f921"
             ]
            ],
            "type": "histogram2dcontour"
           }
          ],
          "mesh3d": [
           {
            "colorbar": {
             "outlinewidth": 0,
             "ticks": ""
            },
            "type": "mesh3d"
           }
          ],
          "parcoords": [
           {
            "line": {
             "colorbar": {
              "outlinewidth": 0,
              "ticks": ""
             }
            },
            "type": "parcoords"
           }
          ],
          "pie": [
           {
            "automargin": true,
            "type": "pie"
           }
          ],
          "scatter": [
           {
            "marker": {
             "colorbar": {
              "outlinewidth": 0,
              "ticks": ""
             }
            },
            "type": "scatter"
           }
          ],
          "scatter3d": [
           {
            "line": {
             "colorbar": {
              "outlinewidth": 0,
              "ticks": ""
             }
            },
            "marker": {
             "colorbar": {
              "outlinewidth": 0,
              "ticks": ""
             }
            },
            "type": "scatter3d"
           }
          ],
          "scattercarpet": [
           {
            "marker": {
             "colorbar": {
              "outlinewidth": 0,
              "ticks": ""
             }
            },
            "type": "scattercarpet"
           }
          ],
          "scattergeo": [
           {
            "marker": {
             "colorbar": {
              "outlinewidth": 0,
              "ticks": ""
             }
            },
            "type": "scattergeo"
           }
          ],
          "scattergl": [
           {
            "marker": {
             "colorbar": {
              "outlinewidth": 0,
              "ticks": ""
             }
            },
            "type": "scattergl"
           }
          ],
          "scattermapbox": [
           {
            "marker": {
             "colorbar": {
              "outlinewidth": 0,
              "ticks": ""
             }
            },
            "type": "scattermapbox"
           }
          ],
          "scatterpolar": [
           {
            "marker": {
             "colorbar": {
              "outlinewidth": 0,
              "ticks": ""
             }
            },
            "type": "scatterpolar"
           }
          ],
          "scatterpolargl": [
           {
            "marker": {
             "colorbar": {
              "outlinewidth": 0,
              "ticks": ""
             }
            },
            "type": "scatterpolargl"
           }
          ],
          "scatterternary": [
           {
            "marker": {
             "colorbar": {
              "outlinewidth": 0,
              "ticks": ""
             }
            },
            "type": "scatterternary"
           }
          ],
          "surface": [
           {
            "colorbar": {
             "outlinewidth": 0,
             "ticks": ""
            },
            "colorscale": [
             [
              0,
              "#0d0887"
             ],
             [
              0.1111111111111111,
              "#46039f"
             ],
             [
              0.2222222222222222,
              "#7201a8"
             ],
             [
              0.3333333333333333,
              "#9c179e"
             ],
             [
              0.4444444444444444,
              "#bd3786"
             ],
             [
              0.5555555555555556,
              "#d8576b"
             ],
             [
              0.6666666666666666,
              "#ed7953"
             ],
             [
              0.7777777777777778,
              "#fb9f3a"
             ],
             [
              0.8888888888888888,
              "#fdca26"
             ],
             [
              1,
              "#f0f921"
             ]
            ],
            "type": "surface"
           }
          ],
          "table": [
           {
            "cells": {
             "fill": {
              "color": "#EBF0F8"
             },
             "line": {
              "color": "white"
             }
            },
            "header": {
             "fill": {
              "color": "#C8D4E3"
             },
             "line": {
              "color": "white"
             }
            },
            "type": "table"
           }
          ]
         },
         "layout": {
          "annotationdefaults": {
           "arrowcolor": "#2a3f5f",
           "arrowhead": 0,
           "arrowwidth": 1
          },
          "autotypenumbers": "strict",
          "coloraxis": {
           "colorbar": {
            "outlinewidth": 0,
            "ticks": ""
           }
          },
          "colorscale": {
           "diverging": [
            [
             0,
             "#8e0152"
            ],
            [
             0.1,
             "#c51b7d"
            ],
            [
             0.2,
             "#de77ae"
            ],
            [
             0.3,
             "#f1b6da"
            ],
            [
             0.4,
             "#fde0ef"
            ],
            [
             0.5,
             "#f7f7f7"
            ],
            [
             0.6,
             "#e6f5d0"
            ],
            [
             0.7,
             "#b8e186"
            ],
            [
             0.8,
             "#7fbc41"
            ],
            [
             0.9,
             "#4d9221"
            ],
            [
             1,
             "#276419"
            ]
           ],
           "sequential": [
            [
             0,
             "#0d0887"
            ],
            [
             0.1111111111111111,
             "#46039f"
            ],
            [
             0.2222222222222222,
             "#7201a8"
            ],
            [
             0.3333333333333333,
             "#9c179e"
            ],
            [
             0.4444444444444444,
             "#bd3786"
            ],
            [
             0.5555555555555556,
             "#d8576b"
            ],
            [
             0.6666666666666666,
             "#ed7953"
            ],
            [
             0.7777777777777778,
             "#fb9f3a"
            ],
            [
             0.8888888888888888,
             "#fdca26"
            ],
            [
             1,
             "#f0f921"
            ]
           ],
           "sequentialminus": [
            [
             0,
             "#0d0887"
            ],
            [
             0.1111111111111111,
             "#46039f"
            ],
            [
             0.2222222222222222,
             "#7201a8"
            ],
            [
             0.3333333333333333,
             "#9c179e"
            ],
            [
             0.4444444444444444,
             "#bd3786"
            ],
            [
             0.5555555555555556,
             "#d8576b"
            ],
            [
             0.6666666666666666,
             "#ed7953"
            ],
            [
             0.7777777777777778,
             "#fb9f3a"
            ],
            [
             0.8888888888888888,
             "#fdca26"
            ],
            [
             1,
             "#f0f921"
            ]
           ]
          },
          "colorway": [
           "#636efa",
           "#EF553B",
           "#00cc96",
           "#ab63fa",
           "#FFA15A",
           "#19d3f3",
           "#FF6692",
           "#B6E880",
           "#FF97FF",
           "#FECB52"
          ],
          "font": {
           "color": "#2a3f5f"
          },
          "geo": {
           "bgcolor": "white",
           "lakecolor": "white",
           "landcolor": "#E5ECF6",
           "showlakes": true,
           "showland": true,
           "subunitcolor": "white"
          },
          "hoverlabel": {
           "align": "left"
          },
          "hovermode": "closest",
          "mapbox": {
           "style": "light"
          },
          "paper_bgcolor": "white",
          "plot_bgcolor": "#E5ECF6",
          "polar": {
           "angularaxis": {
            "gridcolor": "white",
            "linecolor": "white",
            "ticks": ""
           },
           "bgcolor": "#E5ECF6",
           "radialaxis": {
            "gridcolor": "white",
            "linecolor": "white",
            "ticks": ""
           }
          },
          "scene": {
           "xaxis": {
            "backgroundcolor": "#E5ECF6",
            "gridcolor": "white",
            "gridwidth": 2,
            "linecolor": "white",
            "showbackground": true,
            "ticks": "",
            "zerolinecolor": "white"
           },
           "yaxis": {
            "backgroundcolor": "#E5ECF6",
            "gridcolor": "white",
            "gridwidth": 2,
            "linecolor": "white",
            "showbackground": true,
            "ticks": "",
            "zerolinecolor": "white"
           },
           "zaxis": {
            "backgroundcolor": "#E5ECF6",
            "gridcolor": "white",
            "gridwidth": 2,
            "linecolor": "white",
            "showbackground": true,
            "ticks": "",
            "zerolinecolor": "white"
           }
          },
          "shapedefaults": {
           "line": {
            "color": "#2a3f5f"
           }
          },
          "ternary": {
           "aaxis": {
            "gridcolor": "white",
            "linecolor": "white",
            "ticks": ""
           },
           "baxis": {
            "gridcolor": "white",
            "linecolor": "white",
            "ticks": ""
           },
           "bgcolor": "#E5ECF6",
           "caxis": {
            "gridcolor": "white",
            "linecolor": "white",
            "ticks": ""
           }
          },
          "title": {
           "x": 0.05
          },
          "xaxis": {
           "automargin": true,
           "gridcolor": "white",
           "linecolor": "white",
           "ticks": "",
           "title": {
            "standoff": 15
           },
           "zerolinecolor": "white",
           "zerolinewidth": 2
          },
          "yaxis": {
           "automargin": true,
           "gridcolor": "white",
           "linecolor": "white",
           "ticks": "",
           "title": {
            "standoff": 15
           },
           "zerolinecolor": "white",
           "zerolinewidth": 2
          }
         }
        },
        "xaxis": {
         "autorange": true,
         "range": [
          -1,
          6
         ],
         "title": {
          "text": "Months"
         }
        },
        "yaxis": {
         "autorange": "reversed",
         "range": [
          0,
          10
         ],
         "title": {
          "text": "Groundwater in Meters(m)"
         }
        }
       }
      },
      "image/png": "[encoded data removed]",
      "text/html": [
       "<div>                            <div id=\"09d71f1b-4415-4a9b-89d1-ddb5d7545d83\" class=\"plotly-graph-div\" style=\"height:525px; width:100%;\"></div>            <script type=\"text/javascript\">                require([\"plotly\"], function(Plotly) {                    window.PLOTLYENV=window.PLOTLYENV || {};                                    if (document.getElementById(\"09d71f1b-4415-4a9b-89d1-ddb5d7545d83\")) {                    Plotly.newPlot(                        \"09d71f1b-4415-4a9b-89d1-ddb5d7545d83\",                        [],                        {\"hovermode\": \"closest\", \"template\": {\"data\": {\"bar\": [{\"error_x\": {\"color\": \"#2a3f5f\"}, \"error_y\": {\"color\": \"#2a3f5f\"}, \"marker\": {\"line\": {\"color\": \"#E5ECF6\", \"width\": 0.5}}, \"type\": \"bar\"}], \"barpolar\": [{\"marker\": {\"line\": {\"color\": \"#E5ECF6\", \"width\": 0.5}}, \"type\": \"barpolar\"}], \"carpet\": [{\"aaxis\": {\"endlinecolor\": \"#2a3f5f\", \"gridcolor\": \"white\", \"linecolor\": \"white\", \"minorgridcolor\": \"white\", \"startlinecolor\": \"#2a3f5f\"}, \"baxis\": {\"endlinecolor\": \"#2a3f5f\", \"gridcolor\": \"white\", \"linecolor\": \"white\", \"minorgridcolor\": \"white\", \"startlinecolor\": \"#2a3f5f\"}, \"type\": \"carpet\"}], \"choropleth\": [{\"colorbar\": {\"outlinewidth\": 0, \"ticks\": \"\"}, \"type\": \"choropleth\"}], \"contour\": [{\"colorbar\": {\"outlinewidth\": 0, \"ticks\": \"\"}, \"colorscale\": [[0.0, \"#0d0887\"], [0.1111111111111111, \"#46039f\"], [0.2222222222222222, \"#7201a8\"], [0.3333333333333333, \"#9c179e\"], [0.4444444444444444, \"#bd3786\"], [0.5555555555555556, \"#d8576b\"], [0.6666666666666666, \"#ed7953\"], [0.7777777777777778, \"#fb9f3a\"], [0.8888888888888888, \"#fdca26\"], [1.0, \"#f0f921\"]], \"type\": \"contour\"}], \"contourcarpet\": [{\"colorbar\": {\"outlinewidth\": 0, \"ticks\": \"\"}, \"type\": \"contourcarpet\"}], \"heatmap\": [{\"colorbar\": {\"outlinewidth\": 0, \"ticks\": \"\"}, \"colorscale\": [[0.0, \"#0d0887\"], [0.1111111111111111, \"#46039f\"], [0.2222222222222222, \"#7201a8\"], [0.3333333333333333, \"#9c179e\"], [0.4444444444444444, \"#bd3786\"], [0.5555555555555556, \"#d8576b\"], [0.6666666666666666, \"#ed7953\"], [0.7777777777777778, \"#fb9f3a\"], [0.8888888888888888, \"#fdca26\"], [1.0, \"#f0f921\"]], \"type\": \"heatmap\"}], \"heatmapgl\": [{\"colorbar\": {\"outlinewidth\": 0, \"ticks\": \"\"}, \"colorscale\": [[0.0, \"#0d0887\"], [0.1111111111111111, \"#46039f\"], [0.2222222222222222, \"#7201a8\"], [0.3333333333333333, \"#9c179e\"], [0.4444444444444444, \"#bd3786\"], [0.5555555555555556, \"#d8576b\"], [0.6666666666666666, \"#ed7953\"], [0.7777777777777778, \"#fb9f3a\"], [0.8888888888888888, \"#fdca26\"], [1.0, \"#f0f921\"]], \"type\": \"heatmapgl\"}], \"histogram\": [{\"marker\": {\"colorbar\": {\"outlinewidth\": 0, \"ticks\": \"\"}}, \"type\": \"histogram\"}], \"histogram2d\": [{\"colorbar\": {\"outlinewidth\": 0, \"ticks\": \"\"}, \"colorscale\": [[0.0, \"#0d0887\"], [0.1111111111111111, \"#46039f\"], [0.2222222222222222, \"#7201a8\"], [0.3333333333333333, \"#9c179e\"], [0.4444444444444444, \"#bd3786\"], [0.5555555555555556, \"#d8576b\"], [0.6666666666666666, \"#ed7953\"], [0.7777777777777778, \"#fb9f3a\"], [0.8888888888888888, \"#fdca26\"], [1.0, \"#f0f921\"]], \"type\": \"histogram2d\"}], \"histogram2dcontour\": [{\"colorbar\": {\"outlinewidth\": 0, \"ticks\": \"\"}, \"colorscale\": [[0.0, \"#0d0887\"], [0.1111111111111111, \"#46039f\"], [0.2222222222222222, \"#7201a8\"], [0.3333333333333333, \"#9c179e\"], [0.4444444444444444, \"#bd3786\"], [0.5555555555555556, \"#d8576b\"], [0.6666666666666666, \"#ed7953\"], [0.7777777777777778, \"#fb9f3a\"], [0.8888888888888888, \"#fdca26\"], [1.0, \"#f0f921\"]], \"type\": \"histogram2dcontour\"}], \"mesh3d\": [{\"colorbar\": {\"outlinewidth\": 0, \"ticks\": \"\"}, \"type\": \"mesh3d\"}], \"parcoords\": [{\"line\": {\"colorbar\": {\"outlinewidth\": 0, \"ticks\": \"\"}}, \"type\": \"parcoords\"}], \"pie\": [{\"automargin\": true, \"type\": \"pie\"}], \"scatter\": [{\"marker\": {\"colorbar\": {\"outlinewidth\": 0, \"ticks\": \"\"}}, \"type\": \"scatter\"}], \"scatter3d\": [{\"line\": {\"colorbar\": {\"outlinewidth\": 0, \"ticks\": \"\"}}, \"marker\": {\"colorbar\": {\"outlinewidth\": 0, \"ticks\": \"\"}}, \"type\": \"scatter3d\"}], \"scattercarpet\": [{\"marker\": {\"colorbar\": {\"outlinewidth\": 0, \"ticks\": \"\"}}, \"type\": \"scattercarpet\"}], \"scattergeo\": [{\"marker\": {\"colorbar\": {\"outlinewidth\": 0, \"ticks\": \"\"}}, \"type\": \"scattergeo\"}], \"scattergl\": [{\"marker\": {\"colorbar\": {\"outlinewidth\": 0, \"ticks\": \"\"}}, \"type\": \"scattergl\"}], \"scattermapbox\": [{\"marker\": {\"colorbar\": {\"outlinewidth\": 0, \"ticks\": \"\"}}, \"type\": \"scattermapbox\"}], \"scatterpolar\": [{\"marker\": {\"colorbar\": {\"outlinewidth\": 0, \"ticks\": \"\"}}, \"type\": \"scatterpolar\"}], \"scatterpolargl\": [{\"marker\": {\"colorbar\": {\"outlinewidth\": 0, \"ticks\": \"\"}}, \"type\": \"scatterpolargl\"}], \"scatterternary\": [{\"marker\": {\"colorbar\": {\"outlinewidth\": 0, \"ticks\": \"\"}}, \"type\": \"scatterternary\"}], \"surface\": [{\"colorbar\": {\"outlinewidth\": 0, \"ticks\": \"\"}, \"colorscale\": [[0.0, \"#0d0887\"], [0.1111111111111111, \"#46039f\"], [0.2222222222222222, \"#7201a8\"], [0.3333333333333333, \"#9c179e\"], [0.4444444444444444, \"#bd3786\"], [0.5555555555555556, \"#d8576b\"], [0.6666666666666666, \"#ed7953\"], [0.7777777777777778, \"#fb9f3a\"], [0.8888888888888888, \"#fdca26\"], [1.0, \"#f0f921\"]], \"type\": \"surface\"}], \"table\": [{\"cells\": {\"fill\": {\"color\": \"#EBF0F8\"}, \"line\": {\"color\": \"white\"}}, \"header\": {\"fill\": {\"color\": \"#C8D4E3\"}, \"line\": {\"color\": \"white\"}}, \"type\": \"table\"}]}, \"layout\": {\"annotationdefaults\": {\"arrowcolor\": \"#2a3f5f\", \"arrowhead\": 0, \"arrowwidth\": 1}, \"autotypenumbers\": \"strict\", \"coloraxis\": {\"colorbar\": {\"outlinewidth\": 0, \"ticks\": \"\"}}, \"colorscale\": {\"diverging\": [[0, \"#8e0152\"], [0.1, \"#c51b7d\"], [0.2, \"#de77ae\"], [0.3, \"#f1b6da\"], [0.4, \"#fde0ef\"], [0.5, \"#f7f7f7\"], [0.6, \"#e6f5d0\"], [0.7, \"#b8e186\"], [0.8, \"#7fbc41\"], [0.9, \"#4d9221\"], [1, \"#276419\"]], \"sequential\": [[0.0, \"#0d0887\"], [0.1111111111111111, \"#46039f\"], [0.2222222222222222, \"#7201a8\"], [0.3333333333333333, \"#9c179e\"], [0.4444444444444444, \"#bd3786\"], [0.5555555555555556, \"#d8576b\"], [0.6666666666666666, \"#ed7953\"], [0.7777777777777778, \"#fb9f3a\"], [0.8888888888888888, \"#fdca26\"], [1.0, \"#f0f921\"]], \"sequentialminus\": [[0.0, \"#0d0887\"], [0.1111111111111111, \"#46039f\"], [0.2222222222222222, \"#7201a8\"], [0.3333333333333333, \"#9c179e\"], [0.4444444444444444, \"#bd3786\"], [0.5555555555555556, \"#d8576b\"], [0.6666666666666666, \"#ed7953\"], [0.7777777777777778, \"#fb9f3a\"], [0.8888888888888888, \"#fdca26\"], [1.0, \"#f0f921\"]]}, \"colorway\": [\"#636efa\", \"#EF553B\", \"#00cc96\", \"#ab63fa\", \"#FFA15A\", \"#19d3f3\", \"#FF6692\", \"#B6E880\", \"#FF97FF\", \"#FECB52\"], \"font\": {\"color\": \"#2a3f5f\"}, \"geo\": {\"bgcolor\": \"white\", \"lakecolor\": \"white\", \"landcolor\": \"#E5ECF6\", \"showlakes\": true, \"showland\": true, \"subunitcolor\": \"white\"}, \"hoverlabel\": {\"align\": \"left\"}, \"hovermode\": \"closest\", \"mapbox\": {\"style\": \"light\"}, \"paper_bgcolor\": \"white\", \"plot_bgcolor\": \"#E5ECF6\", \"polar\": {\"angularaxis\": {\"gridcolor\": \"white\", \"linecolor\": \"white\", \"ticks\": \"\"}, \"bgcolor\": \"#E5ECF6\", \"radialaxis\": {\"gridcolor\": \"white\", \"linecolor\": \"white\", \"ticks\": \"\"}}, \"scene\": {\"xaxis\": {\"backgroundcolor\": \"#E5ECF6\", \"gridcolor\": \"white\", \"gridwidth\": 2, \"linecolor\": \"white\", \"showbackground\": true, \"ticks\": \"\", \"zerolinecolor\": \"white\"}, \"yaxis\": {\"backgroundcolor\": \"#E5ECF6\", \"gridcolor\": \"white\", \"gridwidth\": 2, \"linecolor\": \"white\", \"showbackground\": true, \"ticks\": \"\", \"zerolinecolor\": \"white\"}, \"zaxis\": {\"backgroundcolor\": \"#E5ECF6\", \"gridcolor\": \"white\", \"gridwidth\": 2, \"linecolor\": \"white\", \"showbackground\": true, \"ticks\": \"\", \"zerolinecolor\": \"white\"}}, \"shapedefaults\": {\"line\": {\"color\": \"#2a3f5f\"}}, \"ternary\": {\"aaxis\": {\"gridcolor\": \"white\", \"linecolor\": \"white\", \"ticks\": \"\"}, \"baxis\": {\"gridcolor\": \"white\", \"linecolor\": \"white\", \"ticks\": \"\"}, \"bgcolor\": \"#E5ECF6\", \"caxis\": {\"gridcolor\": \"white\", \"linecolor\": \"white\", \"ticks\": \"\"}}, \"title\": {\"x\": 0.05}, \"xaxis\": {\"automargin\": true, \"gridcolor\": \"white\", \"linecolor\": \"white\", \"ticks\": \"\", \"title\": {\"standoff\": 15}, \"zerolinecolor\": \"white\", \"zerolinewidth\": 2}, \"yaxis\": {\"automargin\": true, \"gridcolor\": \"white\", \"linecolor\": \"white\", \"ticks\": \"\", \"title\": {\"standoff\": 15}, \"zerolinecolor\": \"white\", \"zerolinewidth\": 2}}}, \"xaxis\": {\"title\": {\"text\": \"Months\"}}, \"yaxis\": {\"autorange\": \"reversed\", \"range\": [0, 10], \"title\": {\"text\": \"Groundwater in Meters(m)\"}}},                        {\"responsive\": true}                    ).then(function(){\n",
       "                            \n",
       "var gd = document.getElementById('09d71f1b-4415-4a9b-89d1-ddb5d7545d83');\n",
       "var x = new MutationObserver(function (mutations, observer) {{\n",
       "        var display = window.getComputedStyle(gd).display;\n",
       "        if (!display || display === 'none') {{\n",
       "            console.log([gd, 'removed!']);\n",
       "            Plotly.purge(gd);\n",
       "            observer.disconnect();\n",
       "        }}\n",
       "}});\n",
       "\n",
       "// Listen for the removal of the full notebook cells\n",
       "var notebookContainer = gd.closest('#notebook-container');\n",
       "if (notebookContainer) {{\n",
       "    x.observe(notebookContainer, {childList: true});\n",
       "}}\n",
       "\n",
       "// Listen for the clearing of the current output cell\n",
       "var outputEl = gd.closest('.output');\n",
       "if (outputEl) {{\n",
       "    x.observe(outputEl, {childList: true});\n",
       "}}\n",
       "\n",
       "                        })                };                });            </script>        </div>"
      ]
     },
     "metadata": {},
     "output_type": "display_data"
    }
   ],
   "source": [
    "layout =  go.Layout(xaxis={'title': 'Months'},\n",
    "                    yaxis={'title': 'Groundwater in Meters(m)'},\n",
    "                    hovermode='closest')\n",
    "figure = go.Figure(data=data, layout=layout)  \n",
    "figure.update_yaxes(autorange=\"reversed\",range=(0, 10))"
   ]
  },
  {
   "cell_type": "code",
   "execution_count": null,
   "id": "ebec427c",
   "metadata": {},
   "outputs": [],
   "source": [
    "data"
   ]
  },
  {
   "cell_type": "code",
   "execution_count": null,
   "id": "6820817a",
   "metadata": {},
   "outputs": [],
   "source": []
  },
  {
   "cell_type": "code",
   "execution_count": null,
   "id": "2abefe74",
   "metadata": {},
   "outputs": [],
   "source": []
  },
  {
   "cell_type": "code",
   "execution_count": 226,
   "id": "520da91a",
   "metadata": {},
   "outputs": [
    {
     "data": {
      "text/html": [
       "<div>\n",
       "<style scoped>\n",
       "    .dataframe tbody tr th:only-of-type {\n",
       "        vertical-align: middle;\n",
       "    }\n",
       "\n",
       "    .dataframe tbody tr th {\n",
       "        vertical-align: top;\n",
       "    }\n",
       "\n",
       "    .dataframe thead th {\n",
       "        text-align: right;\n",
       "    }\n",
       "</style>\n",
       "<table border=\"1\" class=\"dataframe\">\n",
       "  <thead>\n",
       "    <tr style=\"text-align: right;\">\n",
       "      <th></th>\n",
       "      <th>Unnamed: 0</th>\n",
       "      <th>serial number</th>\n",
       "      <th>Well number</th>\n",
       "      <th>well_no</th>\n",
       "      <th>longitude</th>\n",
       "      <th>latitude</th>\n",
       "      <th>location</th>\n",
       "      <th>Well type</th>\n",
       "      <th>remarks</th>\n",
       "      <th>year</th>\n",
       "      <th>month</th>\n",
       "      <th>value</th>\n",
       "    </tr>\n",
       "  </thead>\n",
       "  <tbody>\n",
       "    <tr>\n",
       "      <th>0</th>\n",
       "      <td>257</td>\n",
       "      <td>1.0</td>\n",
       "      <td>1-045/46(BK)1</td>\n",
       "      <td>bk-sw-01</td>\n",
       "      <td>569500.00000</td>\n",
       "      <td>3.119130e+06</td>\n",
       "      <td>Rohini_Khola</td>\n",
       "      <td>Shallow well</td>\n",
       "      <td>NaN</td>\n",
       "      <td>2001</td>\n",
       "      <td>Jan</td>\n",
       "      <td>3.19</td>\n",
       "    </tr>\n",
       "    <tr>\n",
       "      <th>1</th>\n",
       "      <td>258</td>\n",
       "      <td>2.0</td>\n",
       "      <td>2-045/46(BK)2</td>\n",
       "      <td>bk-sw-02</td>\n",
       "      <td>569500.00000</td>\n",
       "      <td>3.125700e+06</td>\n",
       "      <td>Jabadhawa</td>\n",
       "      <td>Shallow well</td>\n",
       "      <td>Pump fitted</td>\n",
       "      <td>2001</td>\n",
       "      <td>Jan</td>\n",
       "      <td>3.87</td>\n",
       "    </tr>\n",
       "    <tr>\n",
       "      <th>2</th>\n",
       "      <td>259</td>\n",
       "      <td>3.0</td>\n",
       "      <td>3-045/46(BK)3</td>\n",
       "      <td>bk-sw-03</td>\n",
       "      <td>563125.00000</td>\n",
       "      <td>3.125750e+06</td>\n",
       "      <td>Banktuwa</td>\n",
       "      <td>Shallow well</td>\n",
       "      <td>NaN</td>\n",
       "      <td>2001</td>\n",
       "      <td>Jan</td>\n",
       "      <td>2.1</td>\n",
       "    </tr>\n",
       "    <tr>\n",
       "      <th>3</th>\n",
       "      <td>260</td>\n",
       "      <td>4.0</td>\n",
       "      <td>4-045/46(BK)4</td>\n",
       "      <td>bk-sw-04</td>\n",
       "      <td>561300.00000</td>\n",
       "      <td>3.119200e+06</td>\n",
       "      <td>Channawa</td>\n",
       "      <td>Shallow well</td>\n",
       "      <td>NaN</td>\n",
       "      <td>2001</td>\n",
       "      <td>Jan</td>\n",
       "      <td>NaN</td>\n",
       "    </tr>\n",
       "    <tr>\n",
       "      <th>4</th>\n",
       "      <td>261</td>\n",
       "      <td>5.0</td>\n",
       "      <td>5-045/46(BK)5</td>\n",
       "      <td>bk-sw-05_1</td>\n",
       "      <td>557300.00000</td>\n",
       "      <td>3.118750e+06</td>\n",
       "      <td>Thapawa</td>\n",
       "      <td>Shallow well</td>\n",
       "      <td>Fllowing</td>\n",
       "      <td>2001</td>\n",
       "      <td>Jan</td>\n",
       "      <td>0.4</td>\n",
       "    </tr>\n",
       "    <tr>\n",
       "      <th>...</th>\n",
       "      <td>...</td>\n",
       "      <td>...</td>\n",
       "      <td>...</td>\n",
       "      <td>...</td>\n",
       "      <td>...</td>\n",
       "      <td>...</td>\n",
       "      <td>...</td>\n",
       "      <td>...</td>\n",
       "      <td>...</td>\n",
       "      <td>...</td>\n",
       "      <td>...</td>\n",
       "      <td>...</td>\n",
       "    </tr>\n",
       "    <tr>\n",
       "      <th>4495</th>\n",
       "      <td>4241</td>\n",
       "      <td>1.0</td>\n",
       "      <td>SP-1</td>\n",
       "      <td>bk-dw-01</td>\n",
       "      <td>81.60245</td>\n",
       "      <td>2.805131e+01</td>\n",
       "      <td>K_Gaon</td>\n",
       "      <td>Deep well</td>\n",
       "      <td>NaN</td>\n",
       "      <td>2015</td>\n",
       "      <td>Dec</td>\n",
       "      <td>NaN</td>\n",
       "    </tr>\n",
       "    <tr>\n",
       "      <th>4496</th>\n",
       "      <td>4242</td>\n",
       "      <td>2.0</td>\n",
       "      <td>SP-6</td>\n",
       "      <td>bk-dw-02</td>\n",
       "      <td>81.54661</td>\n",
       "      <td>2.808181e+01</td>\n",
       "      <td>L_Gaon</td>\n",
       "      <td>Deep well</td>\n",
       "      <td>NaN</td>\n",
       "      <td>2015</td>\n",
       "      <td>Dec</td>\n",
       "      <td>NaN</td>\n",
       "    </tr>\n",
       "    <tr>\n",
       "      <th>4497</th>\n",
       "      <td>4243</td>\n",
       "      <td>3.0</td>\n",
       "      <td>SP-9</td>\n",
       "      <td>bk-dw-03</td>\n",
       "      <td>81.51668</td>\n",
       "      <td>2.812222e+01</td>\n",
       "      <td>GaughatDW1</td>\n",
       "      <td>Deep well</td>\n",
       "      <td>NaN</td>\n",
       "      <td>2015</td>\n",
       "      <td>Dec</td>\n",
       "      <td>NaN</td>\n",
       "    </tr>\n",
       "    <tr>\n",
       "      <th>4498</th>\n",
       "      <td>4244</td>\n",
       "      <td>4.0</td>\n",
       "      <td>SP-13</td>\n",
       "      <td>bk-dw-04_1</td>\n",
       "      <td>81.51731</td>\n",
       "      <td>2.811321e+01</td>\n",
       "      <td>GaughatDW2</td>\n",
       "      <td>Deep well</td>\n",
       "      <td>NaN</td>\n",
       "      <td>2015</td>\n",
       "      <td>Dec</td>\n",
       "      <td>NaN</td>\n",
       "    </tr>\n",
       "    <tr>\n",
       "      <th>4499</th>\n",
       "      <td>4245</td>\n",
       "      <td>5.0</td>\n",
       "      <td>EXPT-7</td>\n",
       "      <td>bk-dw-05</td>\n",
       "      <td>81.60245</td>\n",
       "      <td>2.805131e+01</td>\n",
       "      <td>Parsapur</td>\n",
       "      <td>Deep well</td>\n",
       "      <td>NaN</td>\n",
       "      <td>2015</td>\n",
       "      <td>Dec</td>\n",
       "      <td>NaN</td>\n",
       "    </tr>\n",
       "  </tbody>\n",
       "</table>\n",
       "<p>4500 rows × 12 columns</p>\n",
       "</div>"
      ],
      "text/plain": [
       "      Unnamed: 0  serial number    Well number     well_no     longitude  \\\n",
       "0            257            1.0  1-045/46(BK)1    bk-sw-01  569500.00000   \n",
       "1            258            2.0  2-045/46(BK)2    bk-sw-02  569500.00000   \n",
       "2            259            3.0  3-045/46(BK)3    bk-sw-03  563125.00000   \n",
       "3            260            4.0  4-045/46(BK)4    bk-sw-04  561300.00000   \n",
       "4            261            5.0  5-045/46(BK)5  bk-sw-05_1  557300.00000   \n",
       "...          ...            ...            ...         ...           ...   \n",
       "4495        4241            1.0           SP-1    bk-dw-01      81.60245   \n",
       "4496        4242            2.0           SP-6    bk-dw-02      81.54661   \n",
       "4497        4243            3.0           SP-9    bk-dw-03      81.51668   \n",
       "4498        4244            4.0          SP-13  bk-dw-04_1      81.51731   \n",
       "4499        4245            5.0         EXPT-7    bk-dw-05      81.60245   \n",
       "\n",
       "          latitude      location     Well type      remarks  year month value  \n",
       "0     3.119130e+06  Rohini_Khola  Shallow well          NaN  2001   Jan  3.19  \n",
       "1     3.125700e+06     Jabadhawa  Shallow well  Pump fitted  2001   Jan  3.87  \n",
       "2     3.125750e+06      Banktuwa  Shallow well          NaN  2001   Jan   2.1  \n",
       "3     3.119200e+06      Channawa  Shallow well          NaN  2001   Jan   NaN  \n",
       "4     3.118750e+06       Thapawa  Shallow well     Fllowing  2001   Jan   0.4  \n",
       "...            ...           ...           ...          ...   ...   ...   ...  \n",
       "4495  2.805131e+01        K_Gaon     Deep well          NaN  2015   Dec   NaN  \n",
       "4496  2.808181e+01        L_Gaon     Deep well          NaN  2015   Dec   NaN  \n",
       "4497  2.812222e+01    GaughatDW1     Deep well          NaN  2015   Dec   NaN  \n",
       "4498  2.811321e+01    GaughatDW2     Deep well          NaN  2015   Dec   NaN  \n",
       "4499  2.805131e+01      Parsapur     Deep well          NaN  2015   Dec   NaN  \n",
       "\n",
       "[4500 rows x 12 columns]"
      ]
     },
     "execution_count": 226,
     "metadata": {},
     "output_type": "execute_result"
    }
   ],
   "source": [
    "df_data = pd.read_csv('data/preloaded_data/all_wells_clean_tall.csv')\n",
    "df_data"
   ]
  },
  {
   "cell_type": "code",
   "execution_count": 227,
   "id": "34c2cee1",
   "metadata": {},
   "outputs": [
    {
     "data": {
      "text/html": [
       "<div>\n",
       "<style scoped>\n",
       "    .dataframe tbody tr th:only-of-type {\n",
       "        vertical-align: middle;\n",
       "    }\n",
       "\n",
       "    .dataframe tbody tr th {\n",
       "        vertical-align: top;\n",
       "    }\n",
       "\n",
       "    .dataframe thead th {\n",
       "        text-align: right;\n",
       "    }\n",
       "</style>\n",
       "<table border=\"1\" class=\"dataframe\">\n",
       "  <thead>\n",
       "    <tr style=\"text-align: right;\">\n",
       "      <th></th>\n",
       "      <th>Unnamed: 0</th>\n",
       "      <th>serial number</th>\n",
       "      <th>Well number</th>\n",
       "      <th>well_no</th>\n",
       "      <th>longitude</th>\n",
       "      <th>latitude</th>\n",
       "      <th>location</th>\n",
       "      <th>Well type</th>\n",
       "      <th>remarks</th>\n",
       "      <th>year</th>\n",
       "      <th>month</th>\n",
       "      <th>value</th>\n",
       "    </tr>\n",
       "  </thead>\n",
       "  <tbody>\n",
       "    <tr>\n",
       "      <th>0</th>\n",
       "      <td>257</td>\n",
       "      <td>1.0</td>\n",
       "      <td>1-045/46(BK)1</td>\n",
       "      <td>bk-sw-01</td>\n",
       "      <td>569500.0</td>\n",
       "      <td>3119130.0</td>\n",
       "      <td>Rohini_Khola</td>\n",
       "      <td>Shallow well</td>\n",
       "      <td>NaN</td>\n",
       "      <td>2001</td>\n",
       "      <td>Jan</td>\n",
       "      <td>3.19</td>\n",
       "    </tr>\n",
       "    <tr>\n",
       "      <th>27</th>\n",
       "      <td>632</td>\n",
       "      <td>1.0</td>\n",
       "      <td>1-045/46(BK)1</td>\n",
       "      <td>bk-sw-01</td>\n",
       "      <td>569500.0</td>\n",
       "      <td>3119130.0</td>\n",
       "      <td>Rohini_Khola</td>\n",
       "      <td>Shallow well</td>\n",
       "      <td>NaN</td>\n",
       "      <td>2001</td>\n",
       "      <td>Feb</td>\n",
       "      <td>5.2</td>\n",
       "    </tr>\n",
       "    <tr>\n",
       "      <th>54</th>\n",
       "      <td>1007</td>\n",
       "      <td>1.0</td>\n",
       "      <td>1-045/46(BK)1</td>\n",
       "      <td>bk-sw-01</td>\n",
       "      <td>569500.0</td>\n",
       "      <td>3119130.0</td>\n",
       "      <td>Rohini_Khola</td>\n",
       "      <td>Shallow well</td>\n",
       "      <td>NaN</td>\n",
       "      <td>2001</td>\n",
       "      <td>Mar</td>\n",
       "      <td>5.3</td>\n",
       "    </tr>\n",
       "    <tr>\n",
       "      <th>81</th>\n",
       "      <td>1382</td>\n",
       "      <td>1.0</td>\n",
       "      <td>1-045/46(BK)1</td>\n",
       "      <td>bk-sw-01</td>\n",
       "      <td>569500.0</td>\n",
       "      <td>3119130.0</td>\n",
       "      <td>Rohini_Khola</td>\n",
       "      <td>Shallow well</td>\n",
       "      <td>NaN</td>\n",
       "      <td>2001</td>\n",
       "      <td>Apr</td>\n",
       "      <td>5.34</td>\n",
       "    </tr>\n",
       "    <tr>\n",
       "      <th>108</th>\n",
       "      <td>1757</td>\n",
       "      <td>1.0</td>\n",
       "      <td>1-045/46(BK)1</td>\n",
       "      <td>bk-sw-01</td>\n",
       "      <td>569500.0</td>\n",
       "      <td>3119130.0</td>\n",
       "      <td>Rohini_Khola</td>\n",
       "      <td>Shallow well</td>\n",
       "      <td>NaN</td>\n",
       "      <td>2001</td>\n",
       "      <td>May</td>\n",
       "      <td>6.98</td>\n",
       "    </tr>\n",
       "    <tr>\n",
       "      <th>...</th>\n",
       "      <td>...</td>\n",
       "      <td>...</td>\n",
       "      <td>...</td>\n",
       "      <td>...</td>\n",
       "      <td>...</td>\n",
       "      <td>...</td>\n",
       "      <td>...</td>\n",
       "      <td>...</td>\n",
       "      <td>...</td>\n",
       "      <td>...</td>\n",
       "      <td>...</td>\n",
       "      <td>...</td>\n",
       "    </tr>\n",
       "    <tr>\n",
       "      <th>4380</th>\n",
       "      <td>2722</td>\n",
       "      <td>1.0</td>\n",
       "      <td>1-045/46(BK)1</td>\n",
       "      <td>bk-sw-01</td>\n",
       "      <td>569500.0</td>\n",
       "      <td>3119130.0</td>\n",
       "      <td>Rohini_Khola</td>\n",
       "      <td>Shallow well</td>\n",
       "      <td>NaN</td>\n",
       "      <td>2015</td>\n",
       "      <td>Aug</td>\n",
       "      <td>0.9</td>\n",
       "    </tr>\n",
       "    <tr>\n",
       "      <th>4404</th>\n",
       "      <td>3097</td>\n",
       "      <td>1.0</td>\n",
       "      <td>1-045/46(BK)1</td>\n",
       "      <td>bk-sw-01</td>\n",
       "      <td>569500.0</td>\n",
       "      <td>3119130.0</td>\n",
       "      <td>Rohini_Khola</td>\n",
       "      <td>Shallow well</td>\n",
       "      <td>NaN</td>\n",
       "      <td>2015</td>\n",
       "      <td>Sep</td>\n",
       "      <td>1.95</td>\n",
       "    </tr>\n",
       "    <tr>\n",
       "      <th>4428</th>\n",
       "      <td>3472</td>\n",
       "      <td>1.0</td>\n",
       "      <td>1-045/46(BK)1</td>\n",
       "      <td>bk-sw-01</td>\n",
       "      <td>569500.0</td>\n",
       "      <td>3119130.0</td>\n",
       "      <td>Rohini_Khola</td>\n",
       "      <td>Shallow well</td>\n",
       "      <td>NaN</td>\n",
       "      <td>2015</td>\n",
       "      <td>Oct</td>\n",
       "      <td>2.15</td>\n",
       "    </tr>\n",
       "    <tr>\n",
       "      <th>4452</th>\n",
       "      <td>3847</td>\n",
       "      <td>1.0</td>\n",
       "      <td>1-045/46(BK)1</td>\n",
       "      <td>bk-sw-01</td>\n",
       "      <td>569500.0</td>\n",
       "      <td>3119130.0</td>\n",
       "      <td>Rohini_Khola</td>\n",
       "      <td>Shallow well</td>\n",
       "      <td>NaN</td>\n",
       "      <td>2015</td>\n",
       "      <td>Nov</td>\n",
       "      <td>NaN</td>\n",
       "    </tr>\n",
       "    <tr>\n",
       "      <th>4476</th>\n",
       "      <td>4222</td>\n",
       "      <td>1.0</td>\n",
       "      <td>1-045/46(BK)1</td>\n",
       "      <td>bk-sw-01</td>\n",
       "      <td>569500.0</td>\n",
       "      <td>3119130.0</td>\n",
       "      <td>Rohini_Khola</td>\n",
       "      <td>Shallow well</td>\n",
       "      <td>NaN</td>\n",
       "      <td>2015</td>\n",
       "      <td>Dec</td>\n",
       "      <td>NaN</td>\n",
       "    </tr>\n",
       "  </tbody>\n",
       "</table>\n",
       "<p>156 rows × 12 columns</p>\n",
       "</div>"
      ],
      "text/plain": [
       "      Unnamed: 0  serial number    Well number   well_no  longitude  \\\n",
       "0            257            1.0  1-045/46(BK)1  bk-sw-01   569500.0   \n",
       "27           632            1.0  1-045/46(BK)1  bk-sw-01   569500.0   \n",
       "54          1007            1.0  1-045/46(BK)1  bk-sw-01   569500.0   \n",
       "81          1382            1.0  1-045/46(BK)1  bk-sw-01   569500.0   \n",
       "108         1757            1.0  1-045/46(BK)1  bk-sw-01   569500.0   \n",
       "...          ...            ...            ...       ...        ...   \n",
       "4380        2722            1.0  1-045/46(BK)1  bk-sw-01   569500.0   \n",
       "4404        3097            1.0  1-045/46(BK)1  bk-sw-01   569500.0   \n",
       "4428        3472            1.0  1-045/46(BK)1  bk-sw-01   569500.0   \n",
       "4452        3847            1.0  1-045/46(BK)1  bk-sw-01   569500.0   \n",
       "4476        4222            1.0  1-045/46(BK)1  bk-sw-01   569500.0   \n",
       "\n",
       "       latitude      location     Well type remarks  year month value  \n",
       "0     3119130.0  Rohini_Khola  Shallow well     NaN  2001   Jan  3.19  \n",
       "27    3119130.0  Rohini_Khola  Shallow well     NaN  2001   Feb   5.2  \n",
       "54    3119130.0  Rohini_Khola  Shallow well     NaN  2001   Mar   5.3  \n",
       "81    3119130.0  Rohini_Khola  Shallow well     NaN  2001   Apr  5.34  \n",
       "108   3119130.0  Rohini_Khola  Shallow well     NaN  2001   May  6.98  \n",
       "...         ...           ...           ...     ...   ...   ...   ...  \n",
       "4380  3119130.0  Rohini_Khola  Shallow well     NaN  2015   Aug   0.9  \n",
       "4404  3119130.0  Rohini_Khola  Shallow well     NaN  2015   Sep  1.95  \n",
       "4428  3119130.0  Rohini_Khola  Shallow well     NaN  2015   Oct  2.15  \n",
       "4452  3119130.0  Rohini_Khola  Shallow well     NaN  2015   Nov   NaN  \n",
       "4476  3119130.0  Rohini_Khola  Shallow well     NaN  2015   Dec   NaN  \n",
       "\n",
       "[156 rows x 12 columns]"
      ]
     },
     "execution_count": 227,
     "metadata": {},
     "output_type": "execute_result"
    }
   ],
   "source": [
    "wells = \"bk-sw-01\"\n",
    "data = df_data[df_data['well_no'].isin([\"bk-sw-01\"])]\n",
    "data       \n",
    "       "
   ]
  },
  {
   "cell_type": "code",
   "execution_count": 228,
   "id": "9a4ce8fa",
   "metadata": {},
   "outputs": [],
   "source": [
    "location = df_both['Location'].tolist()\n",
    "well_no = df_both['well_no'].tolist()\n",
    "title_wells = {}\n",
    "        # for i, j in zip(location, well_no):\n",
    "        #     title_wells = {i,j}\n",
    "        # print(title_wells)\n",
    "title_wells =  {j:i for i,j in zip(location,well_no)}\n",
    "title = (title_wells[wells])"
   ]
  },
  {
   "cell_type": "code",
   "execution_count": 229,
   "id": "b31512a2",
   "metadata": {},
   "outputs": [
    {
     "name": "stderr",
     "output_type": "stream",
     "text": [
      "<ipython-input-229-4f2ae261a920>:1: SettingWithCopyWarning:\n",
      "\n",
      "\n",
      "A value is trying to be set on a copy of a slice from a DataFrame.\n",
      "Try using .loc[row_indexer,col_indexer] = value instead\n",
      "\n",
      "See the caveats in the documentation: https://pandas.pydata.org/pandas-docs/stable/user_guide/indexing.html#returning-a-view-versus-a-copy\n",
      "\n"
     ]
    },
    {
     "data": {
      "text/plain": [
       "0       3.19\n",
       "27      5.20\n",
       "54      5.30\n",
       "81      5.34\n",
       "108     6.98\n",
       "        ... \n",
       "4380    0.90\n",
       "4404    1.95\n",
       "4428    2.15\n",
       "4452     NaN\n",
       "4476     NaN\n",
       "Name: value, Length: 156, dtype: float64"
      ]
     },
     "execution_count": 229,
     "metadata": {},
     "output_type": "execute_result"
    }
   ],
   "source": [
    "data['value'] = data['value'].apply(pd.to_numeric)\n",
    "data['value'].apply(pd.to_numeric)"
   ]
  },
  {
   "cell_type": "code",
   "execution_count": 230,
   "id": "5b7ac7dc",
   "metadata": {},
   "outputs": [
    {
     "data": {
      "text/plain": [
       "0        1\n",
       "27       2\n",
       "54       3\n",
       "81       4\n",
       "108      5\n",
       "        ..\n",
       "4380     8\n",
       "4404     9\n",
       "4428    10\n",
       "4452    11\n",
       "4476    12\n",
       "Name: month, Length: 156, dtype: int64"
      ]
     },
     "execution_count": 230,
     "metadata": {},
     "output_type": "execute_result"
    }
   ],
   "source": [
    "pd.to_datetime(data.month, format='%b', errors='coerce').dt.month"
   ]
  },
  {
   "cell_type": "code",
   "execution_count": 231,
   "id": "bda4e93f",
   "metadata": {},
   "outputs": [
    {
     "data": {
      "text/html": [
       "<div>\n",
       "<style scoped>\n",
       "    .dataframe tbody tr th:only-of-type {\n",
       "        vertical-align: middle;\n",
       "    }\n",
       "\n",
       "    .dataframe tbody tr th {\n",
       "        vertical-align: top;\n",
       "    }\n",
       "\n",
       "    .dataframe thead th {\n",
       "        text-align: right;\n",
       "    }\n",
       "</style>\n",
       "<table border=\"1\" class=\"dataframe\">\n",
       "  <thead>\n",
       "    <tr style=\"text-align: right;\">\n",
       "      <th></th>\n",
       "      <th>Unnamed: 0</th>\n",
       "      <th>serial number</th>\n",
       "      <th>Well number</th>\n",
       "      <th>well_no</th>\n",
       "      <th>longitude</th>\n",
       "      <th>latitude</th>\n",
       "      <th>location</th>\n",
       "      <th>Well type</th>\n",
       "      <th>remarks</th>\n",
       "      <th>year</th>\n",
       "      <th>month</th>\n",
       "      <th>value</th>\n",
       "    </tr>\n",
       "  </thead>\n",
       "  <tbody>\n",
       "    <tr>\n",
       "      <th>0</th>\n",
       "      <td>257</td>\n",
       "      <td>1.0</td>\n",
       "      <td>1-045/46(BK)1</td>\n",
       "      <td>bk-sw-01</td>\n",
       "      <td>569500.0</td>\n",
       "      <td>3119130.0</td>\n",
       "      <td>Rohini_Khola</td>\n",
       "      <td>Shallow well</td>\n",
       "      <td>NaN</td>\n",
       "      <td>2001</td>\n",
       "      <td>Jan</td>\n",
       "      <td>3.19</td>\n",
       "    </tr>\n",
       "    <tr>\n",
       "      <th>27</th>\n",
       "      <td>632</td>\n",
       "      <td>1.0</td>\n",
       "      <td>1-045/46(BK)1</td>\n",
       "      <td>bk-sw-01</td>\n",
       "      <td>569500.0</td>\n",
       "      <td>3119130.0</td>\n",
       "      <td>Rohini_Khola</td>\n",
       "      <td>Shallow well</td>\n",
       "      <td>NaN</td>\n",
       "      <td>2001</td>\n",
       "      <td>Feb</td>\n",
       "      <td>5.20</td>\n",
       "    </tr>\n",
       "    <tr>\n",
       "      <th>54</th>\n",
       "      <td>1007</td>\n",
       "      <td>1.0</td>\n",
       "      <td>1-045/46(BK)1</td>\n",
       "      <td>bk-sw-01</td>\n",
       "      <td>569500.0</td>\n",
       "      <td>3119130.0</td>\n",
       "      <td>Rohini_Khola</td>\n",
       "      <td>Shallow well</td>\n",
       "      <td>NaN</td>\n",
       "      <td>2001</td>\n",
       "      <td>Mar</td>\n",
       "      <td>5.30</td>\n",
       "    </tr>\n",
       "    <tr>\n",
       "      <th>81</th>\n",
       "      <td>1382</td>\n",
       "      <td>1.0</td>\n",
       "      <td>1-045/46(BK)1</td>\n",
       "      <td>bk-sw-01</td>\n",
       "      <td>569500.0</td>\n",
       "      <td>3119130.0</td>\n",
       "      <td>Rohini_Khola</td>\n",
       "      <td>Shallow well</td>\n",
       "      <td>NaN</td>\n",
       "      <td>2001</td>\n",
       "      <td>Apr</td>\n",
       "      <td>5.34</td>\n",
       "    </tr>\n",
       "    <tr>\n",
       "      <th>108</th>\n",
       "      <td>1757</td>\n",
       "      <td>1.0</td>\n",
       "      <td>1-045/46(BK)1</td>\n",
       "      <td>bk-sw-01</td>\n",
       "      <td>569500.0</td>\n",
       "      <td>3119130.0</td>\n",
       "      <td>Rohini_Khola</td>\n",
       "      <td>Shallow well</td>\n",
       "      <td>NaN</td>\n",
       "      <td>2001</td>\n",
       "      <td>May</td>\n",
       "      <td>6.98</td>\n",
       "    </tr>\n",
       "    <tr>\n",
       "      <th>...</th>\n",
       "      <td>...</td>\n",
       "      <td>...</td>\n",
       "      <td>...</td>\n",
       "      <td>...</td>\n",
       "      <td>...</td>\n",
       "      <td>...</td>\n",
       "      <td>...</td>\n",
       "      <td>...</td>\n",
       "      <td>...</td>\n",
       "      <td>...</td>\n",
       "      <td>...</td>\n",
       "      <td>...</td>\n",
       "    </tr>\n",
       "    <tr>\n",
       "      <th>4380</th>\n",
       "      <td>2722</td>\n",
       "      <td>1.0</td>\n",
       "      <td>1-045/46(BK)1</td>\n",
       "      <td>bk-sw-01</td>\n",
       "      <td>569500.0</td>\n",
       "      <td>3119130.0</td>\n",
       "      <td>Rohini_Khola</td>\n",
       "      <td>Shallow well</td>\n",
       "      <td>NaN</td>\n",
       "      <td>2015</td>\n",
       "      <td>Aug</td>\n",
       "      <td>0.90</td>\n",
       "    </tr>\n",
       "    <tr>\n",
       "      <th>4404</th>\n",
       "      <td>3097</td>\n",
       "      <td>1.0</td>\n",
       "      <td>1-045/46(BK)1</td>\n",
       "      <td>bk-sw-01</td>\n",
       "      <td>569500.0</td>\n",
       "      <td>3119130.0</td>\n",
       "      <td>Rohini_Khola</td>\n",
       "      <td>Shallow well</td>\n",
       "      <td>NaN</td>\n",
       "      <td>2015</td>\n",
       "      <td>Sep</td>\n",
       "      <td>1.95</td>\n",
       "    </tr>\n",
       "    <tr>\n",
       "      <th>4428</th>\n",
       "      <td>3472</td>\n",
       "      <td>1.0</td>\n",
       "      <td>1-045/46(BK)1</td>\n",
       "      <td>bk-sw-01</td>\n",
       "      <td>569500.0</td>\n",
       "      <td>3119130.0</td>\n",
       "      <td>Rohini_Khola</td>\n",
       "      <td>Shallow well</td>\n",
       "      <td>NaN</td>\n",
       "      <td>2015</td>\n",
       "      <td>Oct</td>\n",
       "      <td>2.15</td>\n",
       "    </tr>\n",
       "    <tr>\n",
       "      <th>4452</th>\n",
       "      <td>3847</td>\n",
       "      <td>1.0</td>\n",
       "      <td>1-045/46(BK)1</td>\n",
       "      <td>bk-sw-01</td>\n",
       "      <td>569500.0</td>\n",
       "      <td>3119130.0</td>\n",
       "      <td>Rohini_Khola</td>\n",
       "      <td>Shallow well</td>\n",
       "      <td>NaN</td>\n",
       "      <td>2015</td>\n",
       "      <td>Nov</td>\n",
       "      <td>NaN</td>\n",
       "    </tr>\n",
       "    <tr>\n",
       "      <th>4476</th>\n",
       "      <td>4222</td>\n",
       "      <td>1.0</td>\n",
       "      <td>1-045/46(BK)1</td>\n",
       "      <td>bk-sw-01</td>\n",
       "      <td>569500.0</td>\n",
       "      <td>3119130.0</td>\n",
       "      <td>Rohini_Khola</td>\n",
       "      <td>Shallow well</td>\n",
       "      <td>NaN</td>\n",
       "      <td>2015</td>\n",
       "      <td>Dec</td>\n",
       "      <td>NaN</td>\n",
       "    </tr>\n",
       "  </tbody>\n",
       "</table>\n",
       "<p>156 rows × 12 columns</p>\n",
       "</div>"
      ],
      "text/plain": [
       "      Unnamed: 0  serial number    Well number   well_no  longitude  \\\n",
       "0            257            1.0  1-045/46(BK)1  bk-sw-01   569500.0   \n",
       "27           632            1.0  1-045/46(BK)1  bk-sw-01   569500.0   \n",
       "54          1007            1.0  1-045/46(BK)1  bk-sw-01   569500.0   \n",
       "81          1382            1.0  1-045/46(BK)1  bk-sw-01   569500.0   \n",
       "108         1757            1.0  1-045/46(BK)1  bk-sw-01   569500.0   \n",
       "...          ...            ...            ...       ...        ...   \n",
       "4380        2722            1.0  1-045/46(BK)1  bk-sw-01   569500.0   \n",
       "4404        3097            1.0  1-045/46(BK)1  bk-sw-01   569500.0   \n",
       "4428        3472            1.0  1-045/46(BK)1  bk-sw-01   569500.0   \n",
       "4452        3847            1.0  1-045/46(BK)1  bk-sw-01   569500.0   \n",
       "4476        4222            1.0  1-045/46(BK)1  bk-sw-01   569500.0   \n",
       "\n",
       "       latitude      location     Well type remarks  year month  value  \n",
       "0     3119130.0  Rohini_Khola  Shallow well     NaN  2001   Jan   3.19  \n",
       "27    3119130.0  Rohini_Khola  Shallow well     NaN  2001   Feb   5.20  \n",
       "54    3119130.0  Rohini_Khola  Shallow well     NaN  2001   Mar   5.30  \n",
       "81    3119130.0  Rohini_Khola  Shallow well     NaN  2001   Apr   5.34  \n",
       "108   3119130.0  Rohini_Khola  Shallow well     NaN  2001   May   6.98  \n",
       "...         ...           ...           ...     ...   ...   ...    ...  \n",
       "4380  3119130.0  Rohini_Khola  Shallow well     NaN  2015   Aug   0.90  \n",
       "4404  3119130.0  Rohini_Khola  Shallow well     NaN  2015   Sep   1.95  \n",
       "4428  3119130.0  Rohini_Khola  Shallow well     NaN  2015   Oct   2.15  \n",
       "4452  3119130.0  Rohini_Khola  Shallow well     NaN  2015   Nov    NaN  \n",
       "4476  3119130.0  Rohini_Khola  Shallow well     NaN  2015   Dec    NaN  \n",
       "\n",
       "[156 rows x 12 columns]"
      ]
     },
     "execution_count": 231,
     "metadata": {},
     "output_type": "execute_result"
    }
   ],
   "source": [
    "#data.month = pd.to_datetime(data.month, format='%b', errors='coerce').dt.month\n",
    "data"
   ]
  },
  {
   "cell_type": "code",
   "execution_count": 232,
   "id": "56be6ec9",
   "metadata": {},
   "outputs": [
    {
     "data": {
      "application/vnd.plotly.v1+json": {
       "config": {
        "plotlyServerURL": "https://plot.ly"
       },
       "data": [
        {
         "hovertemplate": "year=2001<br>month=%{x}<br>value=%{y}<extra></extra>",
         "legendgroup": "2001",
         "line": {
          "color": "#440154",
          "dash": "solid"
         },
         "mode": "lines",
         "name": "2001",
         "orientation": "v",
         "showlegend": true,
         "type": "scatter",
         "x": [
          "Jan",
          "Feb",
          "Mar",
          "Apr",
          "May",
          "Jun",
          "Jul",
          "Aug",
          "Sep",
          "Oct",
          "Nov",
          "Dec"
         ],
         "xaxis": "x",
         "y": [
          3.19,
          5.2,
          5.3,
          5.34,
          6.98,
          5.9,
          5.81,
          3.2,
          3.45,
          3.49,
          3.6,
          5.2
         ],
         "yaxis": "y"
        },
        {
         "hovertemplate": "year=2002<br>month=%{x}<br>value=%{y}<extra></extra>",
         "legendgroup": "2002",
         "line": {
          "color": "#481B6D",
          "dash": "solid"
         },
         "mode": "lines",
         "name": "2002",
         "orientation": "v",
         "showlegend": true,
         "type": "scatter",
         "x": [
          "Jan",
          "Feb",
          "Mar",
          "Apr",
          "May",
          "Jun",
          "Jul",
          "Aug",
          "Sep",
          "Oct",
          "Nov",
          "Dec"
         ],
         "xaxis": "x",
         "y": [
          3.9,
          4,
          4.2,
          4.25,
          4.41,
          4.95,
          5,
          4.96,
          5.1,
          null,
          5.16,
          5.2
         ],
         "yaxis": "y"
        },
        {
         "hovertemplate": "year=2003<br>month=%{x}<br>value=%{y}<extra></extra>",
         "legendgroup": "2003",
         "line": {
          "color": "#46337E",
          "dash": "solid"
         },
         "mode": "lines",
         "name": "2003",
         "orientation": "v",
         "showlegend": true,
         "type": "scatter",
         "x": [
          "Jan",
          "Feb",
          "Mar",
          "Apr",
          "May",
          "Jun",
          "Jul",
          "Aug",
          "Sep",
          "Oct",
          "Nov",
          "Dec"
         ],
         "xaxis": "x",
         "y": [
          5.2,
          4.1,
          4.4,
          8.38,
          8.44,
          2.31,
          2.21,
          1.8,
          1.82,
          1.88,
          1.4,
          3.3
         ],
         "yaxis": "y"
        },
        {
         "hovertemplate": "year=2004<br>month=%{x}<br>value=%{y}<extra></extra>",
         "legendgroup": "2004",
         "line": {
          "color": "#3F4889",
          "dash": "solid"
         },
         "mode": "lines",
         "name": "2004",
         "orientation": "v",
         "showlegend": true,
         "type": "scatter",
         "x": [
          "Jan",
          "Feb",
          "Mar",
          "Apr",
          "May",
          "Jun",
          "Jul",
          "Aug",
          "Sep",
          "Oct",
          "Nov",
          "Dec"
         ],
         "xaxis": "x",
         "y": [
          3.15,
          4.1,
          4.66,
          4.71,
          4.76,
          4.8,
          4.53,
          4.65,
          5.3,
          4.95,
          4.97,
          5.05
         ],
         "yaxis": "y"
        },
        {
         "hovertemplate": "year=2005<br>month=%{x}<br>value=%{y}<extra></extra>",
         "legendgroup": "2005",
         "line": {
          "color": "#365C8D",
          "dash": "solid"
         },
         "mode": "lines",
         "name": "2005",
         "orientation": "v",
         "showlegend": true,
         "type": "scatter",
         "x": [
          "Jan",
          "Feb",
          "Mar",
          "Apr",
          "May",
          "Jun",
          "Jul",
          "Aug",
          "Sep",
          "Oct",
          "Nov",
          "Dec"
         ],
         "xaxis": "x",
         "y": [
          5.1,
          4.7,
          4.9,
          5.05,
          5.35,
          5.55,
          5.15,
          4.45,
          4.35,
          2.05,
          2.65,
          3.1
         ],
         "yaxis": "y"
        },
        {
         "hovertemplate": "year=2006<br>month=%{x}<br>value=%{y}<extra></extra>",
         "legendgroup": "2006",
         "line": {
          "color": "#2E6E8E",
          "dash": "solid"
         },
         "mode": "lines",
         "name": "2006",
         "orientation": "v",
         "showlegend": true,
         "type": "scatter",
         "x": [
          "Jan",
          "Feb",
          "Mar",
          "Apr",
          "May",
          "Jun",
          "Jul",
          "Aug",
          "Sep",
          "Oct",
          "Nov",
          "Dec"
         ],
         "xaxis": "x",
         "y": [
          null,
          null,
          null,
          null,
          null,
          null,
          3.15,
          4.65,
          2.55,
          3.1,
          3.25,
          3.25
         ],
         "yaxis": "y"
        },
        {
         "hovertemplate": "year=2007<br>month=%{x}<br>value=%{y}<extra></extra>",
         "legendgroup": "2007",
         "line": {
          "color": "#277F8E",
          "dash": "solid"
         },
         "mode": "lines",
         "name": "2007",
         "orientation": "v",
         "showlegend": true,
         "type": "scatter",
         "x": [
          "Jan",
          "Feb",
          "Mar",
          "Apr",
          "May",
          "Jun",
          "Jul",
          "Aug",
          "Sep",
          "Oct",
          "Nov",
          "Dec"
         ],
         "xaxis": "x",
         "y": [
          3.35,
          3.5,
          3.7,
          3.95,
          4.95,
          4.9,
          3.15,
          2.75,
          2.55,
          2.55,
          2.75,
          3.1
         ],
         "yaxis": "y"
        },
        {
         "hovertemplate": "year=2008<br>month=%{x}<br>value=%{y}<extra></extra>",
         "legendgroup": "2008",
         "line": {
          "color": "#21908C",
          "dash": "solid"
         },
         "mode": "lines",
         "name": "2008",
         "orientation": "v",
         "showlegend": true,
         "type": "scatter",
         "x": [
          "Jan",
          "Feb",
          "Mar",
          "Apr",
          "May",
          "Jun",
          "Jul",
          "Aug",
          "Sep",
          "Oct",
          "Nov",
          "Dec"
         ],
         "xaxis": "x",
         "y": [
          2.95,
          3.25,
          3.55,
          3.9,
          4.55,
          4.35,
          3.05,
          2.55,
          2.45,
          2.45,
          2.6,
          2.95
         ],
         "yaxis": "y"
        },
        {
         "hovertemplate": "year=2009<br>month=%{x}<br>value=%{y}<extra></extra>",
         "legendgroup": "2009",
         "line": {
          "color": "#1FA187",
          "dash": "solid"
         },
         "mode": "lines",
         "name": "2009",
         "orientation": "v",
         "showlegend": true,
         "type": "scatter",
         "x": [
          "Jan",
          "Feb",
          "Mar",
          "Apr",
          "May",
          "Jun",
          "Jul",
          "Aug",
          "Sep",
          "Oct",
          "Nov",
          "Dec"
         ],
         "xaxis": "x",
         "y": [
          3.1,
          3.35,
          3.65,
          3.95,
          4.65,
          4.95,
          4.05,
          2.45,
          2.35,
          2.55,
          2.1,
          2.2
         ],
         "yaxis": "y"
        },
        {
         "hovertemplate": "year=2010<br>month=%{x}<br>value=%{y}<extra></extra>",
         "legendgroup": "2010",
         "line": {
          "color": "#2DB27D",
          "dash": "solid"
         },
         "mode": "lines",
         "name": "2010",
         "orientation": "v",
         "showlegend": true,
         "type": "scatter",
         "x": [
          "Jan",
          "Feb",
          "Mar",
          "Apr",
          "May",
          "Jun",
          "Jul",
          "Aug",
          "Sep",
          "Oct",
          "Nov",
          "Dec"
         ],
         "xaxis": "x",
         "y": [
          2.45,
          2.35,
          2.55,
          2.6,
          3.25,
          3.45,
          2.25,
          0.95,
          1.25,
          1.55,
          2.05,
          2.15
         ],
         "yaxis": "y"
        },
        {
         "hovertemplate": "year=2011<br>month=%{x}<br>value=%{y}<extra></extra>",
         "legendgroup": "2011",
         "line": {
          "color": "#4AC16D",
          "dash": "solid"
         },
         "mode": "lines",
         "name": "2011",
         "orientation": "v",
         "showlegend": true,
         "type": "scatter",
         "x": [
          "Jan",
          "Feb",
          "Mar",
          "Apr",
          "May",
          "Jun",
          "Jul",
          "Aug",
          "Sep",
          "Oct",
          "Nov",
          "Dec"
         ],
         "xaxis": "x",
         "y": [
          2.35,
          2.45,
          2.6,
          2.9,
          1.15,
          1.1,
          1,
          0.9,
          0.95,
          1.05,
          1.25,
          1.45
         ],
         "yaxis": "y"
        },
        {
         "hovertemplate": "year=2014<br>month=%{x}<br>value=%{y}<extra></extra>",
         "legendgroup": "2014",
         "line": {
          "color": "#71CF57",
          "dash": "solid"
         },
         "mode": "lines",
         "name": "2014",
         "orientation": "v",
         "showlegend": true,
         "type": "scatter",
         "x": [
          "Jan",
          "Feb",
          "Mar",
          "Apr",
          "May",
          "Jun",
          "Jul",
          "Aug",
          "Sep",
          "Oct",
          "Nov",
          "Dec"
         ],
         "xaxis": "x",
         "y": [
          2.45,
          2.55,
          2.9,
          3.1,
          3.2,
          3.45,
          2.3,
          0.95,
          1.05,
          1.25,
          1.5,
          1.9
         ],
         "yaxis": "y"
        },
        {
         "hovertemplate": "year=2015<br>month=%{x}<br>value=%{y}<extra></extra>",
         "legendgroup": "2015",
         "line": {
          "color": "#9FDA3A",
          "dash": "solid"
         },
         "mode": "lines",
         "name": "2015",
         "orientation": "v",
         "showlegend": true,
         "type": "scatter",
         "x": [
          "Jan",
          "Feb",
          "Mar",
          "Apr",
          "May",
          "Jun",
          "Jul",
          "Aug",
          "Sep",
          "Oct",
          "Nov",
          "Dec"
         ],
         "xaxis": "x",
         "y": [
          2,
          2.15,
          2.35,
          2.9,
          3.15,
          3.05,
          1.25,
          0.9,
          1.95,
          2.15,
          null,
          null
         ],
         "yaxis": "y"
        }
       ],
       "layout": {
        "autosize": true,
        "legend": {
         "title": {
          "text": "year"
         },
         "tracegroupgap": 0
        },
        "margin": {
         "t": 60
        },
        "template": {
         "data": {
          "bar": [
           {
            "error_x": {
             "color": "#2a3f5f"
            },
            "error_y": {
             "color": "#2a3f5f"
            },
            "marker": {
             "line": {
              "color": "#E5ECF6",
              "width": 0.5
             }
            },
            "type": "bar"
           }
          ],
          "barpolar": [
           {
            "marker": {
             "line": {
              "color": "#E5ECF6",
              "width": 0.5
             }
            },
            "type": "barpolar"
           }
          ],
          "carpet": [
           {
            "aaxis": {
             "endlinecolor": "#2a3f5f",
             "gridcolor": "white",
             "linecolor": "white",
             "minorgridcolor": "white",
             "startlinecolor": "#2a3f5f"
            },
            "baxis": {
             "endlinecolor": "#2a3f5f",
             "gridcolor": "white",
             "linecolor": "white",
             "minorgridcolor": "white",
             "startlinecolor": "#2a3f5f"
            },
            "type": "carpet"
           }
          ],
          "choropleth": [
           {
            "colorbar": {
             "outlinewidth": 0,
             "ticks": ""
            },
            "type": "choropleth"
           }
          ],
          "contour": [
           {
            "colorbar": {
             "outlinewidth": 0,
             "ticks": ""
            },
            "colorscale": [
             [
              0,
              "#0d0887"
             ],
             [
              0.1111111111111111,
              "#46039f"
             ],
             [
              0.2222222222222222,
              "#7201a8"
             ],
             [
              0.3333333333333333,
              "#9c179e"
             ],
             [
              0.4444444444444444,
              "#bd3786"
             ],
             [
              0.5555555555555556,
              "#d8576b"
             ],
             [
              0.6666666666666666,
              "#ed7953"
             ],
             [
              0.7777777777777778,
              "#fb9f3a"
             ],
             [
              0.8888888888888888,
              "#fdca26"
             ],
             [
              1,
              "#f0f921"
             ]
            ],
            "type": "contour"
           }
          ],
          "contourcarpet": [
           {
            "colorbar": {
             "outlinewidth": 0,
             "ticks": ""
            },
            "type": "contourcarpet"
           }
          ],
          "heatmap": [
           {
            "colorbar": {
             "outlinewidth": 0,
             "ticks": ""
            },
            "colorscale": [
             [
              0,
              "#0d0887"
             ],
             [
              0.1111111111111111,
              "#46039f"
             ],
             [
              0.2222222222222222,
              "#7201a8"
             ],
             [
              0.3333333333333333,
              "#9c179e"
             ],
             [
              0.4444444444444444,
              "#bd3786"
             ],
             [
              0.5555555555555556,
              "#d8576b"
             ],
             [
              0.6666666666666666,
              "#ed7953"
             ],
             [
              0.7777777777777778,
              "#fb9f3a"
             ],
             [
              0.8888888888888888,
              "#fdca26"
             ],
             [
              1,
              "#f0f921"
             ]
            ],
            "type": "heatmap"
           }
          ],
          "heatmapgl": [
           {
            "colorbar": {
             "outlinewidth": 0,
             "ticks": ""
            },
            "colorscale": [
             [
              0,
              "#0d0887"
             ],
             [
              0.1111111111111111,
              "#46039f"
             ],
             [
              0.2222222222222222,
              "#7201a8"
             ],
             [
              0.3333333333333333,
              "#9c179e"
             ],
             [
              0.4444444444444444,
              "#bd3786"
             ],
             [
              0.5555555555555556,
              "#d8576b"
             ],
             [
              0.6666666666666666,
              "#ed7953"
             ],
             [
              0.7777777777777778,
              "#fb9f3a"
             ],
             [
              0.8888888888888888,
              "#fdca26"
             ],
             [
              1,
              "#f0f921"
             ]
            ],
            "type": "heatmapgl"
           }
          ],
          "histogram": [
           {
            "marker": {
             "colorbar": {
              "outlinewidth": 0,
              "ticks": ""
             }
            },
            "type": "histogram"
           }
          ],
          "histogram2d": [
           {
            "colorbar": {
             "outlinewidth": 0,
             "ticks": ""
            },
            "colorscale": [
             [
              0,
              "#0d0887"
             ],
             [
              0.1111111111111111,
              "#46039f"
             ],
             [
              0.2222222222222222,
              "#7201a8"
             ],
             [
              0.3333333333333333,
              "#9c179e"
             ],
             [
              0.4444444444444444,
              "#bd3786"
             ],
             [
              0.5555555555555556,
              "#d8576b"
             ],
             [
              0.6666666666666666,
              "#ed7953"
             ],
             [
              0.7777777777777778,
              "#fb9f3a"
             ],
             [
              0.8888888888888888,
              "#fdca26"
             ],
             [
              1,
              "#f0f921"
             ]
            ],
            "type": "histogram2d"
           }
          ],
          "histogram2dcontour": [
           {
            "colorbar": {
             "outlinewidth": 0,
             "ticks": ""
            },
            "colorscale": [
             [
              0,
              "#0d0887"
             ],
             [
              0.1111111111111111,
              "#46039f"
             ],
             [
              0.2222222222222222,
              "#7201a8"
             ],
             [
              0.3333333333333333,
              "#9c179e"
             ],
             [
              0.4444444444444444,
              "#bd3786"
             ],
             [
              0.5555555555555556,
              "#d8576b"
             ],
             [
              0.6666666666666666,
              "#ed7953"
             ],
             [
              0.7777777777777778,
              "#fb9f3a"
             ],
             [
              0.8888888888888888,
              "#fdca26"
             ],
             [
              1,
              "#f0f921"
             ]
            ],
            "type": "histogram2dcontour"
           }
          ],
          "mesh3d": [
           {
            "colorbar": {
             "outlinewidth": 0,
             "ticks": ""
            },
            "type": "mesh3d"
           }
          ],
          "parcoords": [
           {
            "line": {
             "colorbar": {
              "outlinewidth": 0,
              "ticks": ""
             }
            },
            "type": "parcoords"
           }
          ],
          "pie": [
           {
            "automargin": true,
            "type": "pie"
           }
          ],
          "scatter": [
           {
            "marker": {
             "colorbar": {
              "outlinewidth": 0,
              "ticks": ""
             }
            },
            "type": "scatter"
           }
          ],
          "scatter3d": [
           {
            "line": {
             "colorbar": {
              "outlinewidth": 0,
              "ticks": ""
             }
            },
            "marker": {
             "colorbar": {
              "outlinewidth": 0,
              "ticks": ""
             }
            },
            "type": "scatter3d"
           }
          ],
          "scattercarpet": [
           {
            "marker": {
             "colorbar": {
              "outlinewidth": 0,
              "ticks": ""
             }
            },
            "type": "scattercarpet"
           }
          ],
          "scattergeo": [
           {
            "marker": {
             "colorbar": {
              "outlinewidth": 0,
              "ticks": ""
             }
            },
            "type": "scattergeo"
           }
          ],
          "scattergl": [
           {
            "marker": {
             "colorbar": {
              "outlinewidth": 0,
              "ticks": ""
             }
            },
            "type": "scattergl"
           }
          ],
          "scattermapbox": [
           {
            "marker": {
             "colorbar": {
              "outlinewidth": 0,
              "ticks": ""
             }
            },
            "type": "scattermapbox"
           }
          ],
          "scatterpolar": [
           {
            "marker": {
             "colorbar": {
              "outlinewidth": 0,
              "ticks": ""
             }
            },
            "type": "scatterpolar"
           }
          ],
          "scatterpolargl": [
           {
            "marker": {
             "colorbar": {
              "outlinewidth": 0,
              "ticks": ""
             }
            },
            "type": "scatterpolargl"
           }
          ],
          "scatterternary": [
           {
            "marker": {
             "colorbar": {
              "outlinewidth": 0,
              "ticks": ""
             }
            },
            "type": "scatterternary"
           }
          ],
          "surface": [
           {
            "colorbar": {
             "outlinewidth": 0,
             "ticks": ""
            },
            "colorscale": [
             [
              0,
              "#0d0887"
             ],
             [
              0.1111111111111111,
              "#46039f"
             ],
             [
              0.2222222222222222,
              "#7201a8"
             ],
             [
              0.3333333333333333,
              "#9c179e"
             ],
             [
              0.4444444444444444,
              "#bd3786"
             ],
             [
              0.5555555555555556,
              "#d8576b"
             ],
             [
              0.6666666666666666,
              "#ed7953"
             ],
             [
              0.7777777777777778,
              "#fb9f3a"
             ],
             [
              0.8888888888888888,
              "#fdca26"
             ],
             [
              1,
              "#f0f921"
             ]
            ],
            "type": "surface"
           }
          ],
          "table": [
           {
            "cells": {
             "fill": {
              "color": "#EBF0F8"
             },
             "line": {
              "color": "white"
             }
            },
            "header": {
             "fill": {
              "color": "#C8D4E3"
             },
             "line": {
              "color": "white"
             }
            },
            "type": "table"
           }
          ]
         },
         "layout": {
          "annotationdefaults": {
           "arrowcolor": "#2a3f5f",
           "arrowhead": 0,
           "arrowwidth": 1
          },
          "autotypenumbers": "strict",
          "coloraxis": {
           "colorbar": {
            "outlinewidth": 0,
            "ticks": ""
           }
          },
          "colorscale": {
           "diverging": [
            [
             0,
             "#8e0152"
            ],
            [
             0.1,
             "#c51b7d"
            ],
            [
             0.2,
             "#de77ae"
            ],
            [
             0.3,
             "#f1b6da"
            ],
            [
             0.4,
             "#fde0ef"
            ],
            [
             0.5,
             "#f7f7f7"
            ],
            [
             0.6,
             "#e6f5d0"
            ],
            [
             0.7,
             "#b8e186"
            ],
            [
             0.8,
             "#7fbc41"
            ],
            [
             0.9,
             "#4d9221"
            ],
            [
             1,
             "#276419"
            ]
           ],
           "sequential": [
            [
             0,
             "#0d0887"
            ],
            [
             0.1111111111111111,
             "#46039f"
            ],
            [
             0.2222222222222222,
             "#7201a8"
            ],
            [
             0.3333333333333333,
             "#9c179e"
            ],
            [
             0.4444444444444444,
             "#bd3786"
            ],
            [
             0.5555555555555556,
             "#d8576b"
            ],
            [
             0.6666666666666666,
             "#ed7953"
            ],
            [
             0.7777777777777778,
             "#fb9f3a"
            ],
            [
             0.8888888888888888,
             "#fdca26"
            ],
            [
             1,
             "#f0f921"
            ]
           ],
           "sequentialminus": [
            [
             0,
             "#0d0887"
            ],
            [
             0.1111111111111111,
             "#46039f"
            ],
            [
             0.2222222222222222,
             "#7201a8"
            ],
            [
             0.3333333333333333,
             "#9c179e"
            ],
            [
             0.4444444444444444,
             "#bd3786"
            ],
            [
             0.5555555555555556,
             "#d8576b"
            ],
            [
             0.6666666666666666,
             "#ed7953"
            ],
            [
             0.7777777777777778,
             "#fb9f3a"
            ],
            [
             0.8888888888888888,
             "#fdca26"
            ],
            [
             1,
             "#f0f921"
            ]
           ]
          },
          "colorway": [
           "#636efa",
           "#EF553B",
           "#00cc96",
           "#ab63fa",
           "#FFA15A",
           "#19d3f3",
           "#FF6692",
           "#B6E880",
           "#FF97FF",
           "#FECB52"
          ],
          "font": {
           "color": "#2a3f5f"
          },
          "geo": {
           "bgcolor": "white",
           "lakecolor": "white",
           "landcolor": "#E5ECF6",
           "showlakes": true,
           "showland": true,
           "subunitcolor": "white"
          },
          "hoverlabel": {
           "align": "left"
          },
          "hovermode": "closest",
          "mapbox": {
           "style": "light"
          },
          "paper_bgcolor": "white",
          "plot_bgcolor": "#E5ECF6",
          "polar": {
           "angularaxis": {
            "gridcolor": "white",
            "linecolor": "white",
            "ticks": ""
           },
           "bgcolor": "#E5ECF6",
           "radialaxis": {
            "gridcolor": "white",
            "linecolor": "white",
            "ticks": ""
           }
          },
          "scene": {
           "xaxis": {
            "backgroundcolor": "#E5ECF6",
            "gridcolor": "white",
            "gridwidth": 2,
            "linecolor": "white",
            "showbackground": true,
            "ticks": "",
            "zerolinecolor": "white"
           },
           "yaxis": {
            "backgroundcolor": "#E5ECF6",
            "gridcolor": "white",
            "gridwidth": 2,
            "linecolor": "white",
            "showbackground": true,
            "ticks": "",
            "zerolinecolor": "white"
           },
           "zaxis": {
            "backgroundcolor": "#E5ECF6",
            "gridcolor": "white",
            "gridwidth": 2,
            "linecolor": "white",
            "showbackground": true,
            "ticks": "",
            "zerolinecolor": "white"
           }
          },
          "shapedefaults": {
           "line": {
            "color": "#2a3f5f"
           }
          },
          "ternary": {
           "aaxis": {
            "gridcolor": "white",
            "linecolor": "white",
            "ticks": ""
           },
           "baxis": {
            "gridcolor": "white",
            "linecolor": "white",
            "ticks": ""
           },
           "bgcolor": "#E5ECF6",
           "caxis": {
            "gridcolor": "white",
            "linecolor": "white",
            "ticks": ""
           }
          },
          "title": {
           "x": 0.05
          },
          "xaxis": {
           "automargin": true,
           "gridcolor": "white",
           "linecolor": "white",
           "ticks": "",
           "title": {
            "standoff": 15
           },
           "zerolinecolor": "white",
           "zerolinewidth": 2
          },
          "yaxis": {
           "automargin": true,
           "gridcolor": "white",
           "linecolor": "white",
           "ticks": "",
           "title": {
            "standoff": 15
           },
           "zerolinecolor": "white",
           "zerolinewidth": 2
          }
         }
        },
        "title": {
         "text": "Ground Water level of Rohini Khola (2001-2015)"
        },
        "xaxis": {
         "anchor": "y",
         "autorange": true,
         "domain": [
          0,
          1
         ],
         "range": [
          0,
          11
         ],
         "title": {
          "text": "Months"
         },
         "type": "category"
        },
        "yaxis": {
         "anchor": "x",
         "autorange": true,
         "domain": [
          0,
          1
         ],
         "range": [
          8.858888888888888,
          0.4811111111111112
         ],
         "title": {
          "text": "Groundwater in mbgl"
         },
         "type": "linear"
        }
       }
      },
      "image/png": "[encoded data removed]",
      "text/html": [
       "<div>                            <div id=\"33e30996-1fca-490d-a93e-5c3494c1b1af\" class=\"plotly-graph-div\" style=\"height:525px; width:100%;\"></div>            <script type=\"text/javascript\">                require([\"plotly\"], function(Plotly) {                    window.PLOTLYENV=window.PLOTLYENV || {};                                    if (document.getElementById(\"33e30996-1fca-490d-a93e-5c3494c1b1af\")) {                    Plotly.newPlot(                        \"33e30996-1fca-490d-a93e-5c3494c1b1af\",                        [{\"hovertemplate\": \"year=2001<br>month=%{x}<br>value=%{y}<extra></extra>\", \"legendgroup\": \"2001\", \"line\": {\"color\": \"#440154\", \"dash\": \"solid\"}, \"mode\": \"lines\", \"name\": \"2001\", \"orientation\": \"v\", \"showlegend\": true, \"type\": \"scatter\", \"x\": [\"Jan\", \"Feb\", \"Mar\", \"Apr\", \"May\", \"Jun\", \"Jul\", \"Aug\", \"Sep\", \"Oct\", \"Nov\", \"Dec\"], \"xaxis\": \"x\", \"y\": [3.19, 5.2, 5.3, 5.34, 6.98, 5.9, 5.81, 3.2, 3.45, 3.49, 3.6, 5.2], \"yaxis\": \"y\"}, {\"hovertemplate\": \"year=2002<br>month=%{x}<br>value=%{y}<extra></extra>\", \"legendgroup\": \"2002\", \"line\": {\"color\": \"#481B6D\", \"dash\": \"solid\"}, \"mode\": \"lines\", \"name\": \"2002\", \"orientation\": \"v\", \"showlegend\": true, \"type\": \"scatter\", \"x\": [\"Jan\", \"Feb\", \"Mar\", \"Apr\", \"May\", \"Jun\", \"Jul\", \"Aug\", \"Sep\", \"Oct\", \"Nov\", \"Dec\"], \"xaxis\": \"x\", \"y\": [3.9, 4.0, 4.2, 4.25, 4.41, 4.95, 5.0, 4.96, 5.1, null, 5.16, 5.2], \"yaxis\": \"y\"}, {\"hovertemplate\": \"year=2003<br>month=%{x}<br>value=%{y}<extra></extra>\", \"legendgroup\": \"2003\", \"line\": {\"color\": \"#46337E\", \"dash\": \"solid\"}, \"mode\": \"lines\", \"name\": \"2003\", \"orientation\": \"v\", \"showlegend\": true, \"type\": \"scatter\", \"x\": [\"Jan\", \"Feb\", \"Mar\", \"Apr\", \"May\", \"Jun\", \"Jul\", \"Aug\", \"Sep\", \"Oct\", \"Nov\", \"Dec\"], \"xaxis\": \"x\", \"y\": [5.2, 4.1, 4.4, 8.38, 8.44, 2.31, 2.21, 1.8, 1.82, 1.88, 1.4, 3.3], \"yaxis\": \"y\"}, {\"hovertemplate\": \"year=2004<br>month=%{x}<br>value=%{y}<extra></extra>\", \"legendgroup\": \"2004\", \"line\": {\"color\": \"#3F4889\", \"dash\": \"solid\"}, \"mode\": \"lines\", \"name\": \"2004\", \"orientation\": \"v\", \"showlegend\": true, \"type\": \"scatter\", \"x\": [\"Jan\", \"Feb\", \"Mar\", \"Apr\", \"May\", \"Jun\", \"Jul\", \"Aug\", \"Sep\", \"Oct\", \"Nov\", \"Dec\"], \"xaxis\": \"x\", \"y\": [3.15, 4.1, 4.66, 4.71, 4.76, 4.8, 4.53, 4.65, 5.3, 4.95, 4.97, 5.05], \"yaxis\": \"y\"}, {\"hovertemplate\": \"year=2005<br>month=%{x}<br>value=%{y}<extra></extra>\", \"legendgroup\": \"2005\", \"line\": {\"color\": \"#365C8D\", \"dash\": \"solid\"}, \"mode\": \"lines\", \"name\": \"2005\", \"orientation\": \"v\", \"showlegend\": true, \"type\": \"scatter\", \"x\": [\"Jan\", \"Feb\", \"Mar\", \"Apr\", \"May\", \"Jun\", \"Jul\", \"Aug\", \"Sep\", \"Oct\", \"Nov\", \"Dec\"], \"xaxis\": \"x\", \"y\": [5.1, 4.7, 4.9, 5.05, 5.35, 5.55, 5.15, 4.45, 4.35, 2.05, 2.65, 3.1], \"yaxis\": \"y\"}, {\"hovertemplate\": \"year=2006<br>month=%{x}<br>value=%{y}<extra></extra>\", \"legendgroup\": \"2006\", \"line\": {\"color\": \"#2E6E8E\", \"dash\": \"solid\"}, \"mode\": \"lines\", \"name\": \"2006\", \"orientation\": \"v\", \"showlegend\": true, \"type\": \"scatter\", \"x\": [\"Jan\", \"Feb\", \"Mar\", \"Apr\", \"May\", \"Jun\", \"Jul\", \"Aug\", \"Sep\", \"Oct\", \"Nov\", \"Dec\"], \"xaxis\": \"x\", \"y\": [null, null, null, null, null, null, 3.15, 4.65, 2.55, 3.1, 3.25, 3.25], \"yaxis\": \"y\"}, {\"hovertemplate\": \"year=2007<br>month=%{x}<br>value=%{y}<extra></extra>\", \"legendgroup\": \"2007\", \"line\": {\"color\": \"#277F8E\", \"dash\": \"solid\"}, \"mode\": \"lines\", \"name\": \"2007\", \"orientation\": \"v\", \"showlegend\": true, \"type\": \"scatter\", \"x\": [\"Jan\", \"Feb\", \"Mar\", \"Apr\", \"May\", \"Jun\", \"Jul\", \"Aug\", \"Sep\", \"Oct\", \"Nov\", \"Dec\"], \"xaxis\": \"x\", \"y\": [3.35, 3.5, 3.7, 3.95, 4.95, 4.9, 3.15, 2.75, 2.55, 2.55, 2.75, 3.1], \"yaxis\": \"y\"}, {\"hovertemplate\": \"year=2008<br>month=%{x}<br>value=%{y}<extra></extra>\", \"legendgroup\": \"2008\", \"line\": {\"color\": \"#21908C\", \"dash\": \"solid\"}, \"mode\": \"lines\", \"name\": \"2008\", \"orientation\": \"v\", \"showlegend\": true, \"type\": \"scatter\", \"x\": [\"Jan\", \"Feb\", \"Mar\", \"Apr\", \"May\", \"Jun\", \"Jul\", \"Aug\", \"Sep\", \"Oct\", \"Nov\", \"Dec\"], \"xaxis\": \"x\", \"y\": [2.95, 3.25, 3.55, 3.9, 4.55, 4.35, 3.05, 2.55, 2.45, 2.45, 2.6, 2.95], \"yaxis\": \"y\"}, {\"hovertemplate\": \"year=2009<br>month=%{x}<br>value=%{y}<extra></extra>\", \"legendgroup\": \"2009\", \"line\": {\"color\": \"#1FA187\", \"dash\": \"solid\"}, \"mode\": \"lines\", \"name\": \"2009\", \"orientation\": \"v\", \"showlegend\": true, \"type\": \"scatter\", \"x\": [\"Jan\", \"Feb\", \"Mar\", \"Apr\", \"May\", \"Jun\", \"Jul\", \"Aug\", \"Sep\", \"Oct\", \"Nov\", \"Dec\"], \"xaxis\": \"x\", \"y\": [3.1, 3.35, 3.65, 3.95, 4.65, 4.95, 4.05, 2.45, 2.35, 2.55, 2.1, 2.2], \"yaxis\": \"y\"}, {\"hovertemplate\": \"year=2010<br>month=%{x}<br>value=%{y}<extra></extra>\", \"legendgroup\": \"2010\", \"line\": {\"color\": \"#2DB27D\", \"dash\": \"solid\"}, \"mode\": \"lines\", \"name\": \"2010\", \"orientation\": \"v\", \"showlegend\": true, \"type\": \"scatter\", \"x\": [\"Jan\", \"Feb\", \"Mar\", \"Apr\", \"May\", \"Jun\", \"Jul\", \"Aug\", \"Sep\", \"Oct\", \"Nov\", \"Dec\"], \"xaxis\": \"x\", \"y\": [2.45, 2.35, 2.55, 2.6, 3.25, 3.45, 2.25, 0.95, 1.25, 1.55, 2.05, 2.15], \"yaxis\": \"y\"}, {\"hovertemplate\": \"year=2011<br>month=%{x}<br>value=%{y}<extra></extra>\", \"legendgroup\": \"2011\", \"line\": {\"color\": \"#4AC16D\", \"dash\": \"solid\"}, \"mode\": \"lines\", \"name\": \"2011\", \"orientation\": \"v\", \"showlegend\": true, \"type\": \"scatter\", \"x\": [\"Jan\", \"Feb\", \"Mar\", \"Apr\", \"May\", \"Jun\", \"Jul\", \"Aug\", \"Sep\", \"Oct\", \"Nov\", \"Dec\"], \"xaxis\": \"x\", \"y\": [2.35, 2.45, 2.6, 2.9, 1.15, 1.1, 1.0, 0.9, 0.95, 1.05, 1.25, 1.45], \"yaxis\": \"y\"}, {\"hovertemplate\": \"year=2014<br>month=%{x}<br>value=%{y}<extra></extra>\", \"legendgroup\": \"2014\", \"line\": {\"color\": \"#71CF57\", \"dash\": \"solid\"}, \"mode\": \"lines\", \"name\": \"2014\", \"orientation\": \"v\", \"showlegend\": true, \"type\": \"scatter\", \"x\": [\"Jan\", \"Feb\", \"Mar\", \"Apr\", \"May\", \"Jun\", \"Jul\", \"Aug\", \"Sep\", \"Oct\", \"Nov\", \"Dec\"], \"xaxis\": \"x\", \"y\": [2.45, 2.55, 2.9, 3.1, 3.2, 3.45, 2.3, 0.95, 1.05, 1.25, 1.5, 1.9], \"yaxis\": \"y\"}, {\"hovertemplate\": \"year=2015<br>month=%{x}<br>value=%{y}<extra></extra>\", \"legendgroup\": \"2015\", \"line\": {\"color\": \"#9FDA3A\", \"dash\": \"solid\"}, \"mode\": \"lines\", \"name\": \"2015\", \"orientation\": \"v\", \"showlegend\": true, \"type\": \"scatter\", \"x\": [\"Jan\", \"Feb\", \"Mar\", \"Apr\", \"May\", \"Jun\", \"Jul\", \"Aug\", \"Sep\", \"Oct\", \"Nov\", \"Dec\"], \"xaxis\": \"x\", \"y\": [2.0, 2.15, 2.35, 2.9, 3.15, 3.05, 1.25, 0.9, 1.95, 2.15, null, null], \"yaxis\": \"y\"}],                        {\"legend\": {\"title\": {\"text\": \"year\"}, \"tracegroupgap\": 0}, \"margin\": {\"t\": 60}, \"template\": {\"data\": {\"bar\": [{\"error_x\": {\"color\": \"#2a3f5f\"}, \"error_y\": {\"color\": \"#2a3f5f\"}, \"marker\": {\"line\": {\"color\": \"#E5ECF6\", \"width\": 0.5}}, \"type\": \"bar\"}], \"barpolar\": [{\"marker\": {\"line\": {\"color\": \"#E5ECF6\", \"width\": 0.5}}, \"type\": \"barpolar\"}], \"carpet\": [{\"aaxis\": {\"endlinecolor\": \"#2a3f5f\", \"gridcolor\": \"white\", \"linecolor\": \"white\", \"minorgridcolor\": \"white\", \"startlinecolor\": \"#2a3f5f\"}, \"baxis\": {\"endlinecolor\": \"#2a3f5f\", \"gridcolor\": \"white\", \"linecolor\": \"white\", \"minorgridcolor\": \"white\", \"startlinecolor\": \"#2a3f5f\"}, \"type\": \"carpet\"}], \"choropleth\": [{\"colorbar\": {\"outlinewidth\": 0, \"ticks\": \"\"}, \"type\": \"choropleth\"}], \"contour\": [{\"colorbar\": {\"outlinewidth\": 0, \"ticks\": \"\"}, \"colorscale\": [[0.0, \"#0d0887\"], [0.1111111111111111, \"#46039f\"], [0.2222222222222222, \"#7201a8\"], [0.3333333333333333, \"#9c179e\"], [0.4444444444444444, \"#bd3786\"], [0.5555555555555556, \"#d8576b\"], [0.6666666666666666, \"#ed7953\"], [0.7777777777777778, \"#fb9f3a\"], [0.8888888888888888, \"#fdca26\"], [1.0, \"#f0f921\"]], \"type\": \"contour\"}], \"contourcarpet\": [{\"colorbar\": {\"outlinewidth\": 0, \"ticks\": \"\"}, \"type\": \"contourcarpet\"}], \"heatmap\": [{\"colorbar\": {\"outlinewidth\": 0, \"ticks\": \"\"}, \"colorscale\": [[0.0, \"#0d0887\"], [0.1111111111111111, \"#46039f\"], [0.2222222222222222, \"#7201a8\"], [0.3333333333333333, \"#9c179e\"], [0.4444444444444444, \"#bd3786\"], [0.5555555555555556, \"#d8576b\"], [0.6666666666666666, \"#ed7953\"], [0.7777777777777778, \"#fb9f3a\"], [0.8888888888888888, \"#fdca26\"], [1.0, \"#f0f921\"]], \"type\": \"heatmap\"}], \"heatmapgl\": [{\"colorbar\": {\"outlinewidth\": 0, \"ticks\": \"\"}, \"colorscale\": [[0.0, \"#0d0887\"], [0.1111111111111111, \"#46039f\"], [0.2222222222222222, \"#7201a8\"], [0.3333333333333333, \"#9c179e\"], [0.4444444444444444, \"#bd3786\"], [0.5555555555555556, \"#d8576b\"], [0.6666666666666666, \"#ed7953\"], [0.7777777777777778, \"#fb9f3a\"], [0.8888888888888888, \"#fdca26\"], [1.0, \"#f0f921\"]], \"type\": \"heatmapgl\"}], \"histogram\": [{\"marker\": {\"colorbar\": {\"outlinewidth\": 0, \"ticks\": \"\"}}, \"type\": \"histogram\"}], \"histogram2d\": [{\"colorbar\": {\"outlinewidth\": 0, \"ticks\": \"\"}, \"colorscale\": [[0.0, \"#0d0887\"], [0.1111111111111111, \"#46039f\"], [0.2222222222222222, \"#7201a8\"], [0.3333333333333333, \"#9c179e\"], [0.4444444444444444, \"#bd3786\"], [0.5555555555555556, \"#d8576b\"], [0.6666666666666666, \"#ed7953\"], [0.7777777777777778, \"#fb9f3a\"], [0.8888888888888888, \"#fdca26\"], [1.0, \"#f0f921\"]], \"type\": \"histogram2d\"}], \"histogram2dcontour\": [{\"colorbar\": {\"outlinewidth\": 0, \"ticks\": \"\"}, \"colorscale\": [[0.0, \"#0d0887\"], [0.1111111111111111, \"#46039f\"], [0.2222222222222222, \"#7201a8\"], [0.3333333333333333, \"#9c179e\"], [0.4444444444444444, \"#bd3786\"], [0.5555555555555556, \"#d8576b\"], [0.6666666666666666, \"#ed7953\"], [0.7777777777777778, \"#fb9f3a\"], [0.8888888888888888, \"#fdca26\"], [1.0, \"#f0f921\"]], \"type\": \"histogram2dcontour\"}], \"mesh3d\": [{\"colorbar\": {\"outlinewidth\": 0, \"ticks\": \"\"}, \"type\": \"mesh3d\"}], \"parcoords\": [{\"line\": {\"colorbar\": {\"outlinewidth\": 0, \"ticks\": \"\"}}, \"type\": \"parcoords\"}], \"pie\": [{\"automargin\": true, \"type\": \"pie\"}], \"scatter\": [{\"marker\": {\"colorbar\": {\"outlinewidth\": 0, \"ticks\": \"\"}}, \"type\": \"scatter\"}], \"scatter3d\": [{\"line\": {\"colorbar\": {\"outlinewidth\": 0, \"ticks\": \"\"}}, \"marker\": {\"colorbar\": {\"outlinewidth\": 0, \"ticks\": \"\"}}, \"type\": \"scatter3d\"}], \"scattercarpet\": [{\"marker\": {\"colorbar\": {\"outlinewidth\": 0, \"ticks\": \"\"}}, \"type\": \"scattercarpet\"}], \"scattergeo\": [{\"marker\": {\"colorbar\": {\"outlinewidth\": 0, \"ticks\": \"\"}}, \"type\": \"scattergeo\"}], \"scattergl\": [{\"marker\": {\"colorbar\": {\"outlinewidth\": 0, \"ticks\": \"\"}}, \"type\": \"scattergl\"}], \"scattermapbox\": [{\"marker\": {\"colorbar\": {\"outlinewidth\": 0, \"ticks\": \"\"}}, \"type\": \"scattermapbox\"}], \"scatterpolar\": [{\"marker\": {\"colorbar\": {\"outlinewidth\": 0, \"ticks\": \"\"}}, \"type\": \"scatterpolar\"}], \"scatterpolargl\": [{\"marker\": {\"colorbar\": {\"outlinewidth\": 0, \"ticks\": \"\"}}, \"type\": \"scatterpolargl\"}], \"scatterternary\": [{\"marker\": {\"colorbar\": {\"outlinewidth\": 0, \"ticks\": \"\"}}, \"type\": \"scatterternary\"}], \"surface\": [{\"colorbar\": {\"outlinewidth\": 0, \"ticks\": \"\"}, \"colorscale\": [[0.0, \"#0d0887\"], [0.1111111111111111, \"#46039f\"], [0.2222222222222222, \"#7201a8\"], [0.3333333333333333, \"#9c179e\"], [0.4444444444444444, \"#bd3786\"], [0.5555555555555556, \"#d8576b\"], [0.6666666666666666, \"#ed7953\"], [0.7777777777777778, \"#fb9f3a\"], [0.8888888888888888, \"#fdca26\"], [1.0, \"#f0f921\"]], \"type\": \"surface\"}], \"table\": [{\"cells\": {\"fill\": {\"color\": \"#EBF0F8\"}, \"line\": {\"color\": \"white\"}}, \"header\": {\"fill\": {\"color\": \"#C8D4E3\"}, \"line\": {\"color\": \"white\"}}, \"type\": \"table\"}]}, \"layout\": {\"annotationdefaults\": {\"arrowcolor\": \"#2a3f5f\", \"arrowhead\": 0, \"arrowwidth\": 1}, \"autotypenumbers\": \"strict\", \"coloraxis\": {\"colorbar\": {\"outlinewidth\": 0, \"ticks\": \"\"}}, \"colorscale\": {\"diverging\": [[0, \"#8e0152\"], [0.1, \"#c51b7d\"], [0.2, \"#de77ae\"], [0.3, \"#f1b6da\"], [0.4, \"#fde0ef\"], [0.5, \"#f7f7f7\"], [0.6, \"#e6f5d0\"], [0.7, \"#b8e186\"], [0.8, \"#7fbc41\"], [0.9, \"#4d9221\"], [1, \"#276419\"]], \"sequential\": [[0.0, \"#0d0887\"], [0.1111111111111111, \"#46039f\"], [0.2222222222222222, \"#7201a8\"], [0.3333333333333333, \"#9c179e\"], [0.4444444444444444, \"#bd3786\"], [0.5555555555555556, \"#d8576b\"], [0.6666666666666666, \"#ed7953\"], [0.7777777777777778, \"#fb9f3a\"], [0.8888888888888888, \"#fdca26\"], [1.0, \"#f0f921\"]], \"sequentialminus\": [[0.0, \"#0d0887\"], [0.1111111111111111, \"#46039f\"], [0.2222222222222222, \"#7201a8\"], [0.3333333333333333, \"#9c179e\"], [0.4444444444444444, \"#bd3786\"], [0.5555555555555556, \"#d8576b\"], [0.6666666666666666, \"#ed7953\"], [0.7777777777777778, \"#fb9f3a\"], [0.8888888888888888, \"#fdca26\"], [1.0, \"#f0f921\"]]}, \"colorway\": [\"#636efa\", \"#EF553B\", \"#00cc96\", \"#ab63fa\", \"#FFA15A\", \"#19d3f3\", \"#FF6692\", \"#B6E880\", \"#FF97FF\", \"#FECB52\"], \"font\": {\"color\": \"#2a3f5f\"}, \"geo\": {\"bgcolor\": \"white\", \"lakecolor\": \"white\", \"landcolor\": \"#E5ECF6\", \"showlakes\": true, \"showland\": true, \"subunitcolor\": \"white\"}, \"hoverlabel\": {\"align\": \"left\"}, \"hovermode\": \"closest\", \"mapbox\": {\"style\": \"light\"}, \"paper_bgcolor\": \"white\", \"plot_bgcolor\": \"#E5ECF6\", \"polar\": {\"angularaxis\": {\"gridcolor\": \"white\", \"linecolor\": \"white\", \"ticks\": \"\"}, \"bgcolor\": \"#E5ECF6\", \"radialaxis\": {\"gridcolor\": \"white\", \"linecolor\": \"white\", \"ticks\": \"\"}}, \"scene\": {\"xaxis\": {\"backgroundcolor\": \"#E5ECF6\", \"gridcolor\": \"white\", \"gridwidth\": 2, \"linecolor\": \"white\", \"showbackground\": true, \"ticks\": \"\", \"zerolinecolor\": \"white\"}, \"yaxis\": {\"backgroundcolor\": \"#E5ECF6\", \"gridcolor\": \"white\", \"gridwidth\": 2, \"linecolor\": \"white\", \"showbackground\": true, \"ticks\": \"\", \"zerolinecolor\": \"white\"}, \"zaxis\": {\"backgroundcolor\": \"#E5ECF6\", \"gridcolor\": \"white\", \"gridwidth\": 2, \"linecolor\": \"white\", \"showbackground\": true, \"ticks\": \"\", \"zerolinecolor\": \"white\"}}, \"shapedefaults\": {\"line\": {\"color\": \"#2a3f5f\"}}, \"ternary\": {\"aaxis\": {\"gridcolor\": \"white\", \"linecolor\": \"white\", \"ticks\": \"\"}, \"baxis\": {\"gridcolor\": \"white\", \"linecolor\": \"white\", \"ticks\": \"\"}, \"bgcolor\": \"#E5ECF6\", \"caxis\": {\"gridcolor\": \"white\", \"linecolor\": \"white\", \"ticks\": \"\"}}, \"title\": {\"x\": 0.05}, \"xaxis\": {\"automargin\": true, \"gridcolor\": \"white\", \"linecolor\": \"white\", \"ticks\": \"\", \"title\": {\"standoff\": 15}, \"zerolinecolor\": \"white\", \"zerolinewidth\": 2}, \"yaxis\": {\"automargin\": true, \"gridcolor\": \"white\", \"linecolor\": \"white\", \"ticks\": \"\", \"title\": {\"standoff\": 15}, \"zerolinecolor\": \"white\", \"zerolinewidth\": 2}}}, \"title\": {\"text\": \"Ground Water level of Rohini Khola (2001-2015)\"}, \"xaxis\": {\"anchor\": \"y\", \"domain\": [0.0, 1.0], \"title\": {\"text\": \"Months\"}}, \"yaxis\": {\"anchor\": \"x\", \"autorange\": \"reversed\", \"domain\": [0.0, 1.0], \"range\": [-1, 10], \"title\": {\"text\": \"Groundwater in mbgl\"}}},                        {\"responsive\": true}                    ).then(function(){\n",
       "                            \n",
       "var gd = document.getElementById('33e30996-1fca-490d-a93e-5c3494c1b1af');\n",
       "var x = new MutationObserver(function (mutations, observer) {{\n",
       "        var display = window.getComputedStyle(gd).display;\n",
       "        if (!display || display === 'none') {{\n",
       "            console.log([gd, 'removed!']);\n",
       "            Plotly.purge(gd);\n",
       "            observer.disconnect();\n",
       "        }}\n",
       "}});\n",
       "\n",
       "// Listen for the removal of the full notebook cells\n",
       "var notebookContainer = gd.closest('#notebook-container');\n",
       "if (notebookContainer) {{\n",
       "    x.observe(notebookContainer, {childList: true});\n",
       "}}\n",
       "\n",
       "// Listen for the clearing of the current output cell\n",
       "var outputEl = gd.closest('.output');\n",
       "if (outputEl) {{\n",
       "    x.observe(outputEl, {childList: true});\n",
       "}}\n",
       "\n",
       "                        })                };                });            </script>        </div>"
      ]
     },
     "metadata": {},
     "output_type": "display_data"
    }
   ],
   "source": [
    "        # title =  title_wells[wells[0]]\n",
    "        \n",
    "x = [\"#440154\" ,\"#481B6D\" ,\"#46337E\", \"#3F4889\" ,\"#365C8D\", \"#2E6E8E\", \"#277F8E\",\n",
    "             \"#21908C\", \"#1FA187\", \"#2DB27D\", \"#4AC16D\", \"#71CF57\", \"#9FDA3A\", \"#CFE11C\", \"#FDE725\"]\n",
    "\n",
    "colors = {}\n",
    "years_in_cols = data['year'].unique().tolist()\n",
    "for i in range(len(years_in_cols)):\n",
    "    colors = {i: j for i,j in zip(years_in_cols, x)}\n",
    "            # print(colors)\n",
    "fig = px.line(data, x= 'month',y = 'value', color = 'year', color_discrete_map= colors)\n",
    "              \n",
    "            # for d in fig['data']:\n",
    "            #     print(d)\n",
    "            #     d['line']['color']='grey'\n",
    "            # fig = go.Figure(data=go.Scatter(x=data[\"month\"], y=data['value'], color = data['year']), \n",
    "            # layout = go.Layout(margin = {'l':0, 't': 25, 'r' : 0, 'l' : 0}))\n",
    "fig.update_layout(title=f'Ground Water level of {title} (2001-2015)',\n",
    "                   xaxis_title='Months',\n",
    "                   yaxis_title='Groundwater in mbgl',\n",
    "                   yaxis_range=[-1,10]),\n",
    "                   \n",
    "fig.update_yaxes(autorange=\"reversed\")\n",
    "fig.show()"
   ]
  },
  {
   "cell_type": "code",
   "execution_count": null,
   "id": "7d6e36dc",
   "metadata": {},
   "outputs": [],
   "source": []
  }
 ],
 "metadata": {
  "kernelspec": {
   "display_name": "Python 3",
   "language": "python",
   "name": "python3"
  },
  "language_info": {
   "codemirror_mode": {
    "name": "ipython",
    "version": 3
   },
   "file_extension": ".py",
   "mimetype": "text/x-python",
   "name": "python",
   "nbconvert_exporter": "python",
   "pygments_lexer": "ipython3",
   "version": "3.8.2"
  }
 },
 "nbformat": 4,
 "nbformat_minor": 5
}
